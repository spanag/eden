{
 "cells": [
  {
   "cell_type": "markdown",
   "metadata": {},
   "source": [
    "# EDEN extension: `VariableRequirement`\n",
    "\n",
    "As we have seen in [Introduction to LEMS]( intro_lems.ipynb ), for each type of mechanism, there are certain quantities that it can access, whose values are provided by the nearby environment as per the NeuroML formulation.  However, we (will always) need more to model uncommon, or *entirely novel* interactions in our mechamisms.  Hence, we need a way for mechanisms to be possibly influenced by any *arbitrary quantity* that exists in our model.\n",
    "\n",
    "EDEN makes this possible through the `<VariableRequirement>` tag.  This tag may be present inside a [LEMS component]( intro_lems.ipynb ), among the standard `<Requirement>`s that are fulfilled in the classic NeuroML way.  \n",
    "\n",
    "The value that a `<VariableRequirement>` provides at any point in time is that of its *target*.  That could be any state variable, that's specified through a [LEMS path]( extension_paths.rst ).\n",
    "\n",
    "**Tip**: This concept is also known as `POINTER` s when using the NEURON simulator, and as `linked` variables when using BRIAN.  But there is a difference as follows:\n",
    "\n",
    "* Under EDEN's rules, the quantities can be *observed* but not *modified* directly, since that could cause unpredictable results between users of the variable.  If modifying an observed variable is needed nonetheless, this can be achieved by firing spikes to synaptic components, that may then modify the same value through [\\<𝚆𝚛𝚒𝚝𝚊𝚋𝚕𝚎𝚁𝚎𝚚𝚞𝚒𝚛𝚎𝚖𝚎𝚗𝚝\\>]( extension_writable.ipynb ).  \n",
    "(By the way, the same 'read-only' rule applies for CoreNEURON among other high-speed simulators.)"
   ]
  },
  {
   "cell_type": "markdown",
   "metadata": {},
   "source": [
    "## Usage\n",
    "\n",
    "After specifying a `<VariableRequirement>` in a LEMS mechanism, all that remains to resolve its *target*.  Since they exist beyond the classic LEMS specification, and any value that they could have depends on the model that they exist in, the target has to be specified for every single instance using [<𝙴𝚍𝚎𝚗𝙲𝚞𝚜𝚝𝚘𝚖𝚂𝚎𝚝𝚞𝚙>]( extension_customsetup.ipynb ).  Instead of a numerical value with units, a [LEMS path]( extension_paths.rst ) is assigned as the *target* (immediate \"value\" in a sense) of every `<VariableRequirement>` property that exists in the model.\n",
    "\n",
    "**Note**: Any `<VariableRequirement>` that has not been resolved will yield a `NaN` value, that will propagate to all the state and derived variables that it touches.\n",
    "This may seem frustrating at first, but it ensures that *all* references are accounted for;  lax tracking of references has often been a cause of difficult to trace mistakes in the past.\n",
    "\n",
    "In later versions, EDEN may thoroughly scan for unresolved `<Reference>`s and refuse to run the model until they are resolved, instead reporting the locations of missing references to the user.\n",
    "<!-- LATER with bounds checking and reverse index. -->"
   ]
  },
  {
   "cell_type": "markdown",
   "metadata": {},
   "source": [
    "## Examples\n",
    "\n",
    "As `<VariableRequirement>`s by their nature get to be used in highly model-specific ways, it is not so easy to single out one simple and general example of use.  However, they are instrumental in the functioning of many models that are included in this guide.  The interested user may refer to, among others, these straightforward uses:\n",
    "\n",
    "* Accessing the variables of a `<EdenTimeSeriesReader>` [input stream]( extension_io.ipynb#Example:-An-arbitrary-pulse-current-probe ).\n",
    "* Exchanging the ball and paddle positions with the requested control forces between the playing field and the players, in the [Pong example]( example_pong.ipynb#Implementing-the-playing-field ).\n",
    "\n",
    "<!-- NEXT planar method. -->"
   ]
  },
  {
   "cell_type": "markdown",
   "metadata": {
    "nbsphinx": "hidden"
   },
   "source": [
    "---\n",
    "\n",
    "As a final step, let's clean up after the files left behind."
   ]
  },
  {
   "cell_type": "code",
   "execution_count": null,
   "metadata": {
    "nbsphinx": "hidden"
   },
   "outputs": [],
   "source": [
    "import os, shutil\n",
    "for name in os.listdir('.'):\n",
    "    if  (  name.endswith('.xml')\n",
    "        or name.endswith('.nml')\n",
    "        or '.gen.' in name ):\n",
    "        try: os.remove(name)\n",
    "        except Error: shutil.rmtree(name, ignore_errors=False)\n",
    "# for name in os.listdir('.'): print(name)"
   ]
  }
 ],
 "metadata": {
  "kernelspec": {
   "display_name": "Python 3 (ipykernel)",
   "language": "python",
   "name": "python3"
  },
  "language_info": {
   "codemirror_mode": {
    "name": "ipython",
    "version": 3
   },
   "file_extension": ".py",
   "mimetype": "text/x-python",
   "name": "python",
   "nbconvert_exporter": "python",
   "pygments_lexer": "ipython3",
   "version": "3.11.4"
  }
 },
 "nbformat": 4,
 "nbformat_minor": 4
}
