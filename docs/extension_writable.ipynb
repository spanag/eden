{
 "cells": [
  {
   "cell_type": "markdown",
   "metadata": {},
   "source": [
    "# LEMS extension: `<WritableRequirement>`\n",
    "\n",
    "In the NeuroML formulation, a neuron may be influenced by external mechanisms (such as synapses and input sources) that inject it with current (or chemical substances, when using pure LEMS or EDEN's [Multiflux extension]( extension_multiflux.ipynb )).  The neuron receives inward flows as *aggregates* for each chemical species of interest, and its state is influenced by every aggregate.\n",
    "\n",
    "However, there exist neuron models where a synapse may *instantly* and *non-linearly* alter a neuron's internal state, in a way that changes the effect of other synapses (for example, fast saturation effects).  EDEN allows such types of instant synpse-to-neuron effects through the `<WritableRequirement>` extension to [LEMS]( intro_lems.ipynb#The-\"components\"-of-a-ComponentType ) `<ComponentType>` dynamics.  \n",
    "\n",
    "**Note**: At the moment, this feature is only supported for synapses attached to point neurons.\n"
   ]
  },
  {
   "cell_type": "markdown",
   "metadata": {},
   "source": [
    "## The `<WritableRequirement>` tag\n",
    "\n",
    "`<WritableRequirement>` tags look much like `<Requirement>`s, with required `name` and `dimension` attributes.  The difference is that they can also be *assigned* values from the mechanism requiring them — even though they exist in another!\n",
    "\n",
    "Assigning a value to a `<WritableRequirement>` is done with a `<StateAssignment>`; where the `variable` name typically refers to a `<StateVariable>` of the same mechanism, a `<WritableRequirement>` of another mechanism's quantity may be used instead."
   ]
  },
  {
   "cell_type": "markdown",
   "metadata": {},
   "source": [
    "Examples using `<WritableRequirement>` will be provided soon, stay tuned.  Until then, see a usage example in EDEN's [program tests]( https://gitlab.com/c7859/neurocomputing-lab/Inferior_OliveEMC/eden/-/blob/main/testing/validation_tests/neuroml/EdenTest_Extension_WritableRequirement.nml ) which shows how set a \"trigger flag\" of a *cell* from a *synapse*."
   ]
  }
 ],
 "metadata": {
  "kernelspec": {
   "display_name": "Python 3 (ipykernel)",
   "language": "python",
   "name": "python3"
  },
  "language_info": {
   "codemirror_mode": {
    "name": "ipython",
    "version": 3
   },
   "file_extension": ".py",
   "mimetype": "text/x-python",
   "name": "python",
   "nbconvert_exporter": "python",
   "pygments_lexer": "ipython3",
   "version": "3.11.4"
  }
 },
 "nbformat": 4,
 "nbformat_minor": 4
}
