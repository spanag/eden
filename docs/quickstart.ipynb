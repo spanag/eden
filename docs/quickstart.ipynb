{
 "cells": [
  {
   "cell_type": "markdown",
   "id": "60b0ce3a-70e4-43a7-ab6c-f41d462b6bb6",
   "metadata": {},
   "source": [
    "# Quickstart\n",
    "This is a rapid introduction on how to immediately install and use EDEN, fetch a simple model, and get results.  \n",
    "More details about each step can be found in the [user's guide]."
   ]
  },
  {
   "cell_type": "markdown",
   "id": "6b93dd20-96a6-4483-a574-642309776780",
   "metadata": {},
   "source": [
    "## Get EDEN\n",
    "The easiest way to install EDEN is as a [Python package], which contains EDEN along with helpful routines to use it with Python.  \n",
    "\n",
    "Note that EDEN can also be used fine with other programming languages such as MATLAB or Octave, R and even LabVIEW (examples are coming soon); in fact any language can be used, since EDEN is a as a stand-alone program communicating through files and data streams."
   ]
  },
  {
   "cell_type": "code",
   "execution_count": null,
   "id": "95ed7473-772f-4eb9-80e3-eaac6d1a2644",
   "metadata": {},
   "outputs": [],
   "source": [
    "%pip install eden_simulator\n",
    "import eden_simulator"
   ]
  },
  {
   "cell_type": "markdown",
   "id": "9368c711-84d4-4ba8-badd-001759c36362",
   "metadata": {},
   "source": [
    "---\n",
    "## Get a NeuroML model\n",
    "EDEN runs neural models described in the [NeuroML 2]( http://neuroml.org ) format. Users can acquire such models from [many online sources], customise them  and even [build their own] for their experiments.  \n",
    "\n",
    "To begin, let's simulate a single neuron modelled classic Hodgkin-Huxley equations. We can get this from [the OpensourceBrain repository]( http://github.com/OpenSourceBrain/hh-testing ).\n",
    "\n",
    "<!-- http://github.com/OpenSourceBrain/hh-testing/zipball/master/ -->\n",
    "TODO hide the other notebooks, isolate?"
   ]
  },
  {
   "cell_type": "code",
   "execution_count": null,
   "id": "617b8586-95b9-4c9d-85e8-24af5828c816",
   "metadata": {},
   "outputs": [],
   "source": [
    "# Download the zip file with the model\n",
    "import urllib.request\n",
    "urllib.request.urlretrieve('https://codeload.github.com/OpenSourceBrain/hh-testing/zip/refs/heads/master', 'hh.zip')\n",
    "# and unpack it\n",
    "from zipfile import ZipFile\n",
    "with ZipFile('hh.zip', 'r') as zipp: zipp.extractall()\n",
    "# Check which files are present now\n",
    "from os import listdir; listdir()"
   ]
  },
  {
   "cell_type": "markdown",
   "id": "d102c204-27e0-4277-949d-4ff919ff8ebd",
   "metadata": {},
   "source": [
    "If all went right, there should be a new folder `hh-testing-master` next to this notebook.  \n",
    "Inside it there should be a `NeuroML2` folder containing the description of our model. The reevant files are of types `.nml` and `.xml`:  "
   ]
  },
  {
   "cell_type": "code",
   "execution_count": null,
   "id": "112fef4d-d38a-4a79-9ad8-a8d075569ace",
   "metadata": {},
   "outputs": [],
   "source": [
    "nml_folder = 'hh-testing-master/NeuroML2/'\n",
    "listdir(nml_folder)"
   ]
  },
  {
   "cell_type": "markdown",
   "id": "6946ba04-e4fd-4d9f-8505-396d931ce8a4",
   "metadata": {},
   "source": [
    "---\n",
    "## Run the NeuroML model with EDEN\n",
    "\n",
    "There is the following distinction between files:\n",
    "- `.nml` files describe the modelled network, neurons and their parts;\n",
    "- `LEMS_<something>.xml` files describe meta-parameters about the simulation, such as how long to run it for, and which curves (or rasters) we want to keep from this simulation.\n",
    "\n",
    "Let's now run the `LEMS_hh.xml` file that specifies a simulation:"
   ]
  },
  {
   "cell_type": "code",
   "execution_count": null,
   "id": "a33148bf-fa56-4bea-b693-402db3b27fcc",
   "metadata": {},
   "outputs": [],
   "source": [
    "sim_filename = nml_folder+\"LEMS_hh.xml\"\n",
    "sim_data = eden_simulator.runEden(sim_filename)"
   ]
  },
  {
   "cell_type": "markdown",
   "id": "8e2b8835-a7a8-4adb-918a-68c3c37f7de8",
   "metadata": {},
   "source": [
    "---\n",
    "## Show the results\n",
    "\n",
    "From the last code cell that ran the simulation, we got a variable `sim_data`.  What is it, what does it contain?"
   ]
  },
  {
   "cell_type": "code",
   "execution_count": null,
   "id": "3e8bacff-fc47-4a45-8db4-f2ab286a43d8",
   "metadata": {},
   "outputs": [],
   "source": [
    "print(sim_data)"
   ]
  },
  {
   "cell_type": "markdown",
   "id": "a5d5995a-417e-4c19-89ce-8fcb6d44aebd",
   "metadata": {},
   "source": [
    "It looks like it returned a `dict` with two entries, `pop/0/hh/v` and `t`.  The latter represents time throughout the simulation, and the former seems to be a voltage of a HH cell -- most likely the one we just simulated.\n",
    "\n",
    "So then, we can plot membrane voltage versus time and get the classic waveform of the HH model:"
   ]
  },
  {
   "cell_type": "code",
   "execution_count": null,
   "id": "d565c350-d4c1-41ae-bda9-f9a9196ebe49",
   "metadata": {},
   "outputs": [],
   "source": [
    "from matplotlib import pyplot as plt\n",
    "plt.figure(figsize=[10,7]); plt.plot(sim_data['t'], sim_data['pop/0/hh/v']);\n",
    "plt.ylabel(\"Membrane voltage (V)\"); plt.xlabel(\"Time (sec)\"); plt.show()"
   ]
  },
  {
   "cell_type": "markdown",
   "id": "cc57d8ed-984c-41fd-b987-b6eae8c73846",
   "metadata": {},
   "source": [
    "Note that voltage is produced in `volts` and time in `seconds`. Unless [specified otherwise], EDEN outputs results in [fundamental units]( https://en.wikipedia.org/wiki/SI_derived_unit ) for compatibility with [other NeuroML tools]."
   ]
  },
  {
   "cell_type": "markdown",
   "id": "13814cb9-48b9-4160-8e0a-84f766ca33ed",
   "metadata": {},
   "source": [
    "## Done!\n",
    "\n",
    "Following this tutorial, you may try out the [Building a network] tutorial, read [more of the guide], see [more tutorials] or the [full list of examples]."
   ]
  },
  {
   "cell_type": "markdown",
   "id": "2f6c60ae-ce33-46df-bd51-f7e3dd7dbd75",
   "metadata": {},
   "source": [
    "---\n",
    "### Appendix\n",
    "\n",
    "In the interest of curiosity, we can inspect these NeuroML files that gave us this nice electical waveform of the classic HH cell.\n",
    "These files are made up of machine-readable text, in the [XML]( https://www.tutorialspoint.com/xml/xml_overview.htm ) format.\n",
    "They are a bit on the verbose side, but there is good reason:\n",
    "1. The model's description is _explicit_, _complete_ and _unambiguous_; all equations, parameters, and interactions that define the model are included in the `.nml` file.\n",
    "2. Descriptions being _explicit_ allows for very diverse range of models to be expressed in NeuroML -- from abstract integrate-and-fire neurons, to anatomically detailed Purkinje cells at the electrophysiological level.\n",
    "\n",
    "The user guide exmplains how to [construct NeuroML networks] in further detail.  More information about the NeuroML format can be found out in [NeuroML resources]."
   ]
  },
  {
   "cell_type": "markdown",
   "id": "ad6a8098-442e-47e7-8269-5d27b3d93dd3",
   "metadata": {},
   "source": [
    "This is the `.xml` file that specified our simulation: (Note the `target` and `<simulation>` tags.)"
   ]
  },
  {
   "cell_type": "code",
   "execution_count": null,
   "id": "1f0a4550-f83f-4782-ac9c-19899a44c9b5",
   "metadata": {},
   "outputs": [],
   "source": [
    "from IPython.display import Code\n",
    "Code(filename=f'{nml_folder}/LEMS_hh.xml', language='xml')"
   ]
  },
  {
   "cell_type": "markdown",
   "id": "5fbe893b-5466-4864-9f25-0ed746385434",
   "metadata": {},
   "source": [
    "And this is the `.nml` model that we simulated, it contains the structure and biophysical parameters of the cell and the single-cell \"network\" to be simulated. (Note the `<ionChannel>`, `<cell>` and `<network>` tags.)"
   ]
  },
  {
   "cell_type": "code",
   "execution_count": null,
   "id": "40f036fa-cf6d-4204-8bfb-0669423d9e72",
   "metadata": {},
   "outputs": [],
   "source": [
    "Code(filename=f'{nml_folder}/hh.nml', language='xml')"
   ]
  }
 ],
 "metadata": {
  "kernelspec": {
   "display_name": "Python 3 (ipykernel)",
   "language": "python",
   "name": "python3"
  },
  "language_info": {
   "codemirror_mode": {
    "name": "ipython",
    "version": 3
   },
   "file_extension": ".py",
   "mimetype": "text/x-python",
   "name": "python",
   "nbconvert_exporter": "python",
   "pygments_lexer": "ipython3",
   "version": "3.11.4"
  }
 },
 "nbformat": 4,
 "nbformat_minor": 5
}
