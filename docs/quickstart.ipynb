{
 "cells": [
  {
   "cell_type": "markdown",
   "metadata": {},
   "source": [
    "# Quickstart\n",
    "This is a rapid introduction on how to immediately install and use EDEN, fetch a simple model, and get results.  \n",
    "More details about each step can be found in the [user's guide]( user_guide.rst )."
   ]
  },
  {
   "cell_type": "markdown",
   "metadata": {},
   "source": [
    "## Get EDEN\n",
    "The easiest way to install EDEN is as a [Python package]( https://pypi.org/project/eden-simulator/ ), which contains EDEN along with helpful routines to use it with Python.  \n",
    "\n",
    "Note that EDEN can also be used fine with other programming languages such as MATLAB or Octave, R and even LabVIEW (examples are coming soon); in fact any language can be used, since EDEN is a as a stand-alone program communicating through files and data streams."
   ]
  },
  {
   "cell_type": "code",
   "execution_count": null,
   "metadata": {},
   "outputs": [],
   "source": [
    "%pip install eden_simulator\n",
    "import eden_simulator"
   ]
  },
  {
   "cell_type": "markdown",
   "metadata": {},
   "source": [
    "---\n",
    "## Get a NeuroML model\n",
    "EDEN runs neural models described in the [NeuroML 2]( https://neuroml.org ) format. Users can acquire such models from [many online sources]( faq.rst#where-can-i-find-neuroml-models ), customise them and even [build their own]( gallery.rst ) for their experiments.  \n",
    "\n",
    "To begin, let's simulate a single neuron modelled classic Hodgkin-Huxley equations. We can get this from [the OpenSourceBrain repository]( https://github.com/OpenSourceBrain/hh-testing ).\n",
    "\n",
    "<!-- https://github.com/OpenSourceBrain/hh-testing/zipball/master/ -->\n",
    "<!-- LATER hide the other notebooks, isolate? -->"
   ]
  },
  {
   "cell_type": "code",
   "execution_count": null,
   "metadata": {},
   "outputs": [],
   "source": [
    "# Download the zip file with the model\n",
    "import urllib.request\n",
    "urllib.request.urlretrieve('https://codeload.github.com/OpenSourceBrain/hh-testing/zip/refs/heads/master', 'hh.zip')\n",
    "# and unpack it\n",
    "from zipfile import ZipFile\n",
    "with ZipFile('hh.zip', 'r') as zipp: zipp.extractall()\n",
    "# Check which files are present now\n",
    "from os import listdir; # listdir() <-- unhide me !"
   ]
  },
  {
   "cell_type": "markdown",
   "metadata": {},
   "source": [
    "If all went right, there should be a new folder `hh-testing-master` next to this notebook.  \n",
    "Inside it there should be a `NeuroML2` folder containing the description of our model. The reevant files are of types `.nml` and `.xml`:  "
   ]
  },
  {
   "cell_type": "code",
   "execution_count": null,
   "metadata": {},
   "outputs": [],
   "source": [
    "nml_folder = 'hh-testing-master/NeuroML2/'\n",
    "listdir(nml_folder)"
   ]
  },
  {
   "cell_type": "markdown",
   "metadata": {},
   "source": [
    "---\n",
    "## Run the NeuroML model with EDEN\n",
    "\n",
    "There is the following distinction between files:\n",
    "\n",
    "- `.nml` files describe the modelled network, neurons and their parts;\n",
    "- `LEMS_<something>.xml` files describe meta-parameters about the simulation, such as how long to run it for, and which curves (or rasters) we want to keep from this simulation.\n",
    "\n",
    "Let's now run the `LEMS_hh.xml` file that specifies a simulation:"
   ]
  },
  {
   "cell_type": "code",
   "execution_count": null,
   "metadata": {},
   "outputs": [],
   "source": [
    "sim_filename = nml_folder+\"LEMS_hh.xml\"\n",
    "sim_data = eden_simulator.runEden(sim_filename)"
   ]
  },
  {
   "cell_type": "markdown",
   "metadata": {},
   "source": [
    "---\n",
    "## Show the results\n",
    "\n",
    "From the last code cell that ran the simulation, we got a variable `sim_data`.  What is it, what does it contain?"
   ]
  },
  {
   "cell_type": "code",
   "execution_count": null,
   "metadata": {},
   "outputs": [],
   "source": [
    "print(sim_data)"
   ]
  },
  {
   "cell_type": "markdown",
   "metadata": {},
   "source": [
    "It looks like it returned a `dict` with two entries, `pop/0/hh/v` and `t`.  The latter represents time throughout the simulation, and the former seems to be a voltage of a HH cell -- most likely the one we just simulated.\n",
    "\n",
    "So then, we can plot membrane voltage versus time and get the classic waveform of the HH model:"
   ]
  },
  {
   "cell_type": "code",
   "execution_count": null,
   "metadata": {},
   "outputs": [],
   "source": [
    "from matplotlib import pyplot as plt\n",
    "plt.figure(figsize=[10,7]); plt.plot(sim_data['t'], sim_data['pop/0/hh/v']);\n",
    "plt.ylabel(\"Membrane voltage (V)\"); plt.xlabel(\"Time (sec)\"); plt.show()"
   ]
  },
  {
   "cell_type": "markdown",
   "metadata": {},
   "source": [
    "Note that voltage is produced in `volts` and time in `seconds`. Unless [specified otherwise]( extension_io.ipynb ), EDEN outputs results in [SI units]( https://en.wikipedia.org/wiki/SI_derived_unit ) for compatibility with [other NeuroML tools]( faq.rst#which-other-tools-can-i-use-neuroml-with )."
   ]
  },
  {
   "cell_type": "markdown",
   "metadata": {},
   "source": [
    "## Done!\n",
    "\n",
    "Following this tutorial, you may continue with a more in-depth [introduction to NeuroML]( intro_neuroml.ipynb ), read [more of the guide]( user_guide.rst ), see [more tutorials]( user_guide.rst#usage-examples ) or the [full list of examples]( gallery.rst )."
   ]
  },
  {
   "cell_type": "markdown",
   "metadata": {},
   "source": [
    "---\n",
    "### Appendix\n",
    "\n",
    "In the interest of curiosity, we can inspect these NeuroML files that gave us this nice electical waveform of the classic HH cell.\n",
    "These files are made up of machine-readable text, in the [XML]( https://www.tutorialspoint.com/xml/xml_overview.htm ) format.\n",
    "They are a bit on the verbose side, but there is good reason:\n",
    "\n",
    "1. The model's description is _explicit_, _complete_ and _unambiguous_; all equations, parameters, and interactions that define the model are included in the `.nml` file.\n",
    "2. Descriptions being _explicit_ allows for very diverse range of models to be expressed in NeuroML -- from abstract integrate-and-fire neurons, to anatomically detailed Purkinje cells at the electrophysiological level.\n",
    "\n",
    "The [user guide]( user_guide.rst ) explains how to construct [NeuroML networks]( intro_neuroml.ipynb ) and [custom mechanisms]( intro_lems.ipynb ) in further detail.  More information about the NeuroML format can be found in [NeuroML resources]( faq.rst#neuroml-resources )."
   ]
  },
  {
   "cell_type": "raw",
   "metadata": {
    "raw_mimetype": "text/latex"
   },
   "source": [
    "% nb sphinx latex will fail to build PIython.display.Code because the Verbatim control sequences are undefined *somehow* even though sphinxVerbatim works fine, don't ask .%..\n",
    "\\iffalse"
   ]
  },
  {
   "cell_type": "markdown",
   "metadata": {},
   "source": [
    "This is the `.xml` file that specified our simulation: (Note the `target` and `<simulation>` tags.)"
   ]
  },
  {
   "cell_type": "code",
   "execution_count": null,
   "metadata": {},
   "outputs": [],
   "source": [
    "from IPython.display import Code\n",
    "Code(filename=f'{nml_folder}/LEMS_hh.xml', language='xml')"
   ]
  },
  {
   "cell_type": "markdown",
   "metadata": {},
   "source": [
    "And this is the `.nml` model that we simulated, it contains the structure and biophysical parameters of the cell and the single-cell \"network\" to be simulated. (Note the `<ionChannel>`, `<cell>` and `<network>` tags.)"
   ]
  },
  {
   "cell_type": "code",
   "execution_count": null,
   "metadata": {},
   "outputs": [],
   "source": [
    "Code(filename=f'{nml_folder}/hh.nml', language='xml')"
   ]
  },
  {
   "cell_type": "raw",
   "metadata": {
    "raw_mimetype": "text/latex"
   },
   "source": [
    "\\fi"
   ]
  }
 ],
 "metadata": {
  "kernelspec": {
   "display_name": "Python 3 (ipykernel)",
   "language": "python",
   "name": "python3"
  },
  "language_info": {
   "codemirror_mode": {
    "name": "ipython",
    "version": 3
   },
   "file_extension": ".py",
   "mimetype": "text/x-python",
   "name": "python",
   "nbconvert_exporter": "python",
   "pygments_lexer": "ipython3",
   "version": "3.11.4"
  }
 },
 "nbformat": 4,
 "nbformat_minor": 4
}
