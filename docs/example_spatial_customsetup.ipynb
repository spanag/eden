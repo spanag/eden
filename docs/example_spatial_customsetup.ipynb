{
 "cells": [
  {
   "cell_type": "markdown",
   "metadata": {},
   "source": [
    "# Arbitrary parameters on spatially detailed cells\n",
    "\n",
    "It is often the case that biophysical properties *vary spatially* across the spatial extent of a neuron.  NeuroML has a provision for modelling the variability of the base conductance( $\\bar g$ ) of ion channel distributions, as a user-specified function of distance from the soma (measured along neurites).  Still, modellers may desire more types of variability, and on different parameters as well.\n",
    "This article shows how Eden's [<𝙲𝚞𝚜𝚝𝚘𝚖𝚂𝚎𝚝𝚞𝚙>]( extension_customsetup.ipynb ) extension can be used to model any kind of variability, on any attribute of a mechanism present on [spatially-detailed cells]( intro_spatial.ipynb ).\n",
    "<!-- LATER all of them to the last? -->\n",
    "\n",
    "As seen on the [main article]( extension_customsetup.ipynb ) about this extension, the model attributes of neurons can be customised in any conceivable way through `set cell` [statements]( extension_customsetup.ipynb#set-cell-statement ). For point neurons, the *location list* is always `all`.  For spatially-detailed cell models, the list can be much more specific - and we'll see right now how to use it. \n",
    "\n",
    "<div class=\"alert alert-info\">\n",
    "Note\n",
    "    \n",
    "This feature is still in development.\n",
    "</div>"
   ]
  },
  {
   "cell_type": "markdown",
   "metadata": {},
   "source": [
    "First, let's get a sample cell to try variability on:"
   ]
  },
  {
   "cell_type": "code",
   "execution_count": null,
   "metadata": {},
   "outputs": [],
   "source": [
    "nmldb_cell_name = 'NMLCL000001'; zip_file_name = f'{nmldb_cell_name}.zip'\n",
    "# Download the zip file with the model\n",
    "import urllib.request\n",
    "# Because NMLDB is hoving some issues with HTTPS, don't demand HTTPS verification\n",
    "import ssl; ssl._create_default_https_context = ssl._create_unverified_context\n",
    "urllib.request.urlretrieve(f'http://neuroml-db.org/GetModelZip?modelID={nmldb_cell_name}&version=NeuroML', zip_file_name)\n",
    "# and unpack it\n",
    "from zipfile import ZipFile\n",
    "with ZipFile(zip_file_name, 'r') as zipp: zipp.extractall(nmldb_cell_name+'/')\n",
    "# Find the cell's .nml file\n",
    "import os\n",
    "cell_filenames = [ nmldb_cell_name+'/'+name for name in os.listdir(nmldb_cell_name) if name.endswith('.cell.nml') ]\n",
    "assert len(cell_filenames) == 1, \"Didn't find a lonely cell nml file!\"; cell_filename = cell_filenames[0]"
   ]
  },
  {
   "cell_type": "markdown",
   "metadata": {},
   "source": [
    "## Sampling the cell's morphology\n",
    "\n",
    "Let's get some facts about the neuron on which we'll define variability:"
   ]
  },
  {
   "cell_type": "code",
   "execution_count": null,
   "metadata": {},
   "outputs": [],
   "source": [
    "import eden_simulator\n",
    "cells_info = eden_simulator.experimental.explain_cell(cell_filenames[0])\n",
    "# one cell in the model file, get it\n",
    "cell_info = list(cells_info.values())[0]\n",
    "nComps = len(cell_info['comp_midpoint'])\n",
    "comp_midpoint = cell_info['comp_midpoint']\n",
    "# list(cell_info.keys())"
   ]
  },
  {
   "cell_type": "markdown",
   "metadata": {},
   "source": [
    "As mentioned in a [previous chapter]( intro_spatial.ipynb ), spatially-modelled cells eventually have to be split into discrete *compartments*, within which every biophysical quantity is considered to have the same value.  Hence, spatially-varying quantities on a modelled cell may be assigned values that differ for only individual compartments.  \n",
    "**Note**: This is the way that *any* distribution, deterministic or stochastic, of parameters can be faithfully applied on neurons; the particular values are entirely controlled by the modeller. \n",
    "\n",
    "Given the information from `explain_cell`, it is straightforward to write the `set cell` statement: Set the *location list* field as a comma-separated list of `seg.fractionAlong` [cell locators]( extension_paths.rst#lems-paths-for-cell-locations ), and add as desired for variability, `multi` (to `set` one cell) or `multi_location`, `multi_cell` or  `multi_multi` (for multiple cells in a go), and the `values` lines that follow.\n",
    "\n",
    "<div class=\"alert alert-info\">\n",
    "Note\n",
    "\n",
    "When overriding parameters over spans of the neuron, make sure to *not* miss any spots (especially for [<𝚅𝚊𝚛𝚒𝚊𝚋𝚕𝚎𝚁𝚎𝚚𝚞𝚒𝚛𝚎𝚖𝚎𝚗𝚝>]( extension_customsetup.ipynb#Setting-VariableRequirements )s!).  \n",
    "A reliable way is using [explain_cell]( python_api.rst#eden_simulator.experimental.explain_cell ) as shown here to get `cell-info`the list of compartments and their `segment`+`fractionAlong` midpoints, and the list of compartments per segment group of interest as `cell_info['segment_groups'][groupName]`.\n",
    "</div>\n",
    "\n",
    "The following examples will show how to implement different frequently used distributions for biophysical parameters.  In all cases, variability within a cell boils down to a vector of values, one for each compartment.  Here's a helper routine to write a [CustomSetup]( extension_customsetup.ipynb#set-cell-statement ) file, that `set`s a `cell` with different values all over:"
   ]
  },
  {
   "cell_type": "code",
   "execution_count": null,
   "metadata": {},
   "outputs": [],
   "source": [
    "def set_cell_vals(cell_info, popname, instances, attribute, vals, units):\n",
    "    locs = ','.join([str(loc) for loc in eden_simulator.experimental.GetLemsLocatorsForCell(cell_info)])\n",
    "    lines = f'set cell {popname} {instances} {locs} {attribute} multi {units}\\n'\\\n",
    "        'values '+'\\t'.join(map(str,vals))+'\\n'\n",
    "    return lines"
   ]
  },
  {
   "cell_type": "markdown",
   "metadata": {},
   "source": [
    "In the following, we'll use these routines to visualise the different cases of variability over the neuron. We'll use [PyVista]( https://pyvista.org ) for 3-D graphics, and EDEN's helper [pyvista.plot_neuron]( python_api.rst#eden_simulator.display.spatial.pyvista.get_neuron_mesh ) to colour a mesh per compartment."
   ]
  },
  {
   "cell_type": "code",
   "execution_count": null,
   "metadata": {},
   "outputs": [],
   "source": [
    "def plot_neuron(cell_info, vals, valsname, cmap=None, bgcol=None):\n",
    "    import pyvista as pv\n",
    "    from eden_simulator.display.spatial.pyvista  import get_neuron_mesh\n",
    "    mesh = get_neuron_mesh(cell_info)\n",
    "    mesh[valsname] = vals\n",
    "    \n",
    "    pl = pv.Plotter();\n",
    "    pl.add_mesh(mesh, clim = None,cmap=cmap)\n",
    "    pl.background_color = \"#fefefe\"\n",
    "    if bgcol: pl.background_color = bgcol\n",
    "    \n",
    "    pl.camera.position = (000, 150, +1050)\n",
    "    pl.camera.focal_point = (0.2, 0.3, -5.3)\n",
    "    pl.camera.up = (0.0, 1., 1.)\n",
    "    pl.camera.zoom(.8)\n",
    "    # pl.camera.position = (1000, 150, -50)\n",
    "    # pl.camera.focal_point = (0.2, 150.3, -50.3)\n",
    "    # pl.camera.up = (0.0, 1.0, 0.6)\n",
    "    # pl.camera.zoom(.8)\n",
    "    return pl, mesh\n",
    "def show_plot(pl):\n",
    "    # displays won't show except with this trick... https://github.com/pyvista/pyvista/pull/5168\n",
    "    import types\n",
    "    scene = pl.show(jupyter_backend=\"html\", return_viewer=True)\n",
    "    scene_wrapper = types.SimpleNamespace(scene=scene,\n",
    "        _repr_html_=lambda : scene.value if hasattr(scene,'value') else '')\n",
    "    return scene_wrapper"
   ]
  },
  {
   "cell_type": "markdown",
   "metadata": {},
   "source": [
    "## Variability as distance from a plane\n",
    "\n",
    "One may wish to model a quantity with a *lateral* distribution over the neuron; that is to say, a quantity whose value is increasing (or decreasing) towards a certain *direction*.  Let $\\hat{\\mathbf{n}}$ be the [*unit vector*]( https://en.wikipedia.org/wiki/Unit_vector ) pointing to that direction.\n",
    "\n",
    "Then one can assume a signed *directional distance metric* from a reference point $\\mathbf{p}_0$, for every point in space $\\mathbf{x}$, as follows:\n",
    "$$\n",
    "d_{\\hat{\\mathbf{n}},\\mathbf{p}_0}(\\mathbf{x}) = (\\mathbf{x} - \\mathbf{p}_0) \\boldsymbol{\\cdot} \\hat{\\mathbf{n}}\n",
    "$$\n",
    "\n",
    "which can be converted to \"quantity\" units as desired.  Note that $d$ has the same value over every *plane* perpendicular to $\\hat{\\mathbf{n}}$.\n",
    "\n",
    "Let's sample $d$ for the midpoint of each compartment and see the result."
   ]
  },
  {
   "cell_type": "code",
   "execution_count": null,
   "metadata": {},
   "outputs": [],
   "source": [
    "import numpy as np\n",
    "from numpy.linalg import norm\n",
    "def unit_vec(v): return v / norm(v, axis=-1) \n",
    "def dist_by_plane(point_0, dist_direction, sample_points):\n",
    "    n = unit_vec(dist_direction)\n",
    "    return (sample_points - point_0).dot(n)\n",
    "# Try n = [1,0,0] also\n",
    "vals = dist_by_plane([0,0,0], [0,1,0], comp_midpoint)\n",
    "pl,_ = plot_neuron(cell_info, vals, 'Distance from plane (μm)','reds','azure')\n",
    "Plot_Vert = pl; Show_Vert = show_plot(pl); Show_Vert"
   ]
  },
  {
   "cell_type": "raw",
   "metadata": {
    "raw_mimetype": "text/latex"
   },
   "source": [
    "\\noindent\\sphinxincludegraphics[width=0.9\\textwidth]{{_static/example_spatial_customsetup_vert}.png}"
   ]
  },
  {
   "cell_type": "markdown",
   "metadata": {},
   "source": [
    "## Variability as distance from an axle\n",
    "\n",
    "Another sort of spatial distribution is as a function of *transverse distance* from an axle (designated by a reference point $\\mathbf{p}_0$ on the axle and a direction vector $\\hat{\\mathbf{n}}$).  The *transverse* distance vector is thus:\n",
    "$$\n",
    "{\\mathbf{d}}_{\\perp,\\hat{\\mathbf{n}},\\mathbf{p}_0}(\\mathbf{x}) = \\mathbf{r} - (\\mathbf{r} \\boldsymbol{\\cdot} \\hat{\\mathbf{n}}) \\hat{\\mathbf{n}} , ~ \\mathbf{r} = \\mathbf{x} - \\mathbf{p}_0\n",
    "$$\n",
    "\n",
    "in which case, the distance is the same over each *tube* centered at the axle.\n",
    "\n",
    "Let's distribute the *reversal potential* $E_{_{Na}}$ of the ion chanel distribution `Na_all` as a function of that, then:"
   ]
  },
  {
   "cell_type": "code",
   "execution_count": null,
   "metadata": {},
   "outputs": [],
   "source": [
    "def dist_by_axle(p0, axle_direction, x):\n",
    "    n = unit_vec(axle_direction)\n",
    "    d = (x - p0)\n",
    "    aligned =  d.dot(n)[:,None]*n[None,:]\n",
    "    return norm(d - aligned, axis=-1)\n",
    "\n",
    "vals = dist_by_axle([0,0,0], [0,1,0], comp_midpoint) * (10/100) + 40\n",
    "pl,_ = plot_neuron(cell_info, vals, 'Reversal Potential (mV)','blues','gray')\n",
    "with open('cell_axle.txt', 'w') as f:\n",
    "    f.write(set_cell_vals(cell_info, 'pop', 'all', 'biophysicalProperties/membraneProperties/Na_all/erev', vals, 'mV'))\n",
    "Plot_Axle = pl; Show_Axle = show_plot(pl); Show_Axle"
   ]
  },
  {
   "cell_type": "raw",
   "metadata": {
    "raw_mimetype": "text/latex"
   },
   "source": [
    "\\noindent\\sphinxincludegraphics[width=0.9\\textwidth]{{_static/example_spatial_customsetup_axle}.png}"
   ]
  },
  {
   "cell_type": "markdown",
   "metadata": {},
   "source": [
    "## Variability as by distance from a point in space\n",
    "\n",
    "A simpler type of distribution is *radial distance* from a reference point $\\mathbf{p}_0$, that's simply ${\\mathbf{d}} = \\mathbf{x} - \\mathbf{p}_0$.  In this case, the distance is the same over each *sphere* centered at $\\mathbf{p}_0$.\n",
    "\n",
    "Let's distribute the *base conductivity* $\\bar{g}_{_{Na}}$ of `Na_all` as a function of euclidean distance from a reference point:"
   ]
  },
  {
   "cell_type": "code",
   "execution_count": null,
   "metadata": {},
   "outputs": [],
   "source": [
    "def dist_by_point(p0, x):\n",
    "    return norm(x - p0, axis=-1)\n",
    "\n",
    "vals = dist_by_point([0,100,0], comp_midpoint) * (3/10) + 10\n",
    "pl,_ = plot_neuron(cell_info, vals, 'Conductance Density (S/cm²)','Greens','gray')\n",
    "with open('cell_dist.txt', 'w') as f:\n",
    "    f.write(set_cell_vals(cell_info, 'pop', 'all', 'biophysicalProperties/membraneProperties/Na_all/condDensity', vals, 'S_per_cm2'))\n",
    "Plot_Dist = pl; Show_Dist = show_plot(pl); Show_Dist"
   ]
  },
  {
   "cell_type": "raw",
   "metadata": {
    "raw_mimetype": "text/latex"
   },
   "source": [
    "\\noindent\\sphinxincludegraphics[width=0.9\\textwidth]{{_static/example_spatial_customsetup_dist}.png}"
   ]
  },
  {
   "cell_type": "markdown",
   "metadata": {},
   "source": [
    "## Randomised parameters\n",
    "\n",
    "Finally, a quantity may simply exhibit a slight variation which could follow any random distribution.  As mentioned in the [previous article]( extension_customsetup.ipynb ), it's often better to assume some variation across neuron and mechanism instances, though this will also require more memory to store the variability.\n",
    "\n",
    "For example, the *steady-state concentration* of a [\\<𝚍𝚎𝚌𝚊𝚢𝚒𝚗𝚐𝙿𝚘𝚘𝚕𝙲𝚘𝚗𝚌𝚎𝚗𝚝𝚛𝚊𝚝𝚒𝚘𝚗𝙼𝚘𝚍𝚎𝚕\\>]( https://docs.neuroml.org/Userdocs/Schemas/Cells.html#decayingpoolconcentrationmodel ) used for a `<species>` [distribution]( intro_spatial.ipynb#Adding-concentration-models-near-the-membrane )  may vary following an uniform distribution:"
   ]
  },
  {
   "cell_type": "code",
   "execution_count": null,
   "metadata": {},
   "outputs": [],
   "source": [
    "rng = np.random.default_rng(seed=43264326)\n",
    "vals = rng.uniform(0,100,nComps)\n",
    "\n",
    "pl,_ = plot_neuron(cell_info, vals, 'Steady-state [Ca²⁺] (nM)','RdPu','azure')\n",
    "with open('cell_rand.txt', 'w') as f:\n",
    "    f.write(set_cell_vals(cell_info, 'pop', 'all', 'biophysicalProperties/intracellularProperties/ca_conc_all/restingConc', vals, 'nM'))\n",
    "Plot_Rand = pl; Show_Rand = show_plot(pl); Show_Rand"
   ]
  },
  {
   "cell_type": "raw",
   "metadata": {
    "raw_mimetype": "text/latex"
   },
   "source": [
    "\\noindent\\sphinxincludegraphics[width=0.9\\textwidth]{{_static/example_spatial_customsetup_rand}.png}"
   ]
  },
  {
   "cell_type": "markdown",
   "metadata": {},
   "source": [
    "Beside the above suggestions, a distribution may depdend on multiple factors, always following the intent of the modeller (or undisputed biophysical findings).  By evaluating the values of quantities for each compartment, distributions can be implemented in the simulation with full precision.\n",
    "\n",
    "<!-- ## Specifying variability across a `<SegmentGroup>` NEXT\n",
    "\n",
    "somewhere: also across one group only!\n",
    "Note that the type, ignoring that apply per element and not for the cell type itself. -->"
   ]
  },
  {
   "cell_type": "markdown",
   "metadata": {},
   "source": [
    "## Aside for NEURON users\n",
    "\n",
    "Readers familiar with the NEURON simulator may have assigned spatial variability for parameters over the cell, with [𝚂𝚞𝚋𝚜𝚎𝚝𝙳𝚘𝚖𝚊𝚒𝚗𝙸𝚝𝚎𝚛𝚊𝚝𝚘𝚛]( https://nrn.readthedocs.io/en/8.2.6/guide/cellbuilder3.html ) or in the general case through HOC code (or the equvalent Python):\n",
    "```\n",
    "forsec <section_name or all>{\n",
    "\tfor(x){\n",
    "\t\t// x is fraction along section for the compartment, and area(x), ri(x), x,y,z3d(x) and others are properties of the compartment.\n",
    "\t\t// Users can then set RANGE properties however they like based on the above properties.\n",
    "\t}\n",
    "}\n",
    "```\n",
    "\n",
    "As shown, EDEN provides a similar mode of setting variability, albeit in a 'flatter' way.  `explain_cell` provides a list of per compartments and associated quantities over the whole cell, thus *one* loop over the explicitly listed compartments equates to `forsec ... for(x) ...` in HOC.  Variability over a section is then done by iterating only over the appropriate subset of compartments, provided by `cell_info['segment_groups'][groupName]` for the section's named `<segmentGroup>`."
   ]
  },
  {
   "cell_type": "markdown",
   "metadata": {
    "nbsphinx": "hidden"
   },
   "source": [
    "---\n",
    "Now as the last thing, we'll fetch screenshots to use in the documentation's [example gallery]( https://eden-simulator.org/gallery.html ) and hard-copy version."
   ]
  },
  {
   "cell_type": "code",
   "execution_count": null,
   "metadata": {
    "nbsphinx": "hidden"
   },
   "outputs": [],
   "source": [
    "for pl, name in zip(\n",
    "    [Plot_Vert, Plot_Axle, Plot_Dist, Plot_Rand],\n",
    "    ['vert', 'axle', 'dist', 'rand']\n",
    "):\n",
    "    # # Hide scalar bar\n",
    "    # list(pl.scalar_bars.values())[0].VisibilityOff()\n",
    "    # # Change render size\n",
    "    # pl.window_size = [1200,1200]\n",
    "    # Set camera\n",
    "    # pl.camera.position = (1000, 150, -50)\n",
    "    # pl.camera.focal_point = (0.2, 150.3, -50.3)\n",
    "    # pl.camera.up = (0.0, -1.0, 0.6)\n",
    "    # pl.camera.zoom(.8)\n",
    "    pl._on_first_render_request(); pl.render()\n",
    "    pl.screenshot(f'_static/example_spatial_customsetup_{name}.png', transparent_background=False, scale=1) # NB: scale is int only, just set to whatever"
   ]
  },
  {
   "cell_type": "code",
   "execution_count": null,
   "metadata": {
    "nbsphinx": "hidden"
   },
   "outputs": [],
   "source": [
    "frames = []\n",
    "for pl in [Plot_Vert, Plot_Axle, Plot_Dist, Plot_Rand]:\n",
    "    # Hide scalar bar\n",
    "    list(pl.scalar_bars.values())[0].VisibilityOff()\n",
    "    # Change render size\n",
    "    pl.camera.zoom('tight')\n",
    "    pl.window_size = [600,600]\n",
    "    # Set camera\n",
    "    pl.camera.position = (800, 150, -50)\n",
    "    pl.camera.focal_point = (0.2, 150.3, -50.3)\n",
    "    pl.camera.up = (0.0, 1.0, 0.6)\n",
    "    pl.background_color = 'k'\n",
    "    pl.camera.zoom(1.6)\n",
    "    # for whatever reason, updating the camera after show() needs this to apply the change\n",
    "    pl._on_first_render_request(); pl.render()\n",
    "    frames.append(pl.screenshot())\n",
    "x= frames\n",
    "im = np.hstack(np.hstack([[x[0],x[1]],[x[2],x[3]]]))\n",
    "im.shape\n",
    "from PIL import Image\n",
    "im = Image.fromarray(im)\n",
    "def crop(x, ltrb):\n",
    "    l,t,r,b = ltrb\n",
    "    return x.crop((int(l*x.size[0]), int(t*x.size[1]), int((1-r)*x.size[0]), int((1-b)*x.size[1])))\n",
    "display(im)\n",
    "thumb = crop(im, (0,0,0.1,0))\n",
    "thumb.thumbnail((240, 200))\n",
    "display(thumb)\n",
    "thumb.save('_static/thumb_example_spatial_customsetup.png')\n",
    "# im = np.block([[],[]])"
   ]
  },
  {
   "cell_type": "code",
   "execution_count": null,
   "metadata": {
    "nbsphinx": "hidden"
   },
   "outputs": [],
   "source": [
    "import io\n",
    "outbuf = io.BytesIO()\n",
    "frame_data = [Image.fromarray(x) for x in frames]\n",
    "frame_data[0].save(outbuf, format='gif', save_all=True, append_images=frame_data[1:], duration=100, loop=0)\n",
    "print('GIF size:',len(outbuf.getvalue()))\n",
    "with open('_static/example_spatial_customsetup.gif','wb') as f: f.write(outbuf.getvalue())"
   ]
  },
  {
   "cell_type": "markdown",
   "metadata": {
    "nbsphinx": "hidden"
   },
   "source": [
    "And minimise the widgets of the plots."
   ]
  },
  {
   "cell_type": "code",
   "execution_count": null,
   "metadata": {
    "nbsphinx": "hidden"
   },
   "outputs": [],
   "source": [
    "for pl in [Show_Vert, Show_Axle, Show_Dist, Show_Rand]:\n",
    "    pl.scene.value = ''\n",
    "    print(len(pl.scene.value))"
   ]
  }
 ],
 "metadata": {
  "kernelspec": {
   "display_name": "Python 3 (ipykernel)",
   "language": "python",
   "name": "python3"
  },
  "language_info": {
   "codemirror_mode": {
    "name": "ipython",
    "version": 3
   },
   "file_extension": ".py",
   "mimetype": "text/x-python",
   "name": "python",
   "nbconvert_exporter": "python",
   "pygments_lexer": "ipython3",
   "version": "3.11.4"
  }
 },
 "nbformat": 4,
 "nbformat_minor": 4
}
