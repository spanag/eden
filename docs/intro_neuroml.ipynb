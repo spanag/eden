{
 "cells": [
  {
   "cell_type": "markdown",
   "metadata": {},
   "source": [
    "# NeuroML basics\n",
    "\n",
    "\n"
   ]
  },
  {
   "cell_type": "markdown",
   "metadata": {},
   "source": [
    "The program that this user guide is about, EDEN, simulates the activity of [spiking neural networks]( https://en.wikipedia.org/wiki/Spiking_neural_network ).  The models of such networks and their neurons are described in [NeuroML]( http://neuroml.org ), which is a [neural modelling]( https://en.wikipedia.org/wiki/Computational_neuroscience ) language in the [XML]( https://en.wikibooks.org/wiki/XML_-_Managing_Data_Exchange ) format.  EDEN then works by reading NeuroML files and crunchingg the numbers the model described in these files.\n",
    "\n",
    "This article will explain how models are written in NeuroML, and how to use EDEN to simulate them. The various parts of a NeuroML simulation are introduced one after the other, in the following sections."
   ]
  },
  {
   "cell_type": "markdown",
   "metadata": {},
   "source": [
    "## Creating a simulation"
   ]
  },
  {
   "cell_type": "markdown",
   "metadata": {},
   "source": [
    "First of all, to set up a [NeuroML]( http://neuroml.org ) simulation and \"run\" it, it takes:\n",
    "\n",
    "* a NeuroML `network` that contains all the things to simulate;\n",
    "* a `simulation` that contains the parameters of how to simulate said things (i.e. for how long, what to observe and such).\n",
    "\n",
    "These are created by writing down their descriptions as text-based, XML files, for [various]( https://docs.neuroml.org/Userdocs/Software/Software.html ) [programs]( https://docs.neuroml.org/Userdocs/Software/SupportingTools.html ) to read back.\n",
    "\n",
    "Let's now see how to write the smallest possible `network` and `simulation`.\n",
    "\n",
    "<!-- for a simulation, what's needed is:\n",
    "a network simulation ...\n",
    "empty simulation, explain each parm\n",
    "a neuron flatline\n",
    "a stim!\n",
    "another neuron\n",
    "a synapse!\n",
    "another population\n",
    "another synapse -->\n",
    "\n",
    "In the following, the `%%writefile` line is a [Jupyter magic]( https://ipython.readthedocs.io/en/stable/interactive/magics.html#cellmagic-writefile ) so that when this [code cell]( https://jupyter-notebook.readthedocs.io/en/stable/examples/Notebook/Running%20Code.html ) is run, the specified *file* will be (over)written with the contents as follows in the cell. \n",
    "<div class=\"alert alert-info\">\n",
    "Tip\n",
    "\n",
    "We'll be changing the model files through the tutorial to show different features.  \n",
    "When running the notebook, if you want to re-run a previous section, make sure to overwrite the `%%writefile` cells to that point before re-running the simulation.\n",
    "</div>"
   ]
  },
  {
   "cell_type": "code",
   "execution_count": null,
   "metadata": {
    "vscode": {
     "languageId": "xml"
    }
   },
   "outputs": [],
   "source": [
    "%%writefile EmptyModel.nml\n",
    "<!-- These properties on the top level <neuroml> tag are just to positively identify the file as NeuroML.  They are not mandatory -->\n",
    "<neuroml xmlns=\"http://www.neuroml.org/schema/neuroml2\"  xmlns:xs=\"http://www.w3.org/2001/XMLSchema\" xmlns:xsi=\"http://www.w3.org/2001/XMLSchema-instance\" xsi:schemaLocation=\"http://www.neuroml.org/schema/neuroml2 https://raw.github.com/NeuroML/NeuroML2/development/Schemas/NeuroML2/NeuroML_v2.1.xsd\">\n",
    "<!-- Here comes the network -->\n",
    "<!-- set the temperature to that you think your model is running under (depends on the species, whether it's cold blooded) -->\n",
    "<network id=\"MyNetwork\" type=\"networkWithTemperature\" temperature=\"37degC\" >\n",
    "<!-- Nothing here yet -->\n",
    "</network>\n",
    "</neuroml>"
   ]
  },
  {
   "cell_type": "markdown",
   "metadata": {},
   "source": [
    "And the simulation file (see also the [NeuroML guide]( https://docs.neuroml.org/Userdocs/LEMSSimulation.html )) pointing to the `EmptyModel`, by convention there is one file for the `<Simulation>` and one for the `<network>`:"
   ]
  },
  {
   "cell_type": "code",
   "execution_count": null,
   "metadata": {},
   "outputs": [],
   "source": [
    "%%writefile LEMS_EmptySim.xml\n",
    "<?xml version=\"1.0\" encoding =\"UTF-8\" ?>\n",
    "<Lems>\n",
    "<!-- we will be <include>ing the nml file with MyNetwork -->\n",
    "<include file=\"EmptyModel.nml\" />\n",
    "<!-- the Simulation is the main content, it needs a duration and a timestep.  It involves a certain \"target\" <network> -->\n",
    "<Simulation id=\"MySim\" length=\"10 s\" step=\"10 us\" target=\"MyNetwork\" >\n",
    "<!-- Nothing here yet -->\n",
    "</Simulation>\n",
    "<!-- Just in case there are multiple <Simulation>s described, specify the one to run here -->\n",
    "<Target component=\"MySim\"/>\n",
    "</Lems>"
   ]
  },
  {
   "cell_type": "markdown",
   "metadata": {},
   "source": [
    "Now let's run this completely minimal simulation.\n",
    "\n",
    "EDEN can be used from Python with the `eden_simulator` [package]( https://pypi.org/project/eden-simulator ), just `pip install` it if you haven't already in [Quickstart]( quickstart.ipynb ):"
   ]
  },
  {
   "cell_type": "code",
   "execution_count": null,
   "metadata": {},
   "outputs": [],
   "source": [
    "from eden_simulator import runEden\n",
    "%time runEden('LEMS_EmptySim.xml');"
   ]
  },
  {
   "cell_type": "markdown",
   "metadata": {},
   "source": [
    "Now let's see how we can make it a tad more interesting."
   ]
  },
  {
   "cell_type": "markdown",
   "metadata": {},
   "source": [
    "## Adding a neuron and recording output\n",
    "\n",
    "The first step to define a neural model is to define a neuron.  Let's add a neuron to the model and see how it behaves.\n",
    "\n",
    "This is done by defining the neuron model as a cell type, and adding to the `<network>` a `<population>` with cells of said cell type (called the `component` for this `<population>`).\n",
    "\n",
    "Instead of specifying the cell type from scratch, we'll use the common [linear integrate-and fire model]( https://en.wikipedia.org/wiki/Biological_neuron_model#Leaky_integrate-and-fire ) as a base, and supply our own dynamical parameters for it.\n",
    "This cell type can be found in the standard NeuroML library as [&lt;iafCell&gt;]( https://docs.neuroml.org/Userdocs/Schemas/Cells.html#iafcell ) and has parameters `C`(apacitance of cell membrane), `leakConductance` (of membrane), `leakReversal` (potential), `reset` (potential right after firing) and `thresh`(old for firing).  \n",
    "We'll set them as follows: `C = 200 pF, leakConductance = 10 nmho, leakReversal = -70 mV, reset = -70 mV, thresh = -50 mV`.\n",
    "\n",
    "As we'll see in an [in-depth tutorial]( tut_net.ipynb ), the population can also be a `populationList` with specific 3-D positions for each cell, but this is not necessary for simulating the population."
   ]
  },
  {
   "cell_type": "code",
   "execution_count": null,
   "metadata": {
    "vscode": {
     "languageId": "xml"
    }
   },
   "outputs": [],
   "source": [
    "%%writefile SingleCell_Model.nml\n",
    "<!-- These properties on the top level <neuroml> tag are just to positively identify the file as NeuroML.  They are not mandatory -->\n",
    "<neuroml xmlns=\"http://www.neuroml.org/schema/neuroml2\"  xmlns:xs=\"http://www.w3.org/2001/XMLSchema\" xmlns:xsi=\"http://www.w3.org/2001/XMLSchema-instance\" xsi:schemaLocation=\"http://www.neuroml.org/schema/neuroml2 https://raw.github.com/NeuroML/NeuroML2/development/Schemas/NeuroML2/NeuroML_v2.1.xsd\">\n",
    "<!-- Here comes the cell type ❗ -->\n",
    "<iafCell id=\"MyFirstCellType\" C=\"200 pF\" leakConductance=\"10 nS\" leakReversal=\"-70 mV\" reset=\"-70mV\" thresh=\"-50mV\" />\n",
    "<!-- Here comes the network -->\n",
    "<network id=\"MyNetwork\" type=\"networkWithTemperature\" temperature=\"37degC\" >\n",
    "    <!-- Add a population with a single cell ❗ -->\n",
    "    <population id=\"MyFirstPopulation\" component=\"MyFirstCellType\" size=\"1\"/>\n",
    "</network>\n",
    "</neuroml>"
   ]
  },
  {
   "cell_type": "markdown",
   "metadata": {},
   "source": [
    "There are more point neuron types defined in base NeuroML (see for example, [adExIaFCell]( https://docs.neuroml.org/Userdocs/Schemas/Cells.html#adexiafcell ) and [izhikevich2007Cell]( https://docs.neuroml.org/Userdocs/Schemas/Cells.html#izhikevich2007cell )), and custom ones can be built as LEMS components in [a following section]( intro_lems.ipynb ).  \n",
    "\n",
    "More than point neurons, NeuroML and EDEN also support spatially modelled neurons with a detailed morphology and spatial compartments.  Due to the added details and modelling options, these are covered in [a following section]( intro_spatial.ipynb )."
   ]
  },
  {
   "cell_type": "markdown",
   "metadata": {},
   "source": [
    "In order to observe the cell, we'll have to record one of its attributes over time.\n",
    "\n",
    "This is done in the *simulation* file by adding an `<OutputFile>` with `<OutputColumn>`s to the `<Simulation>`.  \n",
    "\n",
    "* Each `OutputColumn` points to a `quantity`, which in the case of simplified neurons is described as `population name[cell number in population starting from 0]/variable`.  (Refer to the [path documentation]( extension_paths.rst ) for more possibilities.)\n",
    "\n",
    "We see (click on \"Dynamics\" [here]( https://docs.neuroml.org/Userdocs/Schemas/Cells.html#iafcell )) that `v` stands for the membrane voltage, let's record that.  \n",
    "Hence we want to record the quantity `MyFirstPopulation[0]/v`.\n",
    "\n",
    "Let's write the new simulation file:"
   ]
  },
  {
   "cell_type": "code",
   "execution_count": null,
   "metadata": {},
   "outputs": [],
   "source": [
    "%%writefile LEMS_SingleCell_Sim.xml\n",
    "<?xml version=\"1.0\" encoding =\"UTF-8\" ?>\n",
    "<Lems>\n",
    "<!-- we will be <include>ing the nml file with the SingleCellModel -->\n",
    "<include file=\"SingleCell_Model.nml\" />\n",
    "<!-- the Simulation is the main content, it needs a duration and a timestep.  It involves a certain \"target\" <network> -->\n",
    "<Simulation id=\"MySim\" length=\"1 s\" step=\"10 us\" target=\"MyNetwork\" >\n",
    "    <!-- Add an OutputFile ❗ -->\n",
    "    <OutputFile id=\"MyFirstOutputFile\" fileName=\"results.gen.txt\">\n",
    "        <OutputColumn id=\"my_first_vm\" quantity=\"MyFirstPopulation[0]/v\"/>\n",
    "    </OutputFile>\n",
    "</Simulation>\n",
    "<!-- Just in case there are multiple <Simulation>s described, specify the one to run here -->\n",
    "<Target component=\"MySim\"/>\n",
    "</Lems>"
   ]
  },
  {
   "cell_type": "markdown",
   "metadata": {},
   "source": [
    "And run the new simulation:"
   ]
  },
  {
   "cell_type": "code",
   "execution_count": null,
   "metadata": {},
   "outputs": [],
   "source": [
    "results = runEden('LEMS_SingleCell_Sim.xml')\n",
    "results"
   ]
  },
  {
   "cell_type": "markdown",
   "metadata": {},
   "source": [
    "The output of Eden is in the form of a `dict`.  Its entries are `t` and the specified `quantity` of each `OutputColumn`, same as when using the general tool [PyNeuroML]( https://github.com/NeuroML/pyNeuroML/ ).\n",
    "\n",
    "The value of `results['t']` stands for the list of recorded points in time for the time series, and every other entry value stands for the trajectory of the respective variable over the sampling points in time.  \n",
    "All values are are in [SI units]( https://en.wikipedia.org/wiki/SI_derived_unit ), that is `seconds` for `t` `volts` for `v`.\n",
    "\n",
    "Let's plot `MyFirstPopulation[0]/v` against `t` then:"
   ]
  },
  {
   "cell_type": "code",
   "execution_count": null,
   "metadata": {},
   "outputs": [],
   "source": [
    "from matplotlib import pyplot as plt; plt.figure(figsize=(4,2))\n",
    "plt.plot(results['t'],results['MyFirstPopulation[0]/v'])\n",
    "plt.xlabel('Time (sec)'); plt.ylabel('Membrane voltage (V)');"
   ]
  },
  {
   "cell_type": "markdown",
   "metadata": {},
   "source": [
    "Apparently this type of neuron doesn't fire intrinsically; it just stays polarised and quiet, producing this electrical flat line.  \n",
    "\n",
    "Other types of neurons fire or osciallate intrinsically, but we'll need to apply some physiological *stimulus* on this one to see its response."
   ]
  },
  {
   "cell_type": "markdown",
   "metadata": {},
   "source": [
    "## Adding stimuli\n",
    "\n",
    "We typically study neurons in isolation, or at least as part of a small piece of tissue.  But neurons normally react to electro-chemical stimuli supplied by other neurons, thus we'll have to provide an artificial \"equivalent\" to study their behaviour. (We can also study the natural response of neurons to their natural stimuli in vivo, but this is much harder to understand and reason about.)\n",
    "\n",
    "A basic way to play with cells is the [current clamp]( https://en.wikipedia.org/wiki/Electrophysiology#Current_clamp ), and in this virtual world we don't even have to worry about injuring the cells.  By injecting \"positive\" current, we can deploarise a cell and cause action potentials. \n",
    "\n",
    "This is done by defining the input's model as an *input source* type, and adding to the `<network>` an `<inputList>` with probes of said source type (called the `component` for this `<inputList>`).  \n",
    "\n",
    "Instead of specifying the input type from scratch (as we'll be doing in a [following section]), we'll use the common *DC pulse* current clamp (flat current injected over a time window) as a base, and supply our own dynamical parameters for it.\n",
    "This input type can be found in the standard NeuroML library as [&lt;pulseGenerator&gt;]( https://docs.neuroml.org/Userdocs/Schemas/Inputs.html#pulsegenerator ) and has parameters `delay` (before the pulse starts), `duration` (of the pulse), and `amplitude`.  \n",
    "We'll set them as follows: `delay = 100 msec, duration = 500 msec, amplitude = 210 pA`.\n",
    "\n",
    "Next, we'll add an `<inputList>` to the `<network>`.  Each `<inputList>` contains one or more copies (called `<input>` instances) of the same input source `component`, and is applied on a certain cell `population`. \n",
    "\n",
    "Each `<input>` has a cell `target` which can be, for example, written as `<population name>[<cell instance number>]`.  (See more about [LEMS paths]( extension_paths.rst#lems-paths-for-input-list-elements ).)\n",
    "It also specifies a `destination` which is at the moment reserved to be the value `synapses` (as in, the input injects current to the cell just like [synapses]( #Adding-more-neurons-and-synapses ) do). \n",
    "Finally, the alternative name `inputW` can also be used to apply a `weight` property on the amplitude of the specific `<input>` instance. (See how it's done [below]( #Adding-a-new-cell-type-and-population )).\n",
    "\n",
    "As we'll see in the folowing chapter on [spatially detailed cells]( intro_spatial.ipynb ), the specific `segment` and `fractionAlong` (the `segment`) to apply the `<input>` on can also be optionally specified, otherwise the `input` will be placed on the \"soma\" of the cell.\n",
    "\n",
    "Let's see then, how to instantiate a current clamp and apply it on the cell in the following."
   ]
  },
  {
   "cell_type": "code",
   "execution_count": null,
   "metadata": {},
   "outputs": [],
   "source": [
    "%%writefile SingleCell_Model.nml\n",
    "<!-- These properties on the top level <neuroml> tag are just to positively identify the file as NeuroML.  They are not mandatory -->\n",
    "<neuroml xmlns=\"http://www.neuroml.org/schema/neuroml2\"  xmlns:xs=\"http://www.w3.org/2001/XMLSchema\" xmlns:xsi=\"http://www.w3.org/2001/XMLSchema-instance\" xsi:schemaLocation=\"http://www.neuroml.org/schema/neuroml2 https://raw.github.com/NeuroML/NeuroML2/development/Schemas/NeuroML2/NeuroML_v2.1.xsd\">\n",
    "<!-- Here comes the cell type -->\n",
    "<iafCell id=\"MyFirstCellType\" C=\"200 pF\" leakConductance=\"10 nS\" leakReversal=\"-70 mV\" reset=\"-70mV\" thresh=\"-50mV\" />\n",
    "<!-- Here comes the input type ❗ -->\n",
    "<pulseGenerator id=\"MyFirstInputSource\" delay=\"100ms\" duration=\"500ms\" amplitude=\"0.21nA\"/>\n",
    "<!-- Here comes the network -->\n",
    "<network id=\"MyNetwork\" type=\"networkWithTemperature\" temperature=\"37degC\" >\n",
    "    <!-- Add a population with a single cell -->\n",
    "    <population id=\"MyFirstPopulation\" component=\"MyFirstCellType\" size=\"1\"/>\n",
    "    <!-- Apply an inputList on the population ❗ -->\n",
    "    <inputList id=\"MyFirstInputList\" population=\"MyFirstPopulation\" component=\"MyFirstInputSource\">\n",
    "        <!-- With one stim placement on it -->\n",
    "        <input id=\"0\" target=\"MyFirstPopulation[0]\" destination=\"synapses\"/>\n",
    "    </inputList>\n",
    "</network>\n",
    "</neuroml>"
   ]
  },
  {
   "cell_type": "markdown",
   "metadata": {},
   "source": [
    "And run the simulation with the updated model file:"
   ]
  },
  {
   "cell_type": "code",
   "execution_count": null,
   "metadata": {},
   "outputs": [],
   "source": [
    "results = runEden('LEMS_SingleCell_Sim.xml')\n",
    "plt.plot(results['t'],results['MyFirstPopulation[0]/v'])\n",
    "plt.xlabel('Time (sec)'); plt.ylabel('Membrane voltage (V)');"
   ]
  },
  {
   "cell_type": "markdown",
   "metadata": {},
   "source": [
    "That's more like it.\n",
    "\n",
    "Change the `amplitude` of the input source (or equivalently [​weight​]( #Adding-more-cell-types-and-spike-sources ) with `inputW`), repeat with the new model files and see how the firing rate changes.  \n",
    "\n",
    "There are more input types defined in base NeuroML (see for example, [ramp]( https://docs.neuroml.org/Userdocs/Schemas/Inputs.html#rampgenerator ) and [sine]( https://docs.neuroml.org/Userdocs/Schemas/Inputs.html#sinegenerator ) current sources and [voltage clamps]( https://docs.neuroml.org/Userdocs/Schemas/Inputs.html#voltageclamp )), and custom ones can be built as LEMS components in [a following section]( intro_lems.ipynb ). "
   ]
  },
  {
   "cell_type": "markdown",
   "metadata": {},
   "source": [
    "## Adding more neurons and synapses\n",
    "\n",
    "This section shows how to make models with *more than one neuron*.  This way, one can explore in detail the mechanism of interaction between a pair of neurons, <!-- LATER (or even a trio as in this [example]( exa_tripartite.ipynb )) --> or set up whole *populations* of neurons in an inter-connected *network* and explore the group dynamics.\n",
    "\n",
    "First of all, let's extend the first population from out previous model to contain *two* neurons this time.  This is quite easy to do, we can just set the `size` of the `population` to what we want.\n",
    "\n",
    "Then, we'll connect these two cells with a *synapse*.\n",
    "\n",
    "This is done by defining the synapse's model as an *synapse type*, and adding to the `<network>` a synaptic `<projection>` with synapses of said type (called the `component` for this `<projection>`).  \n",
    "\n",
    "Instead of specifying the synapse type from scratch (as we'll be doing in a [following section]( intro_lems.ipynb )), we'll use the common *[exponential-decay conductance]( https://neuronaldynamics.epfl.ch/online/Ch3.S1.html#Ch3.E2 )* model as a base, and supply our own dynamical parameters for it.\n",
    "This synapse type can be found in the standard NeuroML library as [&lt;expOneSynapse&gt;]( https://docs.neuroml.org/Userdocs/Schemas/Synapses.html#exponesynapse ) and has parameters `erev`(ersal potential of the active synapse), `gbase`(peak post-synaptic conductance per spike), and `decay` (time constant).  \n",
    "We'll set them as follows: `erev = 0 mV, gbase = 10 nmho, decay = 5 ms` for educational purposes. \n",
    "\n",
    "Next, we'll add a `<projection>` to the `<network>`.  Each `<projection>` contains one or more copies (called `<connection>`s) of the same `synapse` type, and is applied from a certain cell `presynapticPopulation` to a certain `postsynapticPopulation`. \n",
    "\n",
    "Each `<connection>` has a distinct serial `id` and its `pre` and `post` site.  Each site is located using the `CellId` (of the `pre or post` population).\n",
    "The alternative names `connectionW` and `connectionWD` can also be used to apply a `weight` property on the amplitude of the specific `<connection>` for the former, and `weight` as well as propagation `delay` for the latter.\n",
    "\n",
    "As we'll see in the folowing section on [spatially detailed cells]( intro_spatial.ipynb ), the specific `SegmentId` and `FractionAlong` (the `segment`) to apply the `<synapse>` between can also be optionally specified for the `pre` and `post` sites, otherwise the sites will be located on the \"soma\" of each corresponding cell.\n",
    "\n",
    "Fun fact: One can even model a self-synapse that way.\n",
    "\n",
    "Let's see then, how to instantiate a synapse and connect our *two cells* with it in the following. We'll use a huge delay of `10 msec` to make its effect visible.\n"
   ]
  },
  {
   "cell_type": "code",
   "execution_count": null,
   "metadata": {
    "vscode": {
     "languageId": "xml"
    }
   },
   "outputs": [],
   "source": [
    "%%writefile MultiCell_Model.nml\n",
    "<neuroml xmlns=\"http://www.neuroml.org/schema/neuroml2\"  xmlns:xs=\"http://www.w3.org/2001/XMLSchema\" xmlns:xsi=\"http://www.w3.org/2001/XMLSchema-instance\" xsi:schemaLocation=\"http://www.neuroml.org/schema/neuroml2 https://raw.github.com/NeuroML/NeuroML2/development/Schemas/NeuroML2/NeuroML_v2.1.xsd\">\n",
    "<iafCell id=\"MyFirstCellType\" C=\"200 pF\" leakConductance=\"10 nS\" leakReversal=\"-70 mV\" reset=\"-70mV\" thresh=\"-50mV\" />\n",
    "<pulseGenerator id=\"MyFirstInputSource\" delay=\"100ms\" duration=\"500ms\" amplitude=\"0.21nA\"/>\n",
    "\n",
    "<expOneSynapse id=\"MyFirstSynapseType\" gbase=\"10nS\" erev=\"0V\" tauDecay=\"5ms\"/>\n",
    "<network id=\"MyNetwork\" type=\"networkWithTemperature\" temperature=\"37degC\" >\n",
    "\n",
    "    <!-- Add a population with TWO cells ❗ -->\n",
    "    <population id=\"MyFirstPopulation\" component=\"MyFirstCellType\" size=\"2\"/>\n",
    "    \n",
    "    <!-- Apply an inputList on the population -->\n",
    "    <inputList id=\"MyFirstInputList\" population=\"MyFirstPopulation\" component=\"MyFirstInputSource\">\n",
    "        <!-- With one stim placement on it -->\n",
    "        <input id=\"0\" target=\"MyFirstPopulation[0]\" destination=\"synapses\"/>\n",
    "    </inputList>\n",
    "    \n",
    "    <!-- Apply a synaptic projection ❗ -->\n",
    "    <projection id=\"MyFirstApProjection\" presynapticPopulation=\"MyFirstPopulation\" postsynapticPopulation=\"MyFirstPopulation\" synapse=\"MyFirstSynapseType\">\n",
    "        <!-- With one connection on it -->\n",
    "        <connectionWD id=\"0\" preCellId=\"0\" postCellId=\"1\" weight=\"1\" delay=\"10 ms\"/>\n",
    "    </projection>\n",
    "\n",
    "</network>\n",
    "</neuroml>"
   ]
  },
  {
   "cell_type": "markdown",
   "metadata": {},
   "source": [
    "There are more synapse types defined in base NeuroML, (see for example, [alphaCurrentSynapse]( https://docs.neuroml.org/Userdocs/Schemas/Synapses.html#alphacurrentsynapse ) and [expThreeSynapse]( https://docs.neuroml.org/Userdocs/Schemas/Synapses.html#expthreesynapse )), and custom ones can be built as LEMS components in [a following section]( intro_lems.ipynb ).  "
   ]
  },
  {
   "cell_type": "markdown",
   "metadata": {},
   "source": [
    "In order to observe the *two cells*, we'll have to record the new cell as well. This is done by adding one more `<OutputColumn>`s to the `<Simulation>`, as follows:"
   ]
  },
  {
   "cell_type": "code",
   "execution_count": null,
   "metadata": {},
   "outputs": [],
   "source": [
    "%%writefile LEMS_MultiCell_Sim.xml\n",
    "<?xml version=\"1.0\" encoding =\"UTF-8\" ?>\n",
    "<Lems>\n",
    "<include file=\"MultiCell_Model.nml\" />\n",
    "<Simulation id=\"MySim\" length=\"1 s\" step=\"100 us\" target=\"MyNetwork\" >\n",
    "    <OutputFile id=\"MyFirstOutputFile\" fileName=\"results.gen.txt\">\n",
    "        <!-- Add TWO outputColumns, one for each cell ❗ -->\n",
    "        <OutputColumn id=\"my_first_vm\"  quantity=\"MyFirstPopulation[0]/v\"/>\n",
    "        <OutputColumn id=\"my_second_vm\" quantity=\"MyFirstPopulation[1]/v\"/>\n",
    "    </OutputFile>\n",
    "</Simulation>\n",
    "<Target component=\"MySim\"/>\n",
    "</Lems>"
   ]
  },
  {
   "cell_type": "markdown",
   "metadata": {},
   "source": [
    "Let's run this simulation:"
   ]
  },
  {
   "cell_type": "code",
   "execution_count": null,
   "metadata": {},
   "outputs": [],
   "source": [
    "results = runEden('LEMS_MultiCell_Sim.xml')\n",
    "plt.figure(figsize=(10,5))\n",
    "plt.plot(results['t'],results['MyFirstPopulation[0]/v'], label='My first cell')\n",
    "plt.plot(results['t'],results['MyFirstPopulation[1]/v'], label='My second cell')\n",
    "plt.xlabel('Time (sec)'); plt.ylabel('Membrane voltage (V)'); plt.legend(); plt.xlim((0, .8))"
   ]
  },
  {
   "cell_type": "markdown",
   "metadata": {},
   "source": [
    "## Adding more cell types and spike sources\n",
    "\n",
    "There are many SNN models that are formed by one population of similar cells, but there also exist *heterogeneous* networks comprising *multiple populations* of different cells, connected by various *synaptic projections*. Moreover, some of these populations may receive action potentials from extra-model *spike sources*.\n",
    "\n",
    "In this section, we'll introduce another point-neuron type and its corresponding population, see how to access different cell populations, and add some external spike input to our network as well."
   ]
  },
  {
   "cell_type": "markdown",
   "metadata": {},
   "source": [
    "### Adding a new cell type and population\n",
    "Adding another point-neuron type and population is straightforward: We'll introduce the new *neuron type* with a tag outside the `<network>` definition, and add a second population inside the `<network>`, just like we did with our first cell type and population.\n",
    "\n",
    "This time, we'll use the common and very expressive [*Izhikevich cell model*]( https://www.izhikevich.org/publications/spikes.pdf ) (a simple non-linear system that captures many waveform types) as a base, and supply our own dynamical parameters for it.\n",
    "\n",
    "This input type can be found in the standard NeuroML library as [&lt;izhikevich2007Cell&gt;]( https://docs.neuroml.org/Userdocs/Schemas/Cells.html#izhikevich2007cell ) (an update of the original [&lt;izhikevichCell&gt;]( https://docs.neuroml.org/Userdocs/Schemas/Cells.html#izhikevichcell ) model that used mostly dimensionless variables) and has parameters `C`(apacitance), `a` (rate of adaptation), `b` (coupling of adaptation to voltage), `c` (after-spike reset voltage), `d` (after-spike adaptation increment), `k`(onstant of voltage growth rate), `v0` (initial membrane voltage), `vpeak` (max voltage before reset), `vr` (resting membrane potential), and `vt` (threshold potential).  \n",
    "\n",
    "After consulting the Izhikevich model [gallery repo]( https://github.com/OpenSourceBrain/IzhikevichModel/blob/master/NeuroML2/Izh2007Cells.net.nml ) on OpenSourceBrain that shows different activity types with their corresponding parameters, we select the \"Regular Spiking\" activity type and modify it a bit to show interaction between neurons.\n",
    "We'll set them as follows:  \n",
    "`C = 100 pF, a = 0.03 Hz⁻¹, b = -2 nS, c = -50 mV, d = 100 pA, k = 0.7 μS/V, vr = -60 mV, vpeak = 35 mV, vt = -40 mV, v0 = vr`"
   ]
  },
  {
   "cell_type": "code",
   "execution_count": null,
   "metadata": {
    "vscode": {
     "languageId": "xml"
    }
   },
   "outputs": [],
   "source": [
    "%%writefile MultiCell_Model.nml\n",
    "<neuroml xmlns=\"http://www.neuroml.org/schema/neuroml2\"  xmlns:xs=\"http://www.w3.org/2001/XMLSchema\" xmlns:xsi=\"http://www.w3.org/2001/XMLSchema-instance\" xsi:schemaLocation=\"http://www.neuroml.org/schema/neuroml2 https://raw.github.com/NeuroML/NeuroML2/development/Schemas/NeuroML2/NeuroML_v2.1.xsd\">\n",
    "<iafCell id=\"MyFirstCellType\" C=\"200 pF\" leakConductance=\"10 nS\" leakReversal=\"-70 mV\" reset=\"-70mV\" thresh=\"-50mV\" />\n",
    "\n",
    "<!-- Add a new a new cell type ❗ -->\n",
    "<izhikevich2007Cell id=\"MySecondCellType\" v0 = \"-60mV\" C=\"100 pF\" k = \"0.7 nS_per_mV\"\n",
    "                    vr = \"-60 mV\" vt = \"-40 mV\" vpeak = \"35 mV\" \n",
    "                    a = \"0.03 per_ms\" b = \"-2 nS\" c = \"-50 mV\" d = \"100 pA\">\n",
    "    <notes>Regular spiking cell</notes>\n",
    "</izhikevich2007Cell>\n",
    "\n",
    "<pulseGenerator id=\"MyFirstInputSource\" delay=\"100ms\" duration=\"500ms\" amplitude=\"0.21nA\"/>\n",
    "<expOneSynapse id=\"MyFirstSynapseType\" gbase=\"10nS\" erev=\"0V\" tauDecay=\"5ms\"/>\n",
    "\n",
    "<network id=\"MyNetwork\" type=\"networkWithTemperature\" temperature=\"37degC\" >\n",
    "    <population id=\"MyFirstPopulation\"  component=\"MyFirstCellType\"  size=\"2\"/>\n",
    "    \n",
    "    <!-- Add another population with two cells ❗ -->\n",
    "    <population id=\"MySecondPopulation\" component=\"MySecondCellType\" size=\"2\"/>\n",
    "    \n",
    "    <!-- Apply an inputList on the first population -->\n",
    "    <inputList id=\"MyFirstInputList\" population=\"MyFirstPopulation\" component=\"MyFirstInputSource\">\n",
    "        <!-- With one stim placement on it -->\n",
    "        <input id=\"0\" target=\"MyFirstPopulation[0]\" destination=\"synapses\"/>\n",
    "    </inputList>\n",
    "    \n",
    "     <!-- Apply an inputList on the SECOND population ❗ -->\n",
    "    <inputList id=\"MySecondInputList\" population=\"MySecondPopulation\" component=\"MyFirstInputSource\">\n",
    "        <!-- With two stim placements on it, one for each cell -->\n",
    "        <inputW id=\"0\" target=\"0\" destination=\"synapses\" weight=\"0.4\"/>\n",
    "        <inputW id=\"1\" target=\"1\" destination=\"synapses\" weight=\"0.3\"/>\n",
    "    </inputList>\n",
    "    \n",
    "    <!-- Apply the AP synaptic projection -->\n",
    "    <projection id=\"MyFirstApProjection\" presynapticPopulation=\"MyFirstPopulation\" postsynapticPopulation=\"MyFirstPopulation\" synapse=\"MyFirstSynapseType\">\n",
    "        <!-- With one connection on it -->\n",
    "        <connectionWD id=\"0\" preCellId=\"0\" postCellId=\"1\" weight=\"1\" delay=\"10 ms\"/>\n",
    "    </projection>\n",
    "    \n",
    "</network>\n",
    "</neuroml>"
   ]
  },
  {
   "cell_type": "markdown",
   "metadata": {},
   "source": [
    "And let's add more one more `<OutputColumn>`s to the `<Simulation>` to keep track of the new cells.\n",
    "\n",
    "#### Setting the randomisation seed\n",
    "Also, because we'll be using simulated random input in the following, we can set another parameter of the `<Simulation>` to \"[fix]( https://en.wikipedia.org/wiki/Random_seed )\" the random numbers that will be pulled out of the hat and hence get the same result for a given model, every time.\n",
    "\n",
    "* This is the optional `seed` that should be an integer number.  If `seed` is not specified, then EDEN will pick the time and date as the seed number, making all the random numbers change every time.\n",
    "* **Important**: Due to multiple technological reasons, different computing setups come with different *numerical perturbations*.  Being (usually) chaotic systems, neural networks may show different actvity from the same initial state, because of these perturbations; though a good model's qualitative *function* should not be affected by this.  Read more about the limitations of numerical reproducibility, in a frequently answered [question]( faq.rst#how-can-i-have-the-same-result-every-time-i-run-my-randomised-simulation ).\n",
    "\n",
    "<div class=\"alert alert-warning\">\n",
    "Caution\n",
    "\n",
    "Please do not rely on the `seed` to make your model work, random variables should be random.  \n",
    "A working model should be working for at least most of the `seed`s, always check before publishing.\n",
    "</div>"
   ]
  },
  {
   "cell_type": "code",
   "execution_count": null,
   "metadata": {},
   "outputs": [],
   "source": [
    "%%writefile LEMS_MultiCell_Sim.xml\n",
    "<?xml version=\"1.0\" encoding =\"UTF-8\" ?>\n",
    "<Lems>\n",
    "<include file=\"MultiCell_Model.nml\" />\n",
    "<!-- Set the SEED to freeze the random numbers ❗ -->\n",
    "<Simulation id=\"MySim\" length=\"1 s\" step=\"100 us\" seed=\"20190109\" target=\"MyNetwork\" >\n",
    "    <OutputFile id=\"MyFirstOutputFile\" fileName=\"results.gen.txt\">\n",
    "        <OutputColumn id=\"my_first_vm\"  quantity= \"MyFirstPopulation[0]/v\"/>\n",
    "        <OutputColumn id=\"my_second_vm\" quantity= \"MyFirstPopulation[1]/v\"/>\n",
    "        <!-- Add TWO more outputColumns, one for each new cell ❗ -->\n",
    "        <OutputColumn id=\"my_third_vm\"  quantity=\"MySecondPopulation[0]/v\"/>\n",
    "        <OutputColumn id=\"my_fourth_vm\" quantity=\"MySecondPopulation[1]/v\"/>\n",
    "    </OutputFile>\n",
    "</Simulation>\n",
    "<Target component=\"MySim\"/>\n",
    "</Lems>"
   ]
  },
  {
   "cell_type": "markdown",
   "metadata": {},
   "source": [
    "And see our new cells behave.  They exhibit an actual AP shape, whereas the LIF cells reset right on the threshold-to-spike instead of the spike's peak."
   ]
  },
  {
   "cell_type": "code",
   "execution_count": null,
   "metadata": {},
   "outputs": [],
   "source": [
    "def show_multicell_results(results):\n",
    "    from matplotlib import pyplot as plt; \n",
    "    plt.figure(figsize=(10,5))\n",
    "    plt.plot(results['t'],results[ 'MyFirstPopulation[0]/v'], label='LIF #0, v')\n",
    "    plt.plot(results['t'],results[ 'MyFirstPopulation[1]/v'], label='LIF #1, v')\n",
    "    plt.plot(results['t'],results['MySecondPopulation[0]/v'], label='Izh #0, v', linestyle='--')\n",
    "    plt.plot(results['t'],results['MySecondPopulation[1]/v'], label='Izh #1, v', linestyle='--')\n",
    "    plt.xlabel('Time (sec)'); plt.ylabel('Membrane voltage (V)'); plt.legend(); plt.xlim((0, .8))\n",
    "\n",
    "results = runEden('LEMS_MultiCell_Sim.xml')\n",
    "show_multicell_results(results)"
   ]
  },
  {
   "cell_type": "markdown",
   "metadata": {},
   "source": [
    "### Adding abstract spike sources and applying them to the network\n",
    "As we noted previously, our virtual neurons may need to be stimulated with realistic input; this way that we can watch and play with them at a \"natural-like\" state, instead of crushing loneliness on a glass dish.  Of course, these stimuli are normally provided by *adjacent neurons*, which motivates us to model those neurons as well as well as the stimuli that these neurons receive...  At some point we end up out of scope and/or technical resources, and will have to replace external neuron input with a rougher *abstraction*.\n",
    "One such abstraction is entities that emit \"firing events\" independently of what the network does, according to a mathematical model. These firing events can then activate synapses on target cells in our neural network.\n",
    "<!-- (otherwise they would be part of the synamical system we're studying).  --> \n",
    "\n",
    "Let'see how this works in NeuroML, by defining two different *spike source types*, adding `population`s of said types in the `network`, and delivering their potentials through `projection`s.\n",
    "\n",
    "We will add two *spike source types* from the NeuroML library: a deterministic [&lt;spikeArray&gt;]( https://docs.neuroml.org/Userdocs/Schemas/Inputs.html#spikearray ) and a stochastic [&lt;SpikeSourcePoisson&gt;]( https://docs.neuroml.org/Userdocs/Schemas/PyNN.html#spikesourcepoisson ):\n",
    "\n",
    "* For the former, we will specify the exact occurence time of every single spike by adding `<spike>` *child tags* inside it.\n",
    "* For the latter, we'll supply parameters as usual in the previous parts, namely: `start = 200 ms, duration = 300 ms, rate = 20 Hz`.\n",
    "\n",
    "Next, we'll instantiate them with `<population>` tags as if they were cells.  (It so happens.)\n",
    "\n",
    "Finally, we'll add `<projection>`s with `synapse` `connection`s *from* those not-cell populations, *to* real cells.\n",
    "\n",
    "Note: we cannot specify spike sources as `post`-synaptic targets since they are not neurons, and hence we can't just attach biophysical synapses on them.  Neither can we connect them with [graded synapses]( #Adding-graded-interactions ) for that matter."
   ]
  },
  {
   "cell_type": "code",
   "execution_count": null,
   "metadata": {
    "vscode": {
     "languageId": "xml"
    }
   },
   "outputs": [],
   "source": [
    "%%writefile MultiCell_Model.nml\n",
    "<neuroml xmlns=\"http://www.neuroml.org/schema/neuroml2\"  xmlns:xs=\"http://www.w3.org/2001/XMLSchema\" xmlns:xsi=\"http://www.w3.org/2001/XMLSchema-instance\" xsi:schemaLocation=\"http://www.neuroml.org/schema/neuroml2 https://raw.github.com/NeuroML/NeuroML2/development/Schemas/NeuroML2/NeuroML_v2.1.xsd\">\n",
    "<iafCell id=\"MyFirstCellType\" C=\"200 pF\" leakConductance=\"10 nS\" leakReversal=\"-70 mV\" reset=\"-70mV\" thresh=\"-50mV\" />\n",
    "\n",
    "<izhikevich2007Cell id=\"MySecondCellType\" v0 = \"-60mV\" C=\"100 pF\" k = \"0.7 nS_per_mV\"\n",
    "                    vr = \"-60 mV\" vt = \"-40 mV\" vpeak = \"35 mV\" \n",
    "                    a = \"0.03 per_ms\" b = \"-2 nS\" c = \"-50 mV\" d = \"100 pA\">\n",
    "    <notes>Regular spiking cell</notes>\n",
    "</izhikevich2007Cell>\n",
    "<pulseGenerator id=\"MyFirstInputSource\" delay=\"100ms\" duration=\"500ms\" amplitude=\"0.21nA\"/>\n",
    "\n",
    "<!-- Add new spike sources ❗ -->\n",
    "<spikeArray id=\"MySpikeList\">\n",
    "    <spike id=\"0\" time=\"210 ms\"/>\n",
    "    <spike id=\"1\" time=\"350 ms\"/>\n",
    "    <spike id=\"2\" time=\"450 ms\"/>\n",
    "</spikeArray>\n",
    "<SpikeSourcePoisson id=\"MyRandomSpikeSource\" start=\"200ms\" duration=\"300ms\" rate=\"15Hz\"/>\n",
    "\n",
    "<expOneSynapse id=\"MyFirstSynapseType\" gbase=\"10nS\" erev=\"0V\" tauDecay=\"5ms\"/>\n",
    "\n",
    "<network id=\"MyNetwork\" type=\"networkWithTemperature\" temperature=\"37degC\" >\n",
    "    <population id=\"MyFirstPopulation\"  component=\"MyFirstCellType\"  size=\"2\"/>\n",
    "    <population id=\"MySecondPopulation\" component=\"MySecondCellType\" size=\"2\"/>\n",
    "    \n",
    "    <!-- Add \"populations\" of SPIKE SOURCES beside the cells ❗ -->\n",
    "    <population id=\"Spikes_Counted\" component=\"MySpikeList\"         size=\"1\" />\n",
    "    <population id=\"Spikes_Random\"  component=\"MyRandomSpikeSource\" size=\"1\" />\n",
    "    \n",
    "    <!-- Apply an inputList on the first population -->\n",
    "    <inputList id=\"MyFirstInputList\" population=\"MyFirstPopulation\" component=\"MyFirstInputSource\">\n",
    "        <!-- With one stim placement on it -->\n",
    "        <input id=\"0\" target=\"MyFirstPopulation[0]\" destination=\"synapses\"/>\n",
    "    </inputList>\n",
    "     <!-- Apply an inputList on the second population -->\n",
    "    <inputList id=\"MySecondInputList\" population=\"MySecondPopulation\" component=\"MyFirstInputSource\">\n",
    "        <!-- With two stim placements on it, one for each cell -->\n",
    "        <inputW id=\"0\" target=\"0\" destination=\"synapses\" weight=\"0.4\"/>\n",
    "        <inputW id=\"1\" target=\"1\" destination=\"synapses\" weight=\"0.3\"/>\n",
    "    </inputList>\n",
    "    \n",
    "    <!-- Apply the AP synaptic projection -->\n",
    "    <projection id=\"MyFirstApProjection\" presynapticPopulation=\"MyFirstPopulation\" postsynapticPopulation=\"MyFirstPopulation\" synapse=\"MyFirstSynapseType\">\n",
    "        <!-- With one connection on it -->\n",
    "        <connectionWD id=\"0\" preCellId=\"0\" postCellId=\"1\" weight=\"1\" delay=\"10 ms\"/>\n",
    "    </projection>\n",
    "    \n",
    "    <!-- And, finally, project synapses from spike sources to cells ❗ -->\n",
    "    <projection id=\"MyFirstSourceProjection\" presynapticPopulation=\"Spikes_Counted\" postsynapticPopulation=\"MySecondPopulation\" synapse=\"MyFirstSynapseType\">\n",
    "        <connection id=\"0\" preCellId=\"0\" postCellId=\"0\"/>\n",
    "    </projection>\n",
    "    <projection id=\"MySecondSourceProjection\" presynapticPopulation=\"Spikes_Random\" postsynapticPopulation=\"MyFirstPopulation\" synapse=\"MyFirstSynapseType\">\n",
    "        <connection id=\"0\" preCellId=\"0\" postCellId=\"1\"/>\n",
    "    </projection>\n",
    "</network>\n",
    "</neuroml>"
   ]
  },
  {
   "cell_type": "markdown",
   "metadata": {},
   "source": [
    "There is this interesting detail about spike sources: although functionally they are *inputs* and are classed [as such]( https://docs.neuroml.org/Userdocs/Schemas/Inputs.html ) in the NeuroML specification, model-wise they act like a lesser form of *neurons* and in fact they are instantiated in the `network` as such.\n",
    "\n",
    "There are more spike sources defined in base NeuroML, (see for example, the regular [spikeGenerator]( https://docs.neuroml.org/Userdocs/Schemas/Inputs.html#spikegenerator ) and the uniformly-distributed [spikeGeneratorRandom]( https://docs.neuroml.org/Userdocs/Schemas/Inputs.html#spikegeneratorrandom )). Custom ones can be built as LEMS components in [a following section]( intro_lems.ipynb ).  \n",
    "\n",
    "If the desired spike series are too complicated to describe with a base NeuroML tag pr with a [LEMS spike source]( intro_lems.ipynb#Custom-input-sources ), they can also be generated *outside* EDEN and streamed *into* the simulation, using the [IO extension]( extension_io.ipynb#Event-series-with-EdenEventSetReader ).  The same applies for other input, in the form of biophysical [time series]( extension_io.ipynb#Time-series-with-EdenTimeSeriesReader )."
   ]
  },
  {
   "cell_type": "markdown",
   "metadata": {},
   "source": [
    "Let's see what happens."
   ]
  },
  {
   "cell_type": "code",
   "execution_count": null,
   "metadata": {},
   "outputs": [],
   "source": [
    "results = runEden('LEMS_MultiCell_Sim.xml')\n",
    "show_multicell_results(results)"
   ]
  },
  {
   "cell_type": "markdown",
   "metadata": {},
   "source": [
    "The spikes are applied to one cell of each type cells, and the exact times of occurence are seen as very abrupt increases (i.e. deploarisations) in membrane potential.\n",
    "\n",
    "Observe that the events from the `<spikeArray>` trigger the synapses at the precise times specified in the `<spike>`s, whereas the spikes from the `<SpikeSourcePoisson>` are stochastically distributed.\n",
    "\n",
    "Remove the `seed` mentioned [above]( #Setting-the-randomisation-seed ) and re-run the cell, to see how the `<spikeArray>` will remain the same and the `<SpikeSourcePoisson>` will vary."
   ]
  },
  {
   "cell_type": "markdown",
   "metadata": {},
   "source": [
    "## Adding graded interactions\n",
    "\n",
    "In the previous sections, we added a synaptic connection that follows the traditional \"action potential\" model: if the pre-synaptic neuron passes a threshold, then an invariant quantity of neurotransmitters is released, the neurotransmitters slowly cross the synaptic gap and the post-synaptic potential is applied to the post-neuron.  Information travels one way (`pre 🡒 post`) only, exclusively at the instants that the pre-neuron fires.  \n",
    "(See also [Figure 3.1]( https://neuronaldynamics.epfl.ch/online/Ch3.S1.html#Ch3.F1 ) from the *Neuronal Dynamics* book.) \n",
    "\n",
    "This is not the only way that neurons are seen to interact in the wild.  Transmitter release may happen gradually with membrane potential (it's not all or nothing), and neurons often also interact through *graded* potentials.  These are ways that neurons engage in *continuous interaction*, and we can also model that in NeuroML.\n",
    "\n",
    "In this section, we will add *graded interactions* between cells in the network, and look closely at their effects.\n",
    "\n",
    "<!-- or just grab the admonition html i guess... https://nbsphinx.readthedocs.io/en/0.9.2/markdown-cells.html#Info/Warning-Boxes -->\n",
    "<div class=\"alert alert-warning\">\n",
    "Caution\n",
    "\n",
    "Use graded synapses only with neurons that have realistic action potential shapes (*not* LIF, for example), lest you end up with wrong conclusions.\n",
    "</div>"
   ]
  },
  {
   "cell_type": "markdown",
   "metadata": {},
   "source": [
    "We will add two different *graded synaptic component* types from the NeuroML library: an [ohmic]( http://www.scholarpedia.org/article/Neuronal_cable_theory#Electrical_Synapses ) [&lt;gapJunction&gt;]( https://docs.neuroml.org/Userdocs/Schemas/Synapses.html#gapjunction ) model, and a dummy [&lt;silentSynapse&gt;]( https://docs.neuroml.org/Userdocs/Schemas/Synapses.html#silentsynapse ) model that applies no effect (for one-way interactions).\n",
    "\n",
    "As usual, we'll define the synapse types inside the `<neuroml>` and outside the `<network>`, but this time we'll different `projection` tags to state that unlike the previous 'classical' synapses, these are *bi-directional continuous connections*.\n",
    "The new tags used are `<electricalProjection>` for symmetric connections and `<continuousProjection>` for not necessarily symmetric connections.\n",
    "These contain different tags, `<electricalConnectionInstance>` and `<continuousConnectionInstance>` respectively.\n",
    "\n",
    "The difference with `<projection>` and `<connection>` is that the `synapse` is not an attribute of the `projection` but individually specified for each connection instance:\n",
    "\n",
    "* `<electricalConnectionInstance>`s have a `synapse` type parameter.  This `synapse` gets instantiated twice, once for *each* side of the connection, and the two hlaves are symmetrically attached to the (only nominally) `pre` and `post` synaptic sites.\n",
    "* `<continuousConnectionInstance>`s have two different `synapse` type parameters, `preComponent` and `postComponent`.  In this case, the `pre` component may be different from the `post` component, each is instantiated and attached on its respective side of the synapse.\n",
    "\n",
    "So then, the tags are slightly different from the classic-type `<connection>` and the `{pre,post}synapticComponent`s are specified individually for each synapse, that's because the style changed during the development of NeuroML.  EDEN may be rather permissive on mixing and matching from either style.  Just remember that you may have to use a slightly differently style for action and graded potentials when making your NeuroML.\n",
    "\n",
    "In order to specify weight, `<electricalConnectionInstance>` and `<continuousConnectionInstance>` can be replaced with the similar `<electricalConnectionInstanceW>` and `<continuousConnectionInstanceW>` tags.  \n",
    "\n",
    "* There also are two equivalent but a little bit shorter tags `<electricalConnection>` and `<continuousConnection>`; but tags like `<electricalConnectionW>` and `<continuousConnectionW>` are *not* in the standard and will be just *ignored* by EDEN, watch out.\n",
    "\n",
    "Note that these *continuous* connections can't have a `delay` associated with them, though that would help make [neural mass models]( http://www.scholarpedia.org/article/TheVirtualBrain#Modeling_Approach ).  If you are interested in continuous interactions *with* pure lag, do state your requirements in a [feature request for NeuroML]( https://github.com/NeuroML/NeuroML2/issues/new?assignees=&labels=enhancement&projects=&template=feature_request.md&title= )."
   ]
  },
  {
   "cell_type": "code",
   "execution_count": null,
   "metadata": {
    "vscode": {
     "languageId": "xml"
    }
   },
   "outputs": [],
   "source": [
    "%%writefile MultiCell_Model.nml\n",
    "<neuroml xmlns=\"http://www.neuroml.org/schema/neuroml2\"  xmlns:xs=\"http://www.w3.org/2001/XMLSchema\" xmlns:xsi=\"http://www.w3.org/2001/XMLSchema-instance\" xsi:schemaLocation=\"http://www.neuroml.org/schema/neuroml2 https://raw.github.com/NeuroML/NeuroML2/development/Schemas/NeuroML2/NeuroML_v2.1.xsd\">\n",
    "<iafCell id=\"MyFirstCellType\" C=\"200 pF\" leakConductance=\"10 nS\" leakReversal=\"-70 mV\" reset=\"-70mV\" thresh=\"-50mV\" />\n",
    "\n",
    "<!-- Add a new a new cell type -->\n",
    "<izhikevich2007Cell id=\"MySecondCellType\" v0 = \"-60mV\" C=\"100 pF\" k = \"0.7 nS_per_mV\"\n",
    "                    vr = \"-60 mV\" vt = \"-40 mV\" vpeak = \"35 mV\" \n",
    "                    a = \"0.03 per_ms\" b = \"-2 nS\" c = \"-50 mV\" d = \"100 pA\">\n",
    "    <notes>Regular spiking cell</notes>\n",
    "</izhikevich2007Cell>\n",
    "\n",
    "<pulseGenerator id=\"MyFirstInputSource\" delay=\"100ms\" duration=\"500ms\" amplitude=\"0.21nA\"/>\n",
    "<expOneSynapse id=\"MyFirstSynapseType\" gbase=\"10nS\" erev=\"0V\" tauDecay=\"5ms\"/>\n",
    "\n",
    "<!-- Add a new synapse type, a gap junction ❗ -->\n",
    "<gapJunction id=\"Syn_gapJunction\" conductance=\"2000pS\"/> <!-- With a pretty huge conductance, to demonstrate the effect -->\n",
    "\n",
    "<!-- Add a new synapse type, a dummy graded synapse ❗ -->\n",
    "<silentSynapse id=\"Syn_SilentSynapse\"/> <!-- No parameters, no effect, no worries -->\n",
    "\n",
    "<network id=\"MyNetwork\" type=\"networkWithTemperature\" temperature=\"37degC\" >\n",
    "    <population id=\"MyFirstPopulation\"  component=\"MyFirstCellType\"  size=\"2\"/>\n",
    "    <population id=\"MySecondPopulation\" component=\"MySecondCellType\" size=\"2\"/>\n",
    "    \n",
    "    <!-- Apply an inputList on the first population -->\n",
    "    <inputList id=\"MyFirstInputList\" population=\"MyFirstPopulation\" component=\"MyFirstInputSource\">\n",
    "        <!-- With one stim placement on it -->\n",
    "        <input id=\"0\" target=\"MyFirstPopulation[0]\" destination=\"synapses\"/>\n",
    "    </inputList>\n",
    "     <!-- Apply an inputList on the second population -->\n",
    "    <inputList id=\"MySecondInputList\" population=\"MySecondPopulation\" component=\"MyFirstInputSource\">\n",
    "        <!-- With two stim placements on it, one for each cell -->\n",
    "        <inputW id=\"0\" target=\"0\" destination=\"synapses\" weight=\"0.4\"/>\n",
    "        <inputW id=\"1\" target=\"1\" destination=\"synapses\" weight=\"0.3\"/>\n",
    "    </inputList>\n",
    "    \n",
    "    <!-- Apply the AP synaptic projection -->\n",
    "    <projection id=\"MyFirstApProjection\" presynapticPopulation=\"MyFirstPopulation\" postsynapticPopulation=\"MyFirstPopulation\" synapse=\"MyFirstSynapseType\">\n",
    "        <!-- With one connection on it -->\n",
    "        <connectionWD id=\"0\" preCellId=\"0\" postCellId=\"1\" weight=\"1\" delay=\"10 ms\"/>\n",
    "    </projection>\n",
    " \n",
    "    <!-- Apply the new graded synaptic projections ❗ -->\n",
    "    <electricalProjection id=\"MyGapProjection\" presynapticPopulation=\"MySecondPopulation\" postsynapticPopulation=\"MySecondPopulation\">\n",
    "        <electricalConnectionInstanceW id=\"0\" preCell=\"0\" postCell=\"1\" preSegment=\"0\" postSegment=\"0\" synapse=\"Syn_gapJunction\" weight=\"1\"/> <!-- seg 0 is the only one for point neurons -->\n",
    "    </electricalProjection>\n",
    "    <continuousProjection id=\"MyUnsymmetricGap\" presynapticPopulation=\"MySecondPopulation\" postsynapticPopulation=\"MyFirstPopulation\">\n",
    "        <continuousConnection id=\"0\" preCell=\"1\" postCell=\"0\" preComponent=\"Syn_SilentSynapse\" postComponent=\"Syn_gapJunction\"/>\n",
    "    </continuousProjection>\n",
    "    \n",
    "</network>\n",
    "</neuroml>"
   ]
  },
  {
   "cell_type": "markdown",
   "metadata": {},
   "source": [
    "The standard NeuroML library is a bit sparse in continuous synapses: more than the component types we just used, it includes one detailed chemical receptor [model]( https://docs.neuroml.org/Userdocs/Schemas/Synapses.html#gradedsynapse ) that has been used for [modelling]( https://www.researchgate.net/profile/Eve-Marder/publication/2267079_Modeling_Small_Networks/links/54482da50cf2d62c3052a237/Modeling-Small-Networks.pdf ) the pyloric rhythm of the crustacean stomatogastric ganglion.  But this is only because there are no other typical, commonly agreed interaction models yet.  To implement your preferred interaction model, see the [LEMS tutorial]( intro_lems.ipynb ) and the [implementation]( https://github.com/NeuroML/NeuroML2/blob/NMLv2.1/NeuroML2CoreTypes/Synapses.xml#L574 ) of said STG model, and EDEN's [multi-flux capability]( extension_multiflux.ipynb ) for more options."
   ]
  },
  {
   "cell_type": "markdown",
   "metadata": {},
   "source": [
    "Let's run this simulation:"
   ]
  },
  {
   "cell_type": "code",
   "execution_count": null,
   "metadata": {},
   "outputs": [],
   "source": [
    "results = runEden('LEMS_MultiCell_Sim.xml')\n",
    "show_multicell_results(results)"
   ]
  },
  {
   "cell_type": "markdown",
   "metadata": {},
   "source": [
    "Observe how the membrane voltage each Izhikevich cell is sharply affected whenever the other one fires; the one-way graded potential applied to the first LIF cell has an even more pronounced effect. The steady leak due to differeing resting potentials for the two cells is also visible at the start (before the current clamps activate), feel free to change `vr` to same in both cells if it's a concern. "
   ]
  },
  {
   "cell_type": "markdown",
   "metadata": {},
   "source": [
    "## NeuroML file structure conventions\n",
    "\n",
    "In the previous examples, we used *two* files per model.  This is not the only option;  we could also have split the parts of the simulation differently, as long as the file for each part is `<Include>`d by the file we pointed the simulator to in `runEden`, or by a another file `<Include>`d by a file that's  ultimately `<Include>`d by the simulation file, and so forth.  Or (when using EDEN) we could just roll all model parts side by side with the `<Simulation>` in a *single file* if that's more convenient.  (By the way, if the same file is `<Include>`d by different files, that's no problem.)\n",
    "\n",
    "As a neural modelling project gets more detailed, and its parts get re-mixed in different ways (also between projects), there are some NeuroML file *naming [conventions]( https://docs.neuroml.org/Userdocs/Conventions.html#file-naming )* that may help manage the model contents:\n",
    "\n",
    "* each `<cell>` type is defined in its own file with extension `.cell.nml`;\n",
    "* each `synapse` type used is defined in its own file with extension `.synapse.nml`;\n",
    "* the `<network>` to be simulated is placed in its own file with extension `.net.nml`;\n",
    "* the `<simulation>` information are placed in their own file with a name like `.xml`.\n",
    "* There is no common convention for `<input>`s; they are usually added to the `.net.nml` files, but they could also be added to NeuroML files in some other way that makes sense.\n",
    "\n",
    "Of course, if there are overriding reasons the strcuture can be different in practice, as mentioned previously.  \n",
    "For example, if a set of different model parts is also meaningful as a named `collection`, there could be an additional `.nml` file that `<Includes>` the files for said parts.\n",
    "\n",
    "The following code cells show how the parts comprising the last model can also be laid out in a more modular file structure. \n",
    "<!-- It's not that impressive for this small and self-contained model, but the method shows its worth as projects get more complex. -->"
   ]
  },
  {
   "cell_type": "code",
   "execution_count": null,
   "metadata": {},
   "outputs": [],
   "source": [
    "%%writefile MultiCell.net.nml\n",
    "<neuroml xmlns=\"http://www.neuroml.org/schema/neuroml2\"  xmlns:xs=\"http://www.w3.org/2001/XMLSchema\" xmlns:xsi=\"http://www.w3.org/2001/XMLSchema-instance\" xsi:schemaLocation=\"http://www.neuroml.org/schema/neuroml2 https://raw.github.com/NeuroML/NeuroML2/development/Schemas/NeuroML2/NeuroML_v2.1.xsd\">\n",
    "\n",
    "<!-- Include all the re-usable components ❗ -->\n",
    "<include file=\"MultiCell_Iaf.cell.nml\" />\n",
    "<include file=\"MultiCell_Izh.cell.nml\" />\n",
    "<include file=\"SimpleChemical.synapse.nml\" />\n",
    "<include file=\"SimpleGapJunction.synapse.nml\" />\n",
    "<include file=\"Graded_Dummy.synapse.nml\" />\n",
    "\n",
    "<!-- Leave the input sources here i guess, or not ... -->\n",
    "<pulseGenerator id=\"MyFirstInputSource\" delay=\"100ms\" duration=\"500ms\" amplitude=\"0.21nA\" />\n",
    "\n",
    "<!-- And leave here just the network ❗ (and auxiliaries) -->\n",
    "<network id=\"MyNetwork\" type=\"networkWithTemperature\" temperature=\"37degC\" >\n",
    "    <population id=\"MyFirstPopulation\"  component=\"MyFirstCellType\"  size=\"2\"/>\n",
    "    <population id=\"MySecondPopulation\" component=\"MySecondCellType\" size=\"2\"/>\n",
    "    \n",
    "    <inputList id=\"MyFirstInputList\" population=\"MyFirstPopulation\" component=\"MyFirstInputSource\">\n",
    "        <input id=\"0\" target=\"MyFirstPopulation[0]\" destination=\"synapses\"/>\n",
    "    </inputList>\n",
    "    <inputList id=\"MySecondInputList\" population=\"MySecondPopulation\" component=\"MyFirstInputSource\">\n",
    "        <inputW id=\"0\" target=\"0\" destination=\"synapses\" weight=\"0.4\"/>\n",
    "        <inputW id=\"1\" target=\"1\" destination=\"synapses\" weight=\"0.3\"/>\n",
    "    </inputList>\n",
    "    \n",
    "    <projection id=\"MyFirstApProjection\" presynapticPopulation=\"MyFirstPopulation\" postsynapticPopulation=\"MyFirstPopulation\" synapse=\"MyFirstSynapseType\">\n",
    "        <connectionWD id=\"0\" preCellId=\"0\" postCellId=\"1\" weight=\"1\" delay=\"10 ms\"/>\n",
    "    </projection>\n",
    " \n",
    "    <electricalProjection id=\"MyGapProjection\" presynapticPopulation=\"MySecondPopulation\" postsynapticPopulation=\"MySecondPopulation\">\n",
    "        <electricalConnectionInstanceW id=\"0\" preCell=\"0\" postCell=\"1\" preSegment=\"0\" postSegment=\"0\" synapse=\"Syn_gapJunction\" weight=\"1\"/> <!-- seg 0 is the only one for point neurons -->\n",
    "    </electricalProjection>\n",
    "    <continuousProjection id=\"MyUnsymmetricGap\" presynapticPopulation=\"MySecondPopulation\" postsynapticPopulation=\"MyFirstPopulation\">\n",
    "        <continuousConnection id=\"0\" preCell=\"1\" postCell=\"0\" preComponent=\"Syn_SilentSynapse\" postComponent=\"Syn_gapJunction\"/>\n",
    "    </continuousProjection>\n",
    "</network>\n",
    "</neuroml>"
   ]
  },
  {
   "cell_type": "code",
   "execution_count": null,
   "metadata": {},
   "outputs": [],
   "source": [
    "%%writefile MultiCell_Iaf.cell.nml\n",
    "<neuroml>\n",
    "<iafCell id=\"MyFirstCellType\" C=\"200 pF\" leakConductance=\"10 nS\" leakReversal=\"-70 mV\" reset=\"-70mV\" thresh=\"-50mV\" />\n",
    "</neuroml>"
   ]
  },
  {
   "cell_type": "code",
   "execution_count": null,
   "metadata": {},
   "outputs": [],
   "source": [
    "%%writefile MultiCell_Izh.cell.nml\n",
    "<neuroml>\n",
    "<izhikevich2007Cell id=\"MySecondCellType\" v0 = \"-60mV\" C=\"100 pF\" k = \"0.7 nS_per_mV\"\n",
    "                    vr = \"-60 mV\" vt = \"-40 mV\" vpeak = \"35 mV\" \n",
    "                    a = \"0.03 per_ms\" b = \"-2 nS\" c = \"-50 mV\" d = \"100 pA\">\n",
    "    <notes>Regular spiking cell</notes>\n",
    "</izhikevich2007Cell>\n",
    "</neuroml>"
   ]
  },
  {
   "cell_type": "code",
   "execution_count": null,
   "metadata": {},
   "outputs": [],
   "source": [
    "%%writefile SimpleChemical.synapse.nml\n",
    "<neuroml>\n",
    "<expOneSynapse id=\"MyFirstSynapseType\" gbase=\"10nS\" erev=\"0V\" tauDecay=\"5ms\"/>\n",
    "</neuroml>"
   ]
  },
  {
   "cell_type": "code",
   "execution_count": null,
   "metadata": {},
   "outputs": [],
   "source": [
    "%%writefile SimpleGapJunction.synapse.nml\n",
    "<neuroml>\n",
    "<gapJunction id=\"Syn_gapJunction\" conductance=\"2000pS\"/> <!-- With a pretty huge conductance, to demonstrate the effect -->\n",
    "</neuroml>"
   ]
  },
  {
   "cell_type": "code",
   "execution_count": null,
   "metadata": {},
   "outputs": [],
   "source": [
    "%%writefile Graded_Dummy.synapse.nml\n",
    "<neuroml>\n",
    "<silentSynapse id=\"Syn_SilentSynapse\"/> <!-- No parameters, no effect, no worries -->\n",
    "</neuroml>"
   ]
  },
  {
   "cell_type": "markdown",
   "metadata": {},
   "source": [
    "Make another LEMS file that points to the new `.net.nml`:"
   ]
  },
  {
   "cell_type": "code",
   "execution_count": null,
   "metadata": {},
   "outputs": [],
   "source": [
    "%%writefile LEMS_MultiCell_Modular_Sim.xml\n",
    "<?xml version=\"1.0\" encoding =\"UTF-8\" ?>\n",
    "<Lems>\n",
    "<include file=\"MultiCell.net.nml\" />\n",
    "<!-- Set the seed to freeze the random numbers -->\n",
    "<Simulation id=\"MySim\" length=\"1 s\" step=\"100 us\" seed=\"20190109\" target=\"MyNetwork\" >\n",
    "    <OutputFile id=\"MyFirstOutputFile\" fileName=\"results.gen.txt\">\n",
    "        <OutputColumn id=\"my_first_vm\"  quantity= \"MyFirstPopulation[0]/v\"/>\n",
    "        <OutputColumn id=\"my_second_vm\" quantity= \"MyFirstPopulation[1]/v\"/>\n",
    "        <OutputColumn id=\"my_third_vm\"  quantity=\"MySecondPopulation[0]/v\"/>\n",
    "        <OutputColumn id=\"my_fourth_vm\" quantity=\"MySecondPopulation[1]/v\"/>\n",
    "    </OutputFile>\n",
    "</Simulation>\n",
    "<Target component=\"MySim\"/>\n",
    "</Lems>"
   ]
  },
  {
   "cell_type": "markdown",
   "metadata": {},
   "source": [
    "And re-run the modular version of the model."
   ]
  },
  {
   "cell_type": "code",
   "execution_count": null,
   "metadata": {},
   "outputs": [],
   "source": [
    "results = runEden('LEMS_MultiCell_Modular_Sim.xml')\n",
    "show_multicell_results(results)"
   ]
  },
  {
   "cell_type": "markdown",
   "metadata": {},
   "source": [
    "---\n",
    "\n",
    "This concludes the introduction to the basics of NeuroML. You may proceed to lean more about [spatially detailed cells]( intro_spatial.ipynb ) and [making your own mechanisms with LEMS]( intro_lems.ipynb ), or take a [ higher view ]( user_guide.rst ) of the user's guide."
   ]
  },
  {
   "cell_type": "markdown",
   "metadata": {
    "nbsphinx": "hidden"
   },
   "source": [
    "---\n",
    "\n",
    "As a final step, let's clean up after the files left behind."
   ]
  },
  {
   "cell_type": "code",
   "execution_count": null,
   "metadata": {
    "nbsphinx": "hidden"
   },
   "outputs": [],
   "source": [
    "import os, shutil\n",
    "for name in os.listdir('.'):\n",
    "    if  (  name.endswith('.xml')\n",
    "        or name.endswith('.nml')\n",
    "        or '.gen.' in name ):\n",
    "        try: os.remove(name)\n",
    "        except Error: shutil.rmtree(name, ignore_errors=False)\n",
    "# for name in os.listdir('.'): print(name)"
   ]
  }
 ],
 "metadata": {
  "kernelspec": {
   "display_name": "Python 3 (ipykernel)",
   "language": "python",
   "name": "python3"
  },
  "language_info": {
   "codemirror_mode": {
    "name": "ipython",
    "version": 3
   },
   "file_extension": ".py",
   "mimetype": "text/x-python",
   "name": "python",
   "nbconvert_exporter": "python",
   "pygments_lexer": "ipython3",
   "version": "3.11.4"
  }
 },
 "nbformat": 4,
 "nbformat_minor": 4
}
