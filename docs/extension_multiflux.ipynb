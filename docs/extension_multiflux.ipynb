{
 "cells": [
  {
   "cell_type": "markdown",
   "metadata": {},
   "source": [
    "# NeuroML extension: Multiple flows per neuron\n",
    "\n",
    "In the NeuroML formulation, neurons are stimulated by various synapses and input sources that inject *non-specific* current in them, influencing the membrane potential.\n",
    "\n",
    "However, there may often be different *flows* of ions or other substances, that should be tracked separately of total electrical current.  Or more generally, a neuron may be influenced by a sum of mechanisms that supply something *other* than current.\n",
    "\n",
    "To cover this use case, EDEN allows mechanisms to inject *multiple different things* flowing into cells, like ion channels do already.  This is done by an existing pure-LEMS concept, that is generalised in EDEN so that different mechsnisms can provide different sets of flows.\n",
    "\n",
    "Tip: This is similar to how pure LEMS works already, with the difference that not all mechanisms need to expose every sort of flow; each mechanism that doesn't expose one of the additional flows is assumed to contribute `0` towards that flow.\n",
    "\n",
    "<!-- NEXT until support is extended to spatial cells, the [planar method]( example_planar ) can be used for them instead. -->\n",
    "<!-- LATER explain how with pure lems? -->\n",
    "<!-- https://lems.github.io/LEMS/example1.html -->\n",
    "\n",
    "**Note**: This feature is only supported for point neurons at the moment."
   ]
  },
  {
   "cell_type": "markdown",
   "metadata": {},
   "source": [
    "## The `<DerivedVariable>` tag revisited\n",
    "\n",
    "As we saw in the LEMS [chapter]( intro_lems.ipynb#\"Dynamic\"-variables ), a `<DerivedVariable>` may take a `value` as a LEMS expression of other variables.  Another option to resolve the value is by a `select` aggregate expression.  EDEN supports the following tag attributes that describe the aggregate expression:\n",
    "\n",
    "* `select` as `synapses[*]/`, followed after the `/` by the name of an `<Exposure>` that some synapses or probes may offer.\n",
    "* `reduce` as `add` only, to add up the exposures of the same name.\n",
    "\n",
    "The tag to gather all exposures of e.g. `iB` then gets to look like this:\n",
    "\n",
    "```xml\n",
    "<DerivedVariable name=\"ib\" dimension=\"current\" select=\"synapses[*]/iB\" reduce=\"add\" />\n",
    "```\n",
    "\n",
    "To prevent ambiguity, each flow must have the same `<Exposure>` name among all mechanisms that contribute to it.  Hence different flows should be `expose`d by components as something other than `i`.\n",
    "\n",
    "* If components must expose the same flow under different names (or the modeller happens to treat them the same in one case), they can be `select` ed separately and an additional `<DerivedVariable>` may be defined for the total flow. \n",
    "\n",
    "Note: Presently, the LEMS formulation of NeuroML concepts adds all \"sort of external\" mechanisms (known as `Attachment>`s) all into a singular `synapses` group, that includes *both* synapses instantiated by `<connection>`s and `<input>`s from `<inputList>`s!"
   ]
  },
  {
   "cell_type": "markdown",
   "metadata": {},
   "source": [
    "Examples using different flows will be provided soon, stay tuned.  Until then, see a usage example in EDEN's [program tests]( https://gitlab.com/c7859/neurocomputing-lab/Inferior_OliveEMC/eden/-/blob/main/testing/validation_tests/neuroml/EdenTest_Extension_Multiflux.nml ) which shows how to separate the flow from different synapses and input probes."
   ]
  }
 ],
 "metadata": {
  "kernelspec": {
   "display_name": "Python 3 (ipykernel)",
   "language": "python",
   "name": "python3"
  },
  "language_info": {
   "codemirror_mode": {
    "name": "ipython",
    "version": 3
   },
   "file_extension": ".py",
   "mimetype": "text/x-python",
   "name": "python",
   "nbconvert_exporter": "python",
   "pygments_lexer": "ipython3",
   "version": "3.11.4"
  }
 },
 "nbformat": 4,
 "nbformat_minor": 4
}
