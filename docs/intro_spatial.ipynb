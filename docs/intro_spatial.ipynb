{
 "cells": [
  {
   "cell_type": "markdown",
   "metadata": {},
   "source": [
    "# NeuroML and spatially detailed cells\n",
    "\n",
    "The \"[NeuroML basics]( intro_neuroml.ipynb )\" article introduced the NeuroML framework and data format for expressing spiking neural networks.  In the process, it explained how simplified neuron models, such as LIF and Izhikevich types, can be specified, parameterised and used to construct networks.\n",
    "\n",
    "These simplified models are also often called *abstract cells* or  *point neurons*, because they reduce the detailed anatomy and biophysical specificity found in nature, into just a few *scalar values* that produce a (roughly) equivalent response.\n",
    "\n",
    "There is also another, more \"direct\" approach to simulate biophysics, by taking into account the spatial extent of the neuron and the immediate electro-chemical reactions that are supposed to take place slong it.  The \"spatial\" or \"physically-based\" formulation is thus composed of the *shape* (called *morphology* in neuro-anatomy) of the neuron, and the biophysical mechanisms that are present across the morphology.  Under this formulation, most *cell-internal* biophysics properties (such as ion channels, concentration models, and physical membrane and cytosol properties) are modelled as being *finely distributed* over spans of neurite; whereas points of *interaction with* the neuron such as synapses and input probes are modelled as non-spatial (\"point\") processes that are located at a specific spot on the neuron.\n",
    "\n",
    "<!-- LATER explain also the grey zone of point neurons with comps?, also know as \"abstract\" or \"artificial\" cells -->\n",
    "**Aside**: Once the biophysical effects are captured and quantified well enough through in-vitro and/or in-silico experiments, these effects can be added back to simplified neuron models: the aim is to preserve the effect while simplifying the dynamics equantions and their computational requirements.  These *improved* simplified neurons can be expressed in NeuroML with the help of LEMS, as shown in the [relevant article]( intro_lems.ipynb )."
   ]
  },
  {
   "cell_type": "markdown",
   "metadata": {},
   "source": [
    "This article introduces the additional attributes that spatially-detailed cell models have comapred to point neuron models, outlines how these attributes can be stated through NeuroML, and shows the usual steps to construct spatially detailed neuron models, run them, and display and assess the simulation's results.\n",
    "\n",
    "---"
   ]
  },
  {
   "cell_type": "markdown",
   "metadata": {},
   "source": [
    "## Putting together a cell type\n",
    "\n",
    "In NeuroML, spatially-modelled neurons are desctibed through the generic-sounding `<cell>` tag, noe for each *neuron type*.  This tag must \"contain\" two other tags: a `<morphology>` tag that describes the *shape* of the neuron type, and a `<biophysicalProperties>` tag that describes the biophysics going on throughout the shape of the cell.  Each of these tags will be explained in *adequate* depth in the following sections.\n",
    "\n",
    "* **Tip**: If each neuron has a different shape, each neuron will need to be in its own `<cell>` type. \n",
    "\n",
    "When different cell types share a morphology or set of biophysics, or it's just more convenient that way, the `<morphology>` and `<biophysicalProperties>` tags may have unique `id` attributes and be defined *independently* in the top-level `<neuroml>` tag.  In this case, the `<cell>` tag may, instead of containing a `<morphology>` or `<biophysicalProperties>` tag inside it,  have a `morphology` or `biophysicalProperties` *attribute* that names the stand-alone tag with associated `id`.\n",
    "\n",
    "* **Note**: If different `<cell>` types point to the same `<biophysicalProperties>` this way, the contents of that tag will be duly *interpreted* according to each `<cell>` type's `<morphology>` (including `<segmentGroup>`s that may differ in each case).\n",
    "\n",
    "Let's see how the attributes of a spatially-modelled neuron are described with NeuroML; first the *[shape]( #The-morphology-of-the-cell )* of the neuron, and then the *[biophysics]( #The-biophysics-of-the-cell )* that are present on each part of the morphology."
   ]
  },
  {
   "cell_type": "markdown",
   "metadata": {},
   "source": [
    "## Peeking at the neuron model's structure\n",
    "Before diving into the details, to provide some context on what we're about to discuss, let's visualise a spatially detailed neuron model first. For that we'll use [explain_cell]( python_api.rst#eden_simulator.experimental.explain_cell ) that will be further explained [in the following]( #Retrieving-and-using-the-discretisation ).\n",
    "\n",
    "A typical neuron model with high spatial detail is [𝙽𝙼𝙻𝙲𝙻𝟶𝟶𝟶𝟼𝟸𝟻: A Neocortical L6 basket cell]( https://neuroml-db.org/model_info?model_id=NMLCL000625 ) from the NeuroML-DB.  Feel free to search for and upload other models as well; a simpler stick-figure model is also suggested at the end of this section.\n",
    "<!-- NEXT resources link...  -->\n",
    "<!-- LATER consider a cell type with clearly separated apical and basal dendrites, though it's also more bipolar: https://neuroml-db.org/model_info?model_id=NMLCL000669  -->"
   ]
  },
  {
   "cell_type": "code",
   "execution_count": null,
   "metadata": {},
   "outputs": [],
   "source": [
    "nmldb_cell_name = 'NMLCL000625'; zip_file_name = f'{nmldb_cell_name}.zip'\n",
    "# Download the zip file with the model\n",
    "import urllib.request\n",
    "# Because NMLDB is having some issues with HTTPS, don't demand HTTPS verification\n",
    "import ssl; ssl._create_default_https_context = ssl._create_unverified_context\n",
    "urllib.request.urlretrieve(f'http://neuroml-db.org/GetModelZip?modelID={nmldb_cell_name}&version=NeuroML', zip_file_name)\n",
    "# and unpack it\n",
    "from zipfile import ZipFile\n",
    "with ZipFile(zip_file_name, 'r') as zipp: zipp.extractall(nmldb_cell_name+'/')\n",
    "# Find the cell's .nml file\n",
    "import os\n",
    "cell_filenames = [ nmldb_cell_name+'/'+name for name in os.listdir(nmldb_cell_name) if name.endswith('.cell.nml') ]\n",
    "assert len(cell_filenames) == 1, \"Didn't find a lonely cell nml file!\""
   ]
  },
  {
   "cell_type": "markdown",
   "metadata": {},
   "source": [
    "An important thing to understand and remember is that when simulating across the body of a neuron, this is not done in perfect detail, for practical reasons. The shape of the neuron is *discretised* (sort of \"chopped\") into chunks called *compartments* (or other terms, as seen on the [terminology table]( faq.rst#terminology-dictionary ).\n",
    "\n",
    "To illustrate, we'll paint each *compartment* differently and show both the shape of the modelled neuron, as well as how it is *discretised* for simulation. Right after, we'll see how this neuron was built in NeuroML."
   ]
  },
  {
   "cell_type": "code",
   "execution_count": null,
   "metadata": {},
   "outputs": [],
   "source": [
    "# Get some information about the cell, like shape and no. of compartments\n",
    "import eden_simulator\n",
    "cells_info = eden_simulator.experimental.explain_cell(cell_filenames[0])\n",
    "# one cell in the model file, get it\n",
    "cell_info = list(cells_info.values())[0]\n",
    "# count the per-compartment information that explain_cell provides\n",
    "nCellComps = len(cell_info['comp_midpoint'])\n",
    "\n",
    "# Create some different colours to show the different compartments\n",
    "import numpy as np\n",
    "rng = np.random.default_rng(seed=20240901)\n",
    "comp_colors = rng.random([nCellComps, 3])"
   ]
  },
  {
   "cell_type": "code",
   "execution_count": null,
   "metadata": {},
   "outputs": [],
   "source": [
    "# Show a neuron, painted by compartment\n",
    "from eden_simulator.display.spatial import k3d as ek3d; import k3d\n",
    "plot = Comps_plot = ek3d.Plot(grid_visible=False, menu_visibility=False, camera_auto_fit=True);\n",
    "plot += ek3d.plot_neuron(cell_info, comp_colors)\n",
    "plot.show_html()"
   ]
  },
  {
   "cell_type": "raw",
   "metadata": {
    "raw_mimetype": "text/latex"
   },
   "source": [
    "\\begin{center}\\sphinxincludegraphics[width=0.9\\textwidth]{{_static/intro_spatial_comps}.png}\\end{center}"
   ]
  },
  {
   "cell_type": "markdown",
   "metadata": {},
   "source": [
    "Try to read the [NeuroML description]( https://neuroml-db.org/render_xml_file?modelID=NMLCL000625 ) of the cell (check for code-folding arrows at the start of nested lines, on your web browser or code editor).  Scroll to near the end of the file and find that these endless lines of `<segment>`s and `<segmentGroup>`s have given way to a `<biophysicalProperties>` tag with only a few `<channelDensity>`s and other properties inside it.  Don't push yourself to understand all of the file just yet; all of its intricacies will be explained in depth by this article.\n",
    "\n",
    "In case the above file is unwieldy to use (or out of interest), see also a simpler `<cell>` model with a *stylised* (or \"stick figure\") shape, for [granule cells of the cerebellar cortex]( https://neuroml-db.org/model_info?model_id=NMLCL000002 ); scroll down to `Granule_98_3D.cell.nml` and click on `( view NeuroML )` to read the NML description.  As you'll see by studying its `<morphology>` in the following (and also by clicking on `Morphology` on that page), this cell has a small spherical soma linked to a very long axon, bifurcated into a `T` shape.  This axon is called a *[parallel fiber]( https://en.wikipedia.org/wiki/Parallel_fiber )* and it goes in the same direction relative to the [Cb]( https://www.thehumanbrain.info/database/nomenclature.php#C ) cortex, for all granule cells.  Likewise, other types of neuron in the brain have different distinctive anatomical features and [shapes]( https://en.wikipedia.org/wiki/Neuron#Structural_classification ).\n",
    "\n",
    "Let's see what NeuroML `<cell>`s are made of then."
   ]
  },
  {
   "cell_type": "markdown",
   "metadata": {},
   "source": [
    "## The morphology of the cell\n",
    "\n",
    "In neuro-anatomy, what's called the *morphology* of a cell is all the *spatial information* about it.  This is described in NeuroML with a `<morphology>` tag, which contains `<segment>`s that the cell is built of and `<segmentGroups>` which define areas of particular interest on the cell.\n",
    "\n",
    "See also the official [NeuroML guide]( https://docs.neuroml.org/Userdocs/ImportingMorphologyFiles.html ) on the following concepts and moving data to/from other technologies.\n",
    "\n",
    "### Segments\n",
    "\n",
    "The morphology of a neuron, in NeuroML and virtually all simulators at the modelling level of networks with multi-compartment neurons, is formulated as a [tree structure]( https://en.wikipedia.org/wiki/Tree_(data_structure) ) of branching neurite tubes.  The tubes can have a varying diameter over their length; they can be broken down into *truncated cones* (specifically [non-oblique frusta]( https://mathworld.wolfram.com/ConicalFrustum.html )) that are joined together to form the neuron's [neurite tree]( https://en.wikipedia.org/wiki/Neurite ).\n",
    "\n",
    "Here is a sketch of a NeuroML-style frustum for reference, from [Wikipedia]( https://en.wikipedia.org/wiki/File:CroppedCone.svg ):\n",
    "<style>\n",
    ".eden-sphinx-inline-figure {\n",
    "  width: 20em;\n",
    "  height: auto;\n",
    "}\n",
    "</style>\n",
    "<!-- LATER css? -->\n",
    "\n",
    "<center>\n",
    "    <img src=\"https://upload.wikimedia.org/wikipedia/commons/5/5c/CroppedCone.svg\" alt=\"A frustum.\" style=\"max-width: 30em;\n",
    "  max-height: 20em;\">\n",
    "</center> <!-- LATER fine tune size also for latex... -->\n",
    "\n",
    "A `<segment>`'s geometry can be defined as a pair of *ends*, where each end is a circular disc with a *centre* in space, and a *diameter* (or equivalently radius).  The planes on which the discs lie are perpendicular to the line segment joining the two centres, for non-oblique frusta.\n",
    "\n",
    "Within a `<morphology>`, the `<segment>`s are arranged in a *directed tree* structure, which means that all except for one are connected to a \"parent\" segment.  The one that remains is called the \"root\" and is the \"ancestor\" of all other segments. By convention, the root is considered to be the soma (from which all processes emerge, after all), so that each \"parent\" segment is in turn located a little closer to the soma.  Hence, for each segment we name its end that's near the parent as *proximal* and the one that's further from the parent as *distal*.  (For the *root segment*, we can name the two ends either way.)\n",
    "\n",
    "Of course, some questions arise when it's time to model the soma as a tree of frusta.  The usual practices are:\n",
    "\n",
    "* When the soma can be modelled as one single compartment and looks bulbous, it is allowed to be modelled as a *sphere* instead:\n",
    "    * The segment's two ends have the same *diameter*, and the distance between them is either *none* (as a convention that's accepted to represent a sphere) or equal to the diameter (in which case, the resulting cylinder has the same (membrane) surface area as a sphere with the same diameter).\n",
    "* Alternatively, for an e.g. elongated soma, a modeller could *slice it like a tuber* along the longest axis, to better preserve the original shape.\n",
    "* When modelling a bipolar cell, modellers may opt to have neurites grow from the \"proximal\" end of a segment that represents the soma.  More commonly for any type of cell, neurites may sprout from a segment near the middle of the soma.\n",
    "\n",
    "<div class=\"alert alert-info\">\n",
    "Note\n",
    "    \n",
    "It is worth noting that the soma is not that nicely captured in this formulation, which may impact simulation accuracy *within the soma*.  To correct for this, the biophysical factors over the soma are usually empirically adjusted to yield the correct \"effective\" values.\n",
    "</div>"
   ]
  },
  {
   "cell_type": "markdown",
   "metadata": {},
   "source": [
    "The neuron's shape is then described inside the `<morphology>` as a list of `<segment>` tags like this:\n",
    "\n",
    "```xml\n",
    "<morphology>\n",
    "    ...\n",
    "    <segment id=\"0\" name=\"Soma_0\">\n",
    "        <proximal x=\"0\" y=\"0\" z=\"0\" diameter=\"20\"/>\n",
    "        <distal x=\"10\" y=\"0\" z=\"0\" diameter=\"20\"/>\n",
    "    </segment>\n",
    "    <segment id=\"10\" name=\"Axon_1\">\n",
    "        <parent segment=\"0\"/>\n",
    "        <proximal x=\"0\" y=\"0\" z=\"0\" diameter=\"15.6\"/>\n",
    "        <distal x=\"20\" y=\"7\" z=\"0\" diameter=\"5\"/>\n",
    "    </segment>\n",
    "    <segment id=\"11\" name=\"Axon_2\">\n",
    "        <parent segment=\"10\" fractionAlong=\"0.6\"/>\n",
    "        <distal x=\"12\" y=\"9\" z=\"0\" diameter=\"5\"/>\n",
    "    </segment>\n",
    "    ...\n",
    "```\n",
    "\n",
    "And the meaning of the attributes and the enclosed `<proximal>` and `<distal>` tags is as follows:\n",
    "\n",
    "* `id`: A distinct integer to name give the segment a name.\n",
    "* `name`: A more human-readable name to describe the segment with, but it is not actually used as part of the model; the `id` number is, instead.\n",
    "* Within the segment there are more tags:\n",
    "    * Two tags called `proximal` and `distal` to define the extent of each frustum.  Each has the following attributes:\n",
    "        * `x`, `y`, `z`: The coordinates of the end's centre in 3-d space, in microns.\n",
    "        * `diameter`:The diameter of the frusum on that end, in microns.\n",
    "    * For non-root segments, a `<parent>` tag specifying a the `id` of each's parent `segment`.  Said parent must have been declared previously in the `<segment>` sequence.\n",
    "        * For more precision, the exact *point on the parent segment* to which this segment is attached, can also be specified.  The point is given as the `fractionAlong` the parent segment's length, from  `0` (`proximal` \"start\" point) to `1` (`distal` \"end\" point).\n",
    "          * The default value is `1` (attached to the parent's `distal` end).\n",
    "    * If the segment has a `parent`, defining its `<proximal>` end is optional; by default, it will be same as the point interpolated by `fractionAlong`, on the `parent` segment.\n",
    "      the `x`, `y`, `z` as well as the `diameter` are interpolated between the two ends of the parent. "
   ]
  },
  {
   "cell_type": "markdown",
   "metadata": {},
   "source": [
    "#### Standards in morphology coordinates\n",
    "\n",
    "As expected, the 3-D coordinates for the `proximal` and distal ends of each segment must have an *origin* $(0,0,0)$; but what this is, is up to who traced the neurons.  A common convention to place the origin near the middle of the soma.   \n",
    "Likewise, what the $\\overrightarrow x, ~ \\overrightarrow y,~ \\overrightarrow z ~$ directions represent is, unfortunately, up to the person who traced the neuron; there is no commonly agreed convention.  Hence, you may have to tweak the coordinates to your favourite coordinate system:  \n",
    "\n",
    "- Observe a discernible feature e.g. the axon;\n",
    "- then see which direction it extends to in the modeller's coordinates;\n",
    "- see which direction it should be following in your coordinates, and you'll understand how to map this axis.\n",
    "- If it's important, repeat for the other two axes (eg with planarity, or asymmetrical shape) to find out how to transform the other axes.\n",
    "\n",
    "**Note**: the origin used for the morphology is also used to (dis)place the cell [\\<𝚒𝚗𝚜𝚝𝚊𝚗𝚌𝚎\\>]( https://docs.neuroml.org/Userdocs/Schemas/Networks.html#instance )s within a [\\<𝚗𝚎𝚝𝚠𝚘𝚛𝚔\\>]( https://docs.neuroml.org/Userdocs/VisualisingNeuroMLModels.html#view-the-3d-structure-of-your-model ). See how this is done for example, on the [Network tutorial]( tut_net.ipynb#Placing-neurons ) and [𝙴𝚍𝚎𝚗𝙲𝚞𝚜𝚝𝚘𝚖𝚂𝚎𝚝𝚞𝚙 example]( extension_customsetup.ipynb#Example:-A-network-with-variability-over-neurons,-synapses-and-probes ).\n",
    "\n",
    "<!-- #### Relation to SWC? -->\n",
    "**Note**: \n",
    "The NeuroML formulation is similar to very common [SWC file format]( https://doi.org/10.1016/S0165-0270(98)00091-0 ) that describes morphologies.  The additional features that NeuroML offers beyond SWC are:\n",
    "\n",
    "* The `proximal` end of a `segment` can be different from the `parent`'s `distal`; i.e. it can have different diameter and displacement in space.\n",
    "* The `<segmentGroup>` concept is much more powerful, in that the groups have names and descriptions (or metadata), and *can contain and/or overlap with other groups*.\n",
    "* The preferable discretisation of the cell can be provided, which is important for accurate *and* efficient simulation."
   ]
  },
  {
   "attachments": {},
   "cell_type": "markdown",
   "metadata": {},
   "source": [
    "#### Specifying a location on a cell\n",
    "\n",
    "Given the tree of `<segment>`s that outlines the shape of the neuron, a site on its surface can be designated as a NeuroML `<segment>` `id`, and `fractionlong` the axial direction of said `<segment>`.  This pair of `segment` and `fractionAlong` is used to:\n",
    "\n",
    "1. [precisely attach]( #Attaching-probes-and-synapses-on-a-spatially-modelled-cell ) synapses and stimulation probes to cells;\n",
    "1. record local action potentials with `<EventOutputFile>`s, and trajectories of quantities in `<OutputFile>`s — to specify `fractionAlong` together with the `segment`, use EDEN's [extended LEMS paths]( extension_paths.rst ).\n",
    "\n",
    "In all these cases:\n",
    "\n",
    "* If the `segmentId` is not specified, it is assumed `0` : typically the soma (but look out), or the entirety of a point neuron.\n",
    "* If the `fractionAlong` is not specified, it is assumed `0.5`: the middle of the segment, doesn't matter for point neurons. (or spatially detailed ones that comprise just one compartment, for that matter)\n",
    "\n",
    "*Aside:* One could also ask for a specific *depth* into the cytosol and *azimuth* on the plane with the same `fractionAlong`, but NeuroML (and SNN simulators in general) hasn't yet reached this level of spatial detail in the space of representable models (or there would be a way to model the soma in detail already)."
   ]
  },
  {
   "cell_type": "markdown",
   "metadata": {},
   "source": [
    "### Segment groups\n",
    "\n",
    "The *segments* that build up the neuritic tree can be organised into *groups* that represent parts of the neuron.  Groups are like *[mathematical sets]( https://en.wikipedia.org/wiki/Set_theory )* in that they one can completely include another, or they can overlap at an *intersection subset* of segments.  This also means that segments don't have to be part of one group exclusively.\n",
    "\n",
    "Segment groups thus demarcate interesting *regions* within a neuron, for looking at, or also relevant to our model.\n",
    "<!-- of anatomical interest, or also to aid modelling. -->\n",
    "\n",
    "In NeuroML, segment groups are defined within a `<morphology>`, as `<segmentGroup>` tags that include member segments, and/or other segment groups.\n",
    "\n",
    "The `<segmentGroup>` tag has the following properties:\n",
    "\n",
    "* `id`: unique name for the group. **Note**: Unlike the `id`s of `<segment>`s, this can be any alphanumeral.\n",
    "* `neuroLexId`: A machine-readable [NeuroLex]( https://doi.org/10.3389%2Ffninf.2013.00018 ) keyword that identifie the *type* of the neuron's region. For example, [GO:0043025]( https://amigo.geneontology.org/amigo/term/GO:0043025 ) stands for \"soma\", [GO:0043024]( https://amigo.geneontology.org/amigo/term/GO:0030424 ) stands for \"axon\", and [GO:0097447]( https://amigo.geneontology.org/amigo/term/GO:0097447 ) stands for \"all the dendrites\".\n",
    "  * The identifier `sao864921383` has a special meaning for the implicit [discretisation]( #The-unbranched-section-directive ) of the neuron, explained in a following section. \n",
    "    \n",
    "Each `<segmentGroup>` tag may also contain other tags, that list its properties:\n",
    "\n",
    "* `<member segment=\"<seg id>\"/>`: Adds a single segment to this group.\n",
    "* `<include segmentGroup=\"group id\"/>`: Adds a previously defined group to this group.\n",
    "* There also exist [\\<𝚙𝚊𝚝𝚑\\>]( https://docs.neuroml.org/Userdocs/Schemas/Cells.html#path ) and [\\<𝚜𝚞𝚋𝚃𝚛𝚎𝚎\\>]( https://docs.neuroml.org/Userdocs/Schemas/Cells.html#subtree ) tags to include segment spans in the standard, but EDEN doesn't support them yet; they have not been used in practice.  \n",
    "  (**Note**: Segment groups can always be constructed programmatically to exactly fit the modeller's intention.)\n",
    "* `<property tag=\"<name>\" value=\"<content>\">` tags can also be used to add more infromation about the segment group.  The `tag=\"numberInternalDivisions\"` may be used to help with [discretisation]( #The-unbranched-section-directive ), *when* `neuroLexId=sao864921383` \"[compartment]( https://scicrunch.org/scicrunch/interlex/view/ilx_0109858 )\".\n",
    "* Finally, the `<inhomogeneousParameter>` tag can be used to associate a spatial scalar function with the group.  This function can then be used to specify non-uniformity in ion channel distributions; hence the tag is explained in the relevant [section]( #Non-uniform-ion-channel-distributions-in-NeuroML ).\n",
    "\n",
    "#### The group `\"all\"`\n",
    "\n",
    "If it is not otherwise defined by the modeller, the group `\"all\"` is defined as a shorthand that captures the entirety of the cell.  It is, for example, useful to place mechanisms *all over* the cell, such as the membrane's intrinsic electrical leak, or possibly an ion channel distribution that's present throughout the cell's membrane."
   ]
  },
  {
   "cell_type": "markdown",
   "metadata": {},
   "source": [
    "### Simulation aspect: Discretisation into compartments\n",
    "\n",
    "So far, we saw how the anatomical shape of the neuron is expressed in NeuroML.  But as we saw at the [start]( #Peeking-at-the-neuron-model's-structure ) of the article, this shape is *split* (in mathematical language, *discretised*) into little bits, called *compartments*.  The neuron is approximated by these compartments in the same way that an image can be approximated by pixels.  There often are good reasons for the modeller to *control* how this discretisation happens; and NeuroML allows such control, albeit through more implicit than explicit rules.\n",
    "\n",
    "**Note**: Although the exact discretisation method shouldn't matter in theory, it is often important in practice.  Naturally, a too big (or less often, too *small*) compartment may provide a poor reproduction of the ideal \"real\" thing, as we'll see in a following [exercise]( #Example:-Modelling-and-simulating-a-stretch-of-neural-cable ).  *But* there are models where compartments (often containing certain sensitive biophysical mechanisms) have to have an *exact* size to reproduce the phenotype!\n",
    "\n",
    "The implicit rules of NeuroML for discretisation are as follows:\n",
    "\n",
    "* `<segmentGroup>`s tagged with `neuroLexId=\"sao864921383\"` follow [\"cable\" rules]( #The-unbranched-section-directive ); \n",
    "* Each `<segment>` that doesn't belong in such a  corresponds to one individual compartment.\n",
    "    * This is how discretisation is always done, for example, in the [GENESIS]( //http://genesis-sim.org/ ) simulator.\n",
    "\n",
    "<!-- what if we could have a pre-discretised morph? not really practical, need to keep multiple pt3d or else tortuosity and area will change... -->\n",
    "**Tip**: If your modelling pipeline already offers its own discretisation (and it's not as easy to convert as with NEURON), consider *splitting* your `<segment>`s (or equivalent) at compartment boundaries, and then joining the segment parts of each compartment into \"cable\" `<segmentGroup>`s (see below).  If your modelled compartments include branching points *within* them, consult also the `comp_area`, `comp_capacitance` and `comp_conductance_to_parent` information that `explain cell` [provides]( python_api.rst#eden_simulator.experimental.explain_cell ), to make equivalent NeuroML-supported compartments; look out for the influence of altered `<segment>`s on their surface area and electrical tortuosity."
   ]
  },
  {
   "cell_type": "markdown",
   "metadata": {},
   "source": [
    "#### The *unbranched section* directive\n",
    "\n",
    "NeuroML offers an implicit rule for discretising spans of unbranched neurite *cable*.  The rule applies when the span is gathered into a `<segmentGroup>` with the attribute `neuroLexId=\"sao864921383\"`.\n",
    "In that case, the length of all contained segments is added up and divided among a number of compartments, so that each compartment takes over an equal fraction of the total cable length.\n",
    "The number of compartments can be specified by adding inside the same `<segmentGroup>` the tag `<property tag=\"numberInternalDivisions\" value=\"<number>\">`.\n",
    "\n",
    "* If `neuroLexId=\"sao864921383\"` and this tag is *not* specified, the whole group is assumed to map to *one* compartment (i.e. `numberInternalDivisions = 1`).\n",
    "\n",
    "See also these tickets:\n",
    "\n",
    "* https://github.com/NeuroML/pyNeuroML/issues/77\n",
    "* https://github.com/NeuroML/NeuroML2/issues/156\n",
    "\n",
    "<div class=\"alert alert-info\">\n",
    "Tip\n",
    "\n",
    "`neuroLexId=\"sao864921383\"` corresponds to the `<cable>`s of the previous incarnation of NeuroML, [NMLv1]( https://github.com/NeuroML/org.neuroml1.model/blob/v1.9.1/src/main/resources/NeuroML1Schemas/Level1/MorphML_v1.8.1.xsd#L327 ).  \n",
    "It facilitates conversion of models that were originally written for the NEURON simulator, which shares the concept of continuous *sections* of neurite tube making up the neurons.\n",
    "</div>\n",
    "\n",
    "To prevent ambiguity, \"cable\" `<segmentGroup>`s are not allowed to overlap.\n",
    "\n",
    "Refer also to NEURON's user guide and forum on wise [choices]( https://nrn.readthedocs.io/en/latest/guide/faq.html#what-s-a-good-stretegy-for-specifying-nseg ) for `numberInternalDivisions`.  \n",
    "But also keep in mind that uniform spacing could be a suboptimal discretisation method if the neurite diameter, or parameters of active mechanisms, vary wildly.  Take care when building models, and consider fine-tuning the discretisation around the important points.\n",
    "\n",
    "As a final note: For some models and experiments, the discretisation can also be *reduced* to a smaller number of compartments (see this [early paper]( https://doi.org/10.1016/0165-0270(93)90151-G ) and other advances since).  This will affect the neuron's dynamics (by more or by less) and *drastically* cut down the time it takes to run a simulation.  Check if it's applicable for your use case; but also be aware of the trade-offs, and the points where the decision will have to change.  \n",
    "<!-- It's essentially a simplification step down the road to point neurons, after all... -->"
   ]
  },
  {
   "cell_type": "markdown",
   "metadata": {},
   "source": [
    "#### Retrieving and using the discretisation\n",
    "\n",
    "After *specifying* the discretisation, *getting it back* can also prove useful.  Typical applications are:\n",
    "\n",
    "* displaying a changing quantity across the neuron; <!-- LATER viz_3d.ipynb -->\n",
    "* visually [inspecting]( #Peeking-at-the-neuron-model's-structure ) the discretisation's fineness while modelling;\n",
    "* controlling [non-uniform biophysical properties]( #Non-uniform-ion-channel-distributions-in-NeuroML ) at the [finest level]( example_spatial_customsetup.ipynb );\n",
    "* better reconciling the equations between domains of the simulation, when the *surroundings* of the neuron matter; see also the [LFP]( exa_lfp.ipynb ) example.\n",
    "<!-- NEXT and [imposed field]( example_imposed_field.ipynb ) examples. -->\n",
    "\n",
    "EDEN can help with extracting the discretisation of neurons, through the auxiliary `explain cell` [feature]( python_api.rst#eden_simulator.experimental.explain_cell ), as seen [above]( #Peeking-at-the-neuron-model's-structure ).  This feature produces a breakdown of cell types into the compartments that make them (which may have a many-to-many relationship with `<segment>`s in general), and the geometrical and physical properties of each compartment such as area and electrical capacitance of the membrane, and distance from the soma along the neurite path.  It also produces aditional compartment-related information, such as the list of compartments that belong to each [segment group]( #Segment-groups ) and a 3-D polygon mesh that represents the neuron's morphology, and can be coloured per individual compartment."
   ]
  },
  {
   "cell_type": "markdown",
   "metadata": {},
   "source": [
    "### Visualisation example\n",
    "\n",
    "Now that we know what `<segment>`s and `<segmentGroup>`s are, let's see the neuron that was painted per compartment before, painted here separately for each main region.  Note that all dendrites happen to be classified as \"basal\" in this cell model."
   ]
  },
  {
   "cell_type": "code",
   "execution_count": null,
   "metadata": {},
   "outputs": [],
   "source": [
    "# For each group: NML name, color, description\n",
    "group_info = [\n",
    "    ('somatic', (0.8, 0.7, 0.4), 'Soma'),\n",
    "    ('axonal' , (0.8, 0.2, 0.2), 'Axon'     ),\n",
    "    ('basal'  , (0.5, 0.1, 0.5), 'Dendrites'), ]\n",
    "\n",
    "# First, set a color for comps that are in none of these groups.\n",
    "comp_colors[:,:] = [[0.5,0.5,0.5]]\n",
    "# Then, paint the compartments for each group.\n",
    "for group_name, color, _ in group_info:\n",
    "    comps_in_group = cell_info['segment_groups'][group_name]['comps']\n",
    "    comp_colors[comps_in_group] = color\n",
    "\n",
    "# Show the neuron:\n",
    "plot = Groups_plot = ek3d.Plot(grid_visible=False, menu_visibility=False);\n",
    "plot += ek3d.plot_neuron(cell_info, comp_colors)\n",
    "\n",
    "# And add some annotations.\n",
    "for i, (_, color, description) in enumerate(group_info):\n",
    "    plot += k3d.text2d(description, (0,0.9-0.15*i), color=ek3d.RgbToInt(color),\n",
    "                      is_html=True, label_box=False, size=2.5)\n",
    "    \n",
    "plot.show_html()"
   ]
  },
  {
   "cell_type": "raw",
   "metadata": {
    "raw_mimetype": "text/latex"
   },
   "source": [
    "\\begin{center}\\sphinxincludegraphics[width=0.9\\textwidth]{{_static/intro_spatial_areas}.png}\\end{center}"
   ]
  },
  {
   "cell_type": "markdown",
   "metadata": {},
   "source": [
    "## The biophysics of the cell\n",
    "\n",
    "After specifying everything about the shape and discretisation of a neuron, it's time to specify the *biophysical properties* that are present in (on, and around) it in our model.  In NeuroML, these can be classified as:\n",
    "\n",
    "* [*Electrical properties*]( #Electrotonic-properties ) of the neuritic cable, such as surface capacitance, axial resistance, and voltage threshold to register an action potential (to trigger post-synapses);\n",
    "* Distributions of trans-membrane mechanisms, such as [ion channels, passive leaks]( #Adding-ion-channels-and-other-leaks-to-the-membrane ), and [concentration models]( #Adding-concentration-models-near-the-membrane ) (and pumps) of substances (such as ions) around the membrane;\n",
    "* Individual (usually trans-membrane) [instances of mechanisms]( #Attaching-probes-and-synapses-on-a-spatially-modelled-cell ), such as synapses and stimulation probes.\n",
    "\n",
    "In NeuroML, all these are defined within a `<biophysicalProperties>` tag.  This contains the `<membraneProperties>`, `<intracellularProperties>` and `<extracellularProperties>` tags where each in turn contains some of the properties (as more appropriate location-wise).\n",
    "\n",
    "Until a later revision of NeuroML includes them, other properties may still be model-able today as [LEMS components]( intro_lems.ipynb ) that are designed to apply the desired effect.\n",
    "<!-- , or the planar method LATER -->\n",
    "\n",
    "All these are described for a cell type as *distributions* of parameters and mechanisms.  The distributions apply all over the cell, or are bounded by a `<segment>` or `<segmentGroup>`, referring to the `<morphology>` that's already defined for the `<cell>` type.  \n",
    "\n",
    "* Each of the tags discussed in the following may have a respective `segment` or `segmentGroup` attribute; if neither is specified, it applies for the [group]( #The-group-\"all\" ) `all`.\n",
    "\n",
    "<div class=\"alert alert-warning\">\n",
    "Caution\n",
    "\n",
    "Make sure you don't miss parts of the intended area when distributing over disparate segment groups; if you want a visual check, use the code [above]( #Visualisation-example ) to verify.\n",
    "</div>\n",
    "\n",
    "Fun fact: The user guide of the simulator Arbor [calls]( https://docs.arbor-sim.org/en/latest/concepts/decor.html#cablecell-decoration ) the process of placing mechanisms on neurons, \"decoration\" and specifically distributing attributes over the cell's morphology, \"painting\"; this author approves of those metaphors."
   ]
  },
  {
   "cell_type": "markdown",
   "metadata": {},
   "source": [
    "### Electrotonic properties\n",
    "\n",
    "Some general *electrical* properties of the neuritic cable making up the neuron can be provided with the following tags:\n",
    "\n",
    "* `<specificCapacitance value=\"(capacitance per area)\"/>`: The local *specific* capacitance of the membrane.\n",
    "* `<resistivity value=\"(resistance times length)\"/>`: The local resist*ivity* of the cytoplasm. (assuming current flows through the whole cross-section equally)\n",
    "* `<initMembPotential value=\"(voltage value)\" />`: The *initial value* for the cross-membrane voltage $V_m$ when the simulation starts. <!-- LATER spatial customsetup, people want steady state even for polarity perhaps? -->\n",
    "* `<spikeThresh value=\"(voltage value)\"/>`: The threshold that $V_m$ need to exceed, for an action potential to be *registered* in the model.  This is also the point in time (plus possible delay) when *event-based synapses* are *activated*. (See also the [comparison]( intro_neuroml.ipynb#Adding-graded-interactions ) between \"classic\" and graded synapses.)\n",
    "    * **Note**: `<spikeThresh>` is optional, but spikes will *not* be registered from the areas where it isn't specified!\n",
    "\n",
    "Except for `<resistivity>` which is located within `<intracellularProperties>`, the other properties are located within `<membraneProperties>`. \n",
    "\n",
    "* **Important**: These properties may be *redefined* by tags with overlapping areas.  In this case, each spot is assigned the value of the last tag that applies to it, in sequence within the `<biophysicalProprties>` tag.\n",
    "This is similar to how EDEN's [\\<𝙴𝚍𝚎𝚗𝙲𝚞𝚜𝚝𝚘𝚖𝚂𝚎𝚝𝚞𝚙\\>]( extension_customsetup.ipynb ) extension works.\n",
    "\n",
    "**Note**: *Passive* electrical leakage of the membrane is specified in NeuroML as a [trans-membrane mechanism]( #Adding-ion-channels-and-other-leaks-to-the-membrane ), typically a `<channelDensity>` of and `<ionChannel>` in the degenerate case (lacking any \"`<gate>`\"s).\n",
    "<!-- LATER show the cable equation here as well. -->\n",
    "\n",
    "<div class=\"alert alert-info\">\n",
    "Note\n",
    "\n",
    "The dynamics of a spatially detailed cell are that of the [passive *neural cable*]( https://en.wikipedia.org/wiki/Cable_theory ), combined with the dynamics of the various *mechanisms* present on different parts of the cell.\n",
    "</div>"
   ]
  },
  {
   "cell_type": "markdown",
   "metadata": {},
   "source": [
    "### Adding ion channels and other leaks to the membrane\n",
    "\n",
    "More than simple physical properties, dynamic *mechanisms* may also be present over the neuron's morphology.  The most common type of trans-membrane mechanism is *ion channels*.  These \"open\" and \"close\" for specific ion species (or sometimes, any form of current) and their state is influenced by electro-chemical factors, plus the state they were at right before.  The constituent parts of the ion channel that participate in opening and closing often called \"*gates*\".\n",
    "\n",
    "Since a single ion channel is a quite small entity (compared to [compartments]( #Simulation-aspect:-Discretisation-into-compartments ) of the neuron),  populations of ion channels are usually modelled as *distributions* finely spread over areas.  \n",
    "\n",
    "For the same reason, the ion channels' dynamics are usually modelled at the macroscopic (or smooth) level.  In this level there are fractional *gate variables* that represent the *average* state of a gate population within the channel population, and there are *continuous-time [ODE]( https://en.wikipedia.org/wiki/Ordinary_differential_equation )'s* that govern the *average* rates of change between the \"open\" and \"closed\" states.  (More faithful, *stochastic* models may still be implemented, but at this point in NeuroML they'll be more practical to model as stochastic processes for the macroscopic gate variables.)"
   ]
  },
  {
   "cell_type": "markdown",
   "metadata": {},
   "source": [
    "#### Designing ion channels\n",
    "\n",
    "NeuroML describes ion channels through the `<ionChannel>` tag, and includes a multiplied-gate *formulation* of ion channel models for modellers to work with.  (Do keep in mind that more formulations than those out of the box can be described, [using LEMS]( intro_lems.ipynb#Custom-ion-channels,-gates-and-rates )).\n",
    "\n",
    "All ion channel tags may have the following optional attributes:\n",
    "\n",
    "* `type`: Can be used in place of the tag's name itself, to identify the particular type of ion channel;  EDEN uses that or the tag name to use LEMS `<ComponentType>`s as ion channels.\n",
    "* `species`: The sort of substance (typically an ion) that passes through the channel.  If missing, the ion channel is assumed to permit *non-specific current*; that is, current flows without really affecting the local concentrations of tracked ion species.\n",
    "* `conductance`: The conductance of a *single* ion channel.  Must be set for a [population]( #Ion-channel-distributions ) of *individual ion channels* rather than a coarse density.\n",
    "    * **Note**: The dynamics are the same either way, the \"population\" is still assumed to be lumped into one aggregate mechanism instance (per compartment) in NeuroML.\n",
    "\n",
    "Unless specially modelled through LEMS, the `<ionChannel>` tag contains `<gate>`s of various types, each with its multiplicity and dynamics as described in the following:\n",
    "\n",
    "* [Classic Hodgkin-Huxley gate models]( #Classic-Hodgkin-Huxley-gate-dynamics ): `<gateHHrates>`, `<gateHHtauInf>`, `<gateHHratesTau>`, `<gateHHratesInf>`, `<gateHHratesTauInf>`\n",
    "* [HH sub-gate models]( #Fractional-HH-gate-dynamics ): `<gateFractional>`\n",
    "* [Multi-state gates with general kinetics]( #Multi-state-Markov-gate-dynamics ): `<gateKS>`\n",
    "* [Stateless gates]( #Instantaneous-gate-dynamics ): `<gateInstantaneous>`\n",
    "\n",
    "**Note**: Constant leaks are also modelled in NeuroML as \"degenerate\" `<ionChannel>`s with no gates at all (thus a fixed conductance).\n",
    "\n",
    "In NeuroML, an ion channel's dynamics are modelled separately from the local *reversal potential* and the *density* of its instances that are spread over cells; said parameters are modelled as part of the particular [channel distribution]( #Ion-channel-distributions ) applied on cells.\n",
    "\n",
    "Note that in the wild there may be more specific ion channel tag names such as `<ionChannelPassive>`, `<ionChannelHH>` and `<ionChannelKS>`; EDEN will parse and handle all of the contents regardless of stated type, so that poetential *hybrid* models mixing up the gate types are also supported.\n",
    "\n",
    "Refer also to the official NeuroML [guide]( https://docs.neuroml.org/Userdocs/ConvertingModels.html#b-convert-channels-to-neuroml ) and the [LEMS extension section]( intro_lems.ipynb#Custom-ion-channels,-gates-and-rates ) of this guide on how to make your own ion channels in NeuroML.\n",
    "\n",
    "In the following, the transition rates that govern the kinetics of gate variables are introduced, and in turn the various gate formulations that use these transition rates."
   ]
  },
  {
   "cell_type": "markdown",
   "metadata": {},
   "source": [
    "##### Transition rates\n",
    "\n",
    "As mentioned above, the transition between states of individual gates can (in a big enough population) be macroscopically modelled as the *fraction* of gates that are in each state, and the rates of transition (as fraction per time, or $T^{-1}$) between states. \n",
    "These rates can be expressed in NeuroML as either \"transition rate per existing fraction\" functions (also seen as [Hodgkin-Huxley]( https://en.wikipedia.org/wiki/Hodgkin-Huxley_model ) $\\alpha, \\beta$ \"rate constants\"). In chemical language, transition between two states can be expressed as the reversible reaction scheme:\n",
    "$$\n",
    "\\mathrm{Closed} ~ \\xrightleftharpoons[\\alpha]{\\beta} ~ \\mathrm{Open}\n",
    "$$\n",
    "\n",
    "Another, equivalent way to define these rate functions is through the quantities \"steady-state value to converge to\" and \"time-constant to converge to it\", which may written as $x_\\infty, \\tau$. Often this is easier to get as a measure (say, from literature), or just more convenient to write down as a formula.  These two are direcly convertible to and from $\\alpha, \\beta$ functions through the relations:\n",
    "<!-- LATER check around for more reasons? -->\n",
    "$$\n",
    "\\tau = \\frac{1}{\\alpha + \\beta},~ x_\\infty = \\frac{\\alpha}{\\alpha + \\beta} \\iff ~  \\alpha = \\frac{x_\\infty}{\\tau},~ \\beta = \\frac{1 - x_\\infty}{\\tau}\n",
    "$$\n",
    "\n",
    "Keep in mind that $\\alpha, \\beta$ (or $\\tau, x_\\infty$ just the same) *will* (as pairs) vary against external factors, such as trans-membrane voltage.  (Naturally, if the rates couldn't change then ion channels would arrive and stay at a resting equilibrium, without oscillating.)"
   ]
  },
  {
   "cell_type": "markdown",
   "metadata": {},
   "source": [
    "###### Rate formulae\n",
    "\n",
    "NeuroML includes a small set of pre-defined rate formulae `type`s as functions of membrane voltage only, in terms of: *rate* (for $\\alpha, \\beta$ functions), *steady state* (for $x_\\infty$) and *time constant* (for $\\tau$). These are used as in `<forwardRate>`s, `<reverseRate>`s, `<timeCourse>`s and `<steadyState>`s of [Hodgkin-Huxley-style gates]( #Classic-Hodgkin-Huxley-gate-dynamics ), and `forward`, `reverse` and `tauinf` `Transition`s of [Markov-style gates]( #Multi-state-Markov-gate-dynamics )  rates as applicable.  \n",
    "These pre-defined function types are:\n",
    "\n",
    "* [𝙷𝙷𝙴𝚡𝚙𝚅𝚊𝚛𝚒𝚊𝚋𝚕𝚎]( https://docs.neuroml.org/Userdocs/Schemas/Channels.html#hhexpvariable ) and [𝙷𝙷𝙴𝚡𝚙𝚁𝚊𝚝𝚎]( https://docs.neuroml.org/Userdocs/Schemas/Channels.html#hhexprate ), which are parameterisable *exponential curves*.  The general formula is:\n",
    "\\begin{gather*}\n",
    "f(V_m) = rate \\cdot e^{\\frac{V_m - midpoint}{scale}}\n",
    "\\end{gather*}\n",
    "    \n",
    "    Their attributes are:\n",
    "    \n",
    "    * `rate`: The *dependent-variable* scaling factor for the quantity represented by the curve, from the dimensionless inner curve to the function's dimensions.  Is the value of the function when membrane voltage is `midpoint`.\n",
    "    * `midpoint`: The reference point to center the curve around.  The function has the value `rate` for this value of membrane voltage.\n",
    "    * `scale`: The *independent-variable* scaling unit to evolve the curve by. Values `scale` apart on the independent variable are in a proportion of $1\\colon e$.\n",
    "        * Notice that `midpoint` and `rate` are redundant for the exponential curve, set them in the way that most makes sense.\n",
    "* [𝙷𝙷𝙴𝚡𝚙𝙻𝚒𝚗𝚎𝚊𝚛𝚅𝚊𝚛𝚒𝚊𝚋𝚕𝚎]( https://docs.neuroml.org/Userdocs/Schemas/Channels.html#hhexplinearvariable ) and [𝙷𝙷𝙴𝚡𝚙𝙻𝚒𝚗𝚎𝚊𝚛𝚁𝚊𝚝𝚎]( https://docs.neuroml.org/Userdocs/Schemas/Channels.html#hhexplinearrate ), which are parameterisable *rectified linear curves with exponential taper to zero*.  The general formula is:  \n",
    "$$\n",
    "\\begin{gathered}\n",
    "f(V_m) = rate \\cdot \\frac{a} {1 - e^{-a}}, ~~\n",
    "a = \\frac{V_m - midpoint}{scale}\n",
    "\\end{gathered}\n",
    "$$    \n",
    "    Their attributes are:\n",
    "    \n",
    "    * `rate`: The *dependent-variable* scaling factor for the quantity represented by the curve, from the dimensionless inner curve to the function's dimensions.  Is *twice* the value of the function when membrane voltage is `midpoint`.\n",
    "    * `midpoint`: The reference point to center the curve around.  The function has the value `rate/2` for this value of membrane voltage.\n",
    "    * `scale`: The *independent-variable* scaling unit to evolve the curve by.  The extent of the \"taper zone\" from linear to zero is proportional to this value.\n",
    "* [𝙷𝙷𝚂𝚒𝚐𝚖𝚘𝚒𝚍𝚅𝚊𝚛𝚒𝚊𝚋𝚕𝚎]( https://docs.neuroml.org/Userdocs/Schemas/Channels.html#hhsigmoidvariable ) and [𝙷𝙷𝚂𝚒𝚐𝚖𝚘𝚒𝚍𝚁𝚊𝚝𝚎]( https://docs.neuroml.org/Userdocs/Schemas/Channels.html#hhsigmoidrate ), which are parameterisable *[logistic]( https://en.wikipedia.org/wiki/Logistic_function ) curves*.  The general formula is:\n",
    "\\begin{gather}\n",
    "f(V_m) = rate \\cdot \\frac{1} {1 + e^{-a}}, ~~\n",
    "a = \\frac{V_m - midpoint}{scale}\n",
    "\\end{gather}\n",
    "    \n",
    "    Their attributes are:\n",
    "    \n",
    "    * `rate`: The *dependent-variable* scaling factor for the quantity represented by the curve, from the dimensionless inner curve to the function's dimensions.  Is *twice* the value of the function when membrane voltage is `midpoint`.\n",
    "    * `midpoint`: The reference point to center the curve around.  The function has the value `rate/2` for this value of membrane voltage.\n",
    "    * `scale`: The *independent-variable* scaling unit to evolve the curve by.  The extent of the \"taper zone\" between zero and maximum is proportional to this value.  \n",
    "* [𝚏𝚒𝚡𝚎𝚍𝚃𝚒𝚖𝚎𝙲𝚘𝚞𝚛𝚜𝚎]( https://docs.neuroml.org/Userdocs/Schemas/Channels.html#fixedtimecourse ), which represents a *fixed time constant* to converge to the steady state by. The only attribute is `tau`, the value of the time constant (with units).\n",
    "\n",
    "More then the pre-defined set, additional rate formulae can be supplied [using LEMS]( intro_lems.ipynb#Custom-gate-transition-rates ).\n",
    "\n",
    "Using these rate formulae, we can specify various types of ion channel *gate* dynamics."
   ]
  },
  {
   "cell_type": "markdown",
   "metadata": {},
   "source": [
    "##### General attributes of gates\n",
    "\n",
    "In the pre-defined NeuroML formulation, [\\<𝚒𝚘𝚗𝙲𝚑𝚊𝚗𝚗𝚎𝚕\\>]( #Designing-ion-channels ) models contain one or more gates.  The fraction of ion channels that are open in an aggregate population is assumed to be the multiplicative [product]( https://en.wikipedia.org/wiki/Product_(mathematics) ) of the fractions of gates that are open, where the fraction of each gate that is open is the fraction of *gate particles*, multiplied over by the number or particle *instances* it takes to actually open a gate.  \n",
    "Every sort of `<gate>` in an `<ionChannel>` must specify the following attributes:\n",
    "\n",
    "* `id`entifying name for the gate and its activation variable;\n",
    "* multiplicity as `instances`;\n",
    "    * The gate's activation is multiplied by itself this many times over, to scale the activation of the ion channels it belongs to (getting multiplied with the other gates in it as well). \n",
    "* and if the tag name is `<gate>`, an attribute that clarifies the specific dynamics `type` of the gate."
   ]
  },
  {
   "cell_type": "markdown",
   "metadata": {},
   "source": [
    "##### Classic Hodgkin-Huxley gate dynamics\n",
    "\n",
    "The most common model for a gate assigns two possible states for it: either `Open` or `Closed`.  In that case, one can consider $x$, the fraction of gates of a certain type in an ion channel population that are open; it follows that $1 - x$ of all such gates are closed.  Hence, the *state* of that gate population is captured in just one number `x`, commonly called the \"activation\" or \"gate variable\".\n",
    "\n",
    "The [transition rates]( #Transition-rates ) between these two states can be expressed as $\\alpha, \\beta$ functions, or altenatively $\\tau, x_\\infty$ (or a mix of them!). The tag names for a gate under this formalism can be [\\<𝚐𝚊𝚝𝚎𝙷𝙷𝚛𝚊𝚝𝚎𝚜\\>]( https://docs.neuroml.org/Userdocs/Schemas/Channels.html#gatehhrates ), [\\<𝚐𝚊𝚝𝚎𝙷𝙷𝚝𝚊𝚞𝙸𝚗𝚏\\>]( https://docs.neuroml.org/Userdocs/Schemas/Channels.html#gatehhtauinf ), [\\<𝚐𝚊𝚝𝚎𝙷𝙷𝚛𝚊𝚝𝚎𝚜𝚃𝚊𝚞\\>]( https://docs.neuroml.org/Userdocs/Schemas/Channels.html#gatehhratestau ), [\\<𝚐𝚊𝚝𝚎𝙷𝙷𝚛𝚊𝚝𝚎𝚜𝙸𝚗𝚏\\>]( https://docs.neuroml.org/Userdocs/Schemas/Channels.html#gatehhratesinf ), and even [\\<𝚐𝚊𝚝𝚎𝙷𝙷𝚛𝚊𝚝𝚎𝚜𝚃𝚊𝚞𝙸𝚗𝚏\\>]( https://docs.neuroml.org/Userdocs/Schemas/Channels.html#gatehhratestauinf ) so that `rates` stands for $\\alpha, \\beta$, `tau` stands for $\\tau$, `inf` stands for $x_\\infty$, and which functions are specified is contained in the tag name.\n",
    "\n",
    "As explained above, each of the tags may contain the transition rate formulae as child tags:\n",
    "\n",
    "* $\\alpha$ as `<forwardRate>` and $\\beta$ as `<reverseRate>`, each with a `type` attribute referring to a *per time*-valued function;\n",
    "* $\\tau$ as `<timeCourse>`, with a `type` attribute referring to a *time*-valued function;\n",
    "* $x_\\infty$ as `<steadyState>`, with a `type` attribute referring to a *dimensionless* function.\n",
    "\n",
    "If either $\\tau$ or $x_\\infty$ are specified, they are consulted to simulate the dynamics; otherwise, their values are derived from the $\\alpha, \\beta$ formulae.  \n",
    "This means that the $\\alpha, \\beta$ rates specified in the model may well be inconsistent with $\\tau$ and/or $x_\\infty$!  To prevent this, avoid the `<gateHHratesTauInf>` tag and prefer the `<gateHHrates>` and `<gateHHtauInf>` tags to describe the dynamics.\n",
    "<!-- LATER point to an example, or maybe below. -->"
   ]
  },
  {
   "cell_type": "markdown",
   "metadata": {},
   "source": [
    "##### Fractional HH gate dynamics\n",
    "\n",
    "Sometimes, gates are modelled as individual and independent *sub-populations*, where each \"sub-gate\" has Hodgkin-Huxley dynamics.  Since the subpopulations are independent, they contribute *additively* (not multiplicatively!) to the total activation of the gate.  The NeuroML tag to describe this is [\\<𝚐𝚊𝚝𝚎𝙵𝚛𝚊𝚌𝚝𝚒𝚘𝚗𝚊𝚕\\>]( https://docs.neuroml.org/Userdocs/Schemas/Channels.html#gatefractional ).  It contains multiple `<subGate>`s, each with attributes `id`(entifier) and `fractionalConductance` (weight by which they contribute to the `<gateFractional>`'s activation).  Each `<subGate>`is then modelled with the same attributes and semantics as a Hodgkin-Huxley-style [\\<𝚐𝚊𝚝𝚎𝙷𝙷𝚝𝚊𝚞𝙸𝚗𝚏\\>]( #Classic-Hodgkin-Huxley-gate-dynamics ).\n",
    "\n",
    "**Note**: It may make more sense if the total of a `<gateFractional>`'s `<subgate>`s adds up to 1.\n",
    "<!-- LATER point to an example.  -->"
   ]
  },
  {
   "cell_type": "markdown",
   "metadata": {},
   "source": [
    "##### Multi-state Markov gate dynamics\n",
    "\n",
    "Another way to model a gate population is to assume *more than two* possible (exclusive) states for each individual gate.  In that case the state of a gate population can be described by the fractions of gates per state they're in — but same as with Hodgkin-Huxley modelling, there is one degree of freedom *less* since all the fractions per state must add up to 1.  The various pathways for gates to (statistically) move between states are then laid out as a general *kinetic scheme* (or [continuous-time Markov process]( https://en.wikipedia.org/wiki/Continuous-time_Markov_process )).  \n",
    "**Tip**: Non-Markov kinetic schemes can also be modelled just fine, by specifying *non-stationary* transition rates [with LEMS]( intro_lems.ipynb#Custom-gate-transition-rates ).\n",
    "\n",
    "The NeuroML tag to describe this is [\\<𝚐𝚊𝚝𝚎𝙺𝚂\\>]( https://docs.neuroml.org/Userdocs/Schemas/Channels.html#gateks ).  It contains multiple `<openState>`s `<closedState>`s, each with an `id`entifier name attibute. It also contains multiple transition paths between these `state`s, as the tags:\n",
    "\n",
    "* `<forwardTransition>`, which contains a `<rate>` tag that has same attributes as the `<forwardRate>` in [HH-style gate dynamics]( #Classic-Hodgkin-Huxley-gate-dynamics ).\n",
    "* `<reverseTransition>`, which contains a `<rate>` tag with same attributes as `<reverseRate>`.\n",
    "* `<TauInfTransition>`, which expresses the rates in a different way (that would really make sense for HH dynamics).  It contains the `<timeCourse>` and `<steadyState>` tags with the same semantics as in  `<gateHHtauInf>`, but the true transition time constant and dynamic equilibrium between `from` and `to` also depend on all the other (direct and indirect) transition pathways as well.  Use the $\\tau, x_\\infty$ to $\\alpha, \\beta$ [conversion formulae]( #Transition-rates ) to retrieve the forward and reverse rates that `<TauInfTransition>` stands for.\n",
    "\n",
    "Each `Transition` must specify `from` which state it goes `to` which as attributes.  For each `<forwardTransition>` between two states there should be a `<reverseTransition>` and vice versa, and multiple transitions between a pair of states are not allowed (sum then up instead).\n",
    "\n",
    "* Even if a transition goes in one direction only, this should be made explicit by specifying a `<reverseTransition>` with a `<rate>` of constant `0`.\n",
    "\n",
    "<!-- LATER Note: explain there's no way to initialise yet!! -->"
   ]
  },
  {
   "cell_type": "markdown",
   "metadata": {},
   "source": [
    "###### Examples\n",
    "\n",
    "Take a look at the NeuroML [description]( https://github.com/OpenSourceBrain/SolinasEtAl-GolgiCell/blob/v0.1/neuroConstruct/generatedNeuroML2/KAHP_CML.channel.nml ) of the following gating kinetic scheme from [Hirschberg et al. 1998]( https://doi.org/10.1085%2Fjgp.111.4.565 ), as shown in [figure 10]( https://www.ncbi.nlm.nih.gov/pmc/articles/PMC2217120/figure/F10/ ) of this paper:\n",
    "<!-- NMLCH000091 -->\n",
    "\n",
    "$$\n",
    "\\begin{alignedat}{4}\n",
    "& C_1 \\rightleftharpoons && C_2 \\rightleftharpoons && C_3 \\rightleftharpoons && C_4 \\\\\n",
    "& && && {\\:\\upharpoonleft\\!\\downharpoonright} && {\\:\\upharpoonleft\\!\\downharpoonright} \\\\\n",
    "& && && O_1 && O_2\n",
    "\\end{alignedat}\n",
    "$$\n",
    "\n",
    "Compare and contrast with its [description]( https://modeldb.science/112685?tab=2&file=Golgi_cell/Golgi_SK2.mod ) as a MOD file for NEURON.\n",
    "\n",
    "Since the rate functions aren't part of the pre-defined rate formulae, they have been described with LEMS.  Note that all parameters are repeatedly defined for all rates, even though each rate actually cares for only one specific rate constant.  \n",
    "\n",
    "* The interested reader may thus slim down the definitions of the LEMS rates, and even further, whittle the `<ComponentType>`s down to one calcium-dependent and one fixed transition rate, as seen with the second example below.\n",
    "\n",
    "<!-- NMLCH001486 -->\n",
    "Another ion channel [modelled]( https://github.com/OpenSourceBrain/AllenInstituteNeuroML/blob/v0.1/CellTypesDatabase/models/NeuroML2/NaV.channel.nml ) with a `<gateKS>` is from [Carter et al. 2012]( https://doi.org/10.1016/j.neuron.2012.08.033 ) figure [7a]( https://www.ncbi.nlm.nih.gov/pmc/articles/PMC3460524/figure/F7/ ), with 12 separate states that arise from 6 *mechanical* states that in sequence open the ion channel, and a potential *inactivation* sub-state for each mechanical state.  Note that all these rates follow one of just two base formulae, with only different parameter values changing — that's *much neater!*\n",
    "\n",
    "###### Exercise\n",
    "\n",
    "Convert  the Markov ion channel of from the MOD file [description]( https://modeldb.science/230137?tab=2&file=SinKin_ModelDB/Nav13_a.mod ) (or other cases of the [kinetic model]( https://modeldb.science/230137) for NEURON, to a NeuroML description.  Which description is easier to read and modify, in which use cases?\n",
    "Use the `<q10Settings>` [tag]( #Gate-rate-scaling ) to model the identical effect of temperature on all transitions."
   ]
  },
  {
   "cell_type": "markdown",
   "metadata": {},
   "source": [
    "##### Instantaneous gate dynamics\n",
    "\n",
    "Finally, there are some ion channel gates that open or close *instantaneously* (or quick enough, in any case) in response to their surroundings.  Hence they don't carry an intrinsic *state variable* that affects their evolution moving forward; they are *stateless*.\n",
    "\n",
    "The behaviour of such gates is described in NeuroML as a [\\<𝚐𝚊𝚝𝚎𝙷𝙷𝙸𝚗𝚜𝚝𝚊𝚗𝚝𝚊𝚗𝚎𝚘𝚞𝚜\\>]( https://docs.neuroml.org/Userdocs/Schemas/Channels.html#gatehhinstantaneous ) tag; this contains a `<steadyState>` tag with the `type` attribute that selects the dimensionless [formula]( #Transition-rates ) for the instantaneous activation fraction, and its corresponding parameters as attributes."
   ]
  },
  {
   "cell_type": "markdown",
   "metadata": {},
   "source": [
    "##### Gate rate scaling\n",
    "\n",
    "As chemical reactions often do, an ion channel gate's transitions may be accelerated or slowed down by the local temperature (or possibly other factors in the model).  For convenience, NeuroML allows adding a `<q10Settings>` tag on any non-static type of `<gate>` (or `<subGate>`), which adds a temperature-dependence [Q₁₀ factor]( https://en.wikipedia.org/wiki/Q10_(temperature_coefficient) ) to speed up the gate by (effectively scaling $\\tau$).  \n",
    "The attributes of this tag may be either:\n",
    "\n",
    "* `q10Factor` (unitless, per 10°C) and `experimentalTemp` that the gate's recorded dynamics refer to (i.e. the temperature at which the gate behaves the same as without the `q10Settings` mentioned).\n",
    "* or `fixedQ10` (unitless scaling factor) for a reaction speed that actually stays the same within the relevant temperature zone of the model (or was calculated outside the model's description, e.g. when generating a model file and having pre-calculated rates)."
   ]
  },
  {
   "cell_type": "markdown",
   "metadata": {},
   "source": [
    "##### Conductance scaling\n",
    "\n",
    "As we saw [above]( #Gate-rate-scaling ), the open-close dynamics of ion channel gates may be affected by temperature and NeuroML offers a way to model that.  Another effect of temperature that's often encountered is that the *conductance* of certain ion channels may be altered as well.  To capture this effect, NeuroML offers the `<q10ConductanceScaling>` tag, which can be insterted to `<ionChannel>`s and has attributess `q10Factor` and `experimentalTemp`, with the same meaning as for temperature-affected gate transition rates.\n",
    "\n",
    "Refer also to how custom temperature-dependence models that may be affected by more parameters can be modelled [with LEMS]( intro_lems.ipynb#Custom-conductance-scaling-for-ion-channels ).\n",
    "\n",
    "<!-- LATER explain vShift. Another parameter that can be specified for an ion channel is `vShift`.  The effect of this parameter is determined by the that the cusomg LEMS gate dynamics that the `<IonChannelVShift>` contains. -->"
   ]
  },
  {
   "cell_type": "markdown",
   "metadata": {},
   "source": [
    "##### More dynamics models\n",
    "<!-- NEXT eden_extensions.rst -->\n",
    "Finally, there may be ion channnel models (especially ones proposed for the first time) that don't fully fall within one of the predefined formulations.  If their dynamics allow, these can still be modelled as [custom LEMS components]( intro_lems.ipynb#Custom-ion-channel-models ), and also using EDEN's [extensions to NeuroML]( user_guide.rst ) if necessary."
   ]
  },
  {
   "cell_type": "markdown",
   "metadata": {
    "jp-MarkdownHeadingCollapsed": true
   },
   "source": [
    "#### Ion channel distributions\n",
    "\n",
    "After designing an (aggregate) [ion channel mechanism]( #Designing-ion-channels ), it's time to place *instances* of this mechanism on cells.  This is done in NeuroML through *distribution* tags that designate a *type* of ion channel, an *extent* over the cell, and *parameters* of the distribution, such as `condDensity` and `erev`(ersal). (Much like the tags for [electrical biophysical properties]( #Electrotonic-properties ) do.)\n",
    "\n",
    "There are many different distribution types in NeuroML (refer to the [NeuroML reference]( https://docs.neuroml.org/Userdocs/Schemas/Cells.html#channeldensity ) and search the page for `channelDensity` and `channelPopulation`); what they all have in common is the following attributes:\n",
    "\n",
    "* `ionChannel`, which points to the ideal ion channel mechanism to replicate all over ther place (or simply scale by `conductanceDensity * compartment area` for the usual macroscopic models).\n",
    "* `ion` (optionally) which designates the specific ion species to be pooled.  May be `non_specific` when referring to an \"`<ionChannel>\"` lacking the `ion` property.  Useful then there are e.g. two separate \"pools\" of calcium which activate certain mechanisms differently for some reason.\n",
    "* `segment` or `segmentGroup` (either optionally) which designates the part of the cell to add the ion channels to; `all` if neither attribute is present.\n",
    "\n",
    "**Note**: for `<channelPopulation>`s which involve a specific `number` of ion channels, the per-individual `conductance` must have been specified for the `<ionChannel>`.\n",
    "\n",
    "<div class=\"alert alert-warning\">\n",
    "Caution\n",
    "\n",
    "If two distributions with the same `<ionChannel>` name are defined for overlapping `<segmentGroup>`s, it is ambiguous whether the distributions should *both* be instantiated, or one should replace the other, in the zone of overlap.  \n",
    "Make sure that distributions of the \"same\" ion channel mechanism do not overlap, to to avoid ambiguity!\n",
    "</div>"
   ]
  },
  {
   "cell_type": "markdown",
   "metadata": {},
   "source": [
    "#### Non-uniform ion channel distributions in NeuroML\n",
    "\n",
    "The previous way to define distributions of mechanisms specifies, for each parameter, the *same value* all over the distribution; but some times we need more that that.  Of course, one could always use a fine-grained set of tiny `<segmentGroup>`s and define a different distribution for each one of them for each non-uniform distribution, but this is cumbersome to write, read, store and use.  NeuroML offers some provisions for non-uniformity through the `<channelDensityNonUniform>`, `<channelDensityNonUniformNernst>` and `<channelDensityNonUniformGHK>` tags for ion channel distributions.\n",
    "\n",
    "<div class=\"alert alert-info\">\n",
    "Tip\n",
    " \n",
    "For a *fully general* (albeit EDEN-specific) way to control the variability of *all* mechanisms on spatially-modelled cells, refer to the relevant [usage example]( example_spatial_customsetup.ipynb ) of the `<EdenCustomSetup>` extension.\n",
    "</div>"
   ]
  },
  {
   "cell_type": "markdown",
   "metadata": {},
   "source": [
    "##### Inhomogeneous value in the `channelDensity`\n",
    "\n",
    "Instead of a `segment` or `segmentGroup` attribute, the aforementioned tags contain one or more `<variableParameter>` tags that define variability over `segmentGroup`s, each through a relevant `<inhomogeneousParameter>` in the `<segmentGroup>` and `<inhomogeneousValue>` mathematical function of said parameter.  The `<variableParameter>` tags have the following attributes:\n",
    "\n",
    "* `segmentGroup`: to distribute ion channels over, and search for `<inhomogeneousParameter>`s within;\n",
    "* `parameter`: The *biophysical attribute* to vary over the ion channel's distribution; this can be `condDensity` for `<channelDensityNonUniform>` and `<channelDensityNonUniformNernst>`,  and `permeability` for `<channelDensityNonUniformGHK>`.\n",
    "\n",
    "And inside each `<variableParameter>` tag, there is a `<inhomogeneousValue>` tag with attributes:\n",
    "\n",
    "* `inhomogeneousParameter`: The `id` of the `<inhomogeneousParameter>` specified in the `<segmentGroup>`\n",
    "* `value`: A *dimensionless* LEMS expression that involves the `<inhomogeneousParameter>` by its `variable` name.  \n",
    "  **Note:** The numerical value of the expression stands for SI units, such as  *mhos per square meter*, ${S}/{m^2}$ for `condDensity` and *metres per second*, $m/s$ for `permeability`."
   ]
  },
  {
   "cell_type": "markdown",
   "metadata": {},
   "source": [
    "##### Inhomogeneous parameters in the `morphology`\n",
    "\n",
    "To support mechanism distributions with non-uniform parameters, non-uniform dimensionless *parameters* can be defined over a `<morphology>` by inserting `<inhomogeneousParameter>` tags in it. These have the following attributes:\n",
    "\n",
    "* `id`: Must be unique within the `<segmentGroup>`.\n",
    "* `variable`: The actual variable name to be used in LEMS expressions referencing the `<inhomogeneousParameter>`.\n",
    "* `metric`: The name of the metric to give the variable values by, over the extent of the `<segmentGroup>`. The only permitted metric for now is `Path Length from root`.  \n",
    "  **Note**: Unlike most LEMS quantities, this variable is provided *dimensionless* and its value is in *microns* (if not made relative with `normalizationEnd`).\n",
    "  <!-- but also see https://github.com/NeuroML/org.neuroml1.model/blob/v1.9.1/src/main/resources/NeuroML1Schemas/Level1/MorphML_v1.8.1.xsd#L401 -->\n",
    "\n",
    "The following optional tags inside the `<inhomogeneousParameter>` apply transformations to the `metric` variable:\n",
    "\n",
    "* `<proximal translationStart=\"<value>\"/>`: *Offset* the metric so that the minimum is `value` (typically `0`).\n",
    "* `<distal   normalizationEnd=\"<value>\"/>`: *Divide* the metric my its maximum and then multiply by `value` (typically `1`), so that the variable is now a relative, *dimensionless* measure."
   ]
  },
  {
   "cell_type": "markdown",
   "metadata": {},
   "source": [
    "### Adding concentration models near the membrane\n",
    "\n",
    "Another type of local \"mechanism\" that can be present on (parts of) the neuron is *concentrations of chemical species* (typically ions) but near the cell's membrane.  The presence (and relevance) of such concentrations can be expressed in NeuroML through `<species>` tags inside `<intracellularProperties>` (i.e. along with axial `<resistivity>` tags).  \n",
    "Each `<species>` tag has the following attributes:\n",
    "\n",
    "* `id`: Name of the \"distribution\" of the concentration model.  Useful when different concentration models are used for the same species.\n",
    "* `segment` or `segmentGroup` which designates where to add the concentration model to; `all` if neither attribute is present.\n",
    "* `ion`: Name of the *substance* whose concentration is being tracked (in theory, it shouldn't be just ions though).\n",
    "* `initialConcentration`: The concentration of the chemical species near the *inner* side of the membrane, when the simulation starts.\n",
    "* `initialExtConcentration`: The concentration near the *outer* side of the membrane, when the simulation starts.  This usually is kept steady, to model a well mixed buffer when neurons are isolated on a dish; but new `<concentrationModels>` can always be have more interesting dynamics.\n",
    " \n",
    "The concentration model, i.e. relationship between incoming flux and local concentration over time for a chemical species, is described by NeuroML tags at the top level of the NeuroML files.  NeuroML offers the following types of concentration models outside the box:\n",
    "\n",
    "* [\\<𝚍𝚎𝚌𝚊𝚢𝚒𝚗𝚐𝙿𝚘𝚘𝚕𝙲𝚘𝚗𝚌𝚎𝚗𝚝𝚛𝚊𝚝𝚒𝚘𝚗𝙼𝚘𝚍𝚎𝚕\\>]( https://docs.neuroml.org/Userdocs/Schemas/Cells.html#decayingpoolconcentrationmodel ), for modelling a thin shell of a certain `shellThickness` near the compartment's membrane, and a `decayConstant` of time over which the concentration converges to `restingConc`;\n",
    "* [\\<𝚏𝚒𝚡𝚎𝚍𝙵𝚊𝚌𝚝𝚘𝚛𝙲𝚘𝚗𝚌𝚎𝚗𝚝𝚛𝚊𝚝𝚒𝚘𝚗𝙼𝚘𝚍𝚎𝚕\\>]( https://docs.neuroml.org/Userdocs/Schemas/Cells.html#fixedfactorconcentrationmodel ), for similar dynamics, but with a fixed linear relationship between the *incoming current density* and the resulting *rate of change* of the local concentration (instead of considering the Faraday constant and `shellVolume`, as the previous model does).\n",
    "\n",
    "Same as with most NeuroML mechanisms, novel concentration models can also be modelled [with LEMS]( intro_lems.ipynb#Custom-ion-concentration-models ).\n",
    "\n",
    "<div class=\"alert alert-info\">\n",
    "Note\n",
    "\n",
    "The total *species influx* arriving to the local concentration model, is the sum of all `<ionChannel>` distributions transporting the same chemical species.\n",
    "</div>\n",
    "<!-- NEXT check whether distribution or channel mech takes precedence in eden, it should be the latter; same for species vs concentration mech.  -->\n",
    "<!-- NEXT explain what if overlapping distributions.  -->\n",
    "<!-- MUCH LATER extracellularProperties, when actually formalised... -->\n",
    "<!-- LATER explain ca2. https://github.com/OpenSourceBrain/SolinasEtAl-GolgiCell/blob/v0.1/NeuroML2/Golgi.cell.nml#L28 -->"
   ]
  },
  {
   "cell_type": "markdown",
   "metadata": {},
   "source": [
    "### Attaching probes and synapses on a spatially-modelled cell\n",
    "\n",
    "As we saw in the [Introduction section]( intro_neuroml.ipynb#Adding-more-neurons-and-synapses ), mechanisms can also be individually *attached* to cells to complete the models, through `<projection>`s and `<inputList>`s in the `<network>`.\n",
    "\n",
    "The [exact spot]( #Specifying-a-location-on-a-cell ) to place these mechanisms on the cell is specified for:\n",
    "\n",
    "* `<input>`s in the `<inputList>`s, as `<segment>` and `<fractionAlong>`\n",
    "* `<connection>`s in the `<projection>`s, as `{pre,post}Segment` and `{pre,post}FractionAlong` attributes (one pair for each of the `pre`- and `post`-synaptic sites)."
   ]
  },
  {
   "cell_type": "markdown",
   "metadata": {},
   "source": [
    "### Recap \n",
    "\n",
    "These are the things which make up a *spatially-detailed biophysical* neuron model: if you've managed to read this far, you now know enough to read models of neurons, as well as make your own.\n",
    "\n",
    "Armed with this knowledge, look again at the `.cell.nml` files shown at [the start]( #Peeking-at-the-neuron-model's-structure ).  If you see anything that's still not clear now, ask about it on the [NeuroML discussion channels]( https://docs.neuroml.org/NeuroMLOrg/CommunicationChannels.html ) and tell the guide's [authors]( contact_us.rst ) to include it in this article."
   ]
  },
  {
   "cell_type": "markdown",
   "metadata": {},
   "source": [
    "## Example: Modelling and simulating a stretch of neural cable\n",
    "\n",
    "As a first tutorial, we'll implement in NeuroML and play with the simplest spatially-detailed neuron model: an unbranched *section of neural cable* (that could be part of the e.g. axon), with a spike that propagates along it following the Hodgkin-Huxley type, Na and K ion channel dynamics."
   ]
  },
  {
   "cell_type": "markdown",
   "metadata": {},
   "source": [
    "### Modelling the cell's morphology\n",
    "\n",
    "The morphology of a straight cylinder is rather simple.  We'll define only one cylindrical `<segment>` and make use of `neuroLexId=\"sao864921383\"` and `numberInternalDivisions` to have it chopped into finer compartments.\n",
    "\n",
    "* Note that, as explained [above]( #Simulation-aspect:-Discretisation-into-compartments ), the same morphology could be made by constructing individual segments and letting the default discretisation of 1 compartment per segment take hold."
   ]
  },
  {
   "cell_type": "code",
   "execution_count": null,
   "metadata": {},
   "outputs": [],
   "source": [
    "cable_length_microns = 200\n",
    "cable_diameter_microns = 1\n",
    "cable_compartments = 50\n",
    "cable_morph_file = f'''<neuroml>\n",
    "<morphology id=\"Subdivided_Morph\">\n",
    "    <segment id =\"0\" name=\"Axon_0\">\n",
    "        <proximal x=\"0\" y=\"0\" z=\"0\" diameter=\"1\"/>\n",
    "        <distal x=\"{cable_length_microns}\" y=\"0\" z=\"0\" diameter=\"{cable_diameter_microns}\"/>\n",
    "    </segment>\n",
    "    <segmentGroup id=\"axon\" neuroLexId=\"sao864921383\"> \n",
    "        <property tag=\"numberInternalDivisions\" value=\"{cable_compartments}\"/>\n",
    "        <member segment=\"0\"/>\n",
    "    </segmentGroup>\n",
    "</morphology>\n",
    "</neuroml>'''\n",
    "# print(cable_morph_file)\n",
    "with open('Subdivided_Morph.nml', 'wt') as f: f.write(cable_morph_file)"
   ]
  },
  {
   "cell_type": "markdown",
   "metadata": {},
   "source": [
    "### Modelling the membrane mechanisms\n",
    "\n",
    "Next, we'll add the ion channels from the famous Hodgkin-Huxley model, as also seen on the [official NeuroML guide]( https://docs.neuroml.org/Userdocs/SingleCompartmentHHExample.html#declaring-ion-channels ).  Note that more than by typing, NeuroML files can also be created with `pynml` as shown in the linked example, and any other suitable method.\n",
    "<!-- NEXT list the mothods in faq or auxiliary?  -->\n",
    "\n",
    "We'll make one `.channel.nml` file for each independent trans-membrane mechanism."
   ]
  },
  {
   "cell_type": "markdown",
   "metadata": {},
   "source": [
    "#### Sodium channel"
   ]
  },
  {
   "cell_type": "code",
   "execution_count": null,
   "metadata": {},
   "outputs": [],
   "source": [
    "%%writefile HH_Sodium.channel.nml\n",
    "<neuroml>\n",
    "<ionChannel id=\"na_chan\" type=\"ionChannelHH\" conductance=\"10pS\" species=\"na\">\n",
    "\n",
    "    <gateHHrates id=\"m\" instances=\"3\">\n",
    "        <q10Settings type=\"q10ExpTemp\" q10Factor=\"3\" experimentalTemp=\"6.3 degC\"/>\n",
    "        <forwardRate type=\"HHExpLinearRate\" rate=\"1per_ms\" midpoint=\"-40mV\" scale=\"10mV\"/>\n",
    "        <reverseRate type=\"HHExpRate\" rate=\"4per_ms\" midpoint=\"-65mV\" scale=\"-18mV\"/>\n",
    "    </gateHHrates>\n",
    "\n",
    "    <gateHHrates id=\"h\" instances=\"1\">\n",
    "        <q10Settings type=\"q10ExpTemp\" q10Factor=\"3\" experimentalTemp=\"6.3 degC\"/>\n",
    "        <forwardRate type=\"HHExpRate\" rate=\"0.07per_ms\" midpoint=\"-65mV\" scale=\"-20mV\"/>\n",
    "        <reverseRate type=\"HHSigmoidRate\" rate=\"1per_ms\" midpoint=\"-35mV\" scale=\"10mV\"/>\n",
    "    </gateHHrates>\n",
    "</ionChannel>\n",
    "</neuroml>"
   ]
  },
  {
   "cell_type": "markdown",
   "metadata": {},
   "source": [
    "#### Potassium channel"
   ]
  },
  {
   "cell_type": "code",
   "execution_count": null,
   "metadata": {},
   "outputs": [],
   "source": [
    "%%writefile HH_Potassium.channel.nml\n",
    "<neuroml>\n",
    "<ionChannel id=\"k_chan\" type=\"ionChannelHH\" conductance=\"10pS\" species=\"k\">\n",
    "\n",
    "    <gateHHrates id=\"n\" instances=\"4\">\n",
    "        <q10Settings type=\"q10ExpTemp\" q10Factor=\"3\" experimentalTemp=\"6.3 degC\"/>\n",
    "        <forwardRate type=\"HHExpLinearRate\" rate=\"0.1per_ms\" midpoint=\"-55mV\" scale=\"10mV\"/>\n",
    "        <reverseRate type=\"HHExpRate\" rate=\"0.125per_ms\" midpoint=\"-65mV\" scale=\"-80mV\"/>\n",
    "    </gateHHrates>\n",
    "\n",
    "</ionChannel>\n",
    "</neuroml>"
   ]
  },
  {
   "cell_type": "markdown",
   "metadata": {},
   "source": [
    "#### Passive membrane leak\n",
    "Note that we only need the `conductance` attribute defined if we're using distributions of a *counted number* of channels, such as [\\<𝚌𝚑𝚊𝚗𝚗𝚎𝚕𝙿𝚘𝚙𝚞𝚕𝚊𝚝𝚒𝚘𝚗\\>]( https://docs.neuroml.org/Userdocs/Schemas/Cells.html#channelpopulation )."
   ]
  },
  {
   "cell_type": "code",
   "execution_count": null,
   "metadata": {},
   "outputs": [],
   "source": [
    "%%writefile Passive_leak.channel.nml\n",
    "<neuroml>\n",
    "<ionChannelHH id=\"passiveChan\">\n",
    "\t\t<notes>Leak conductance</notes>\n",
    "</ionChannelHH>\n",
    "</neuroml>"
   ]
  },
  {
   "cell_type": "markdown",
   "metadata": {},
   "source": [
    "### Modelling the biophysics distributions\n",
    "\n",
    "Then, we'll apply the ion channels over the whole cable, with `erev`, `condDensity` and other biophysical parameters again as per the example in the NeuroML guide."
   ]
  },
  {
   "cell_type": "code",
   "execution_count": null,
   "metadata": {},
   "outputs": [],
   "source": [
    "%%writefile Subdivided_Cable.cell.nml\n",
    "<neuroml>\n",
    "<!-- Get the previous definitions -->\n",
    "<include href=\"Subdivided_Morph.nml\"/>\n",
    "<include href=\"HH_Sodium.channel.nml\"/>\n",
    "<include href=\"HH_Potassium.channel.nml\"/>\n",
    "<include href=\"Passive_leak.channel.nml\"/>\n",
    "\n",
    "<!-- Set the biophysics -->\n",
    "<biophysicalProperties id=\"bioPhys_Passive\">\n",
    "    <membraneProperties>\n",
    "        <channelDensity id=\"na_all\" ionChannel=\"na_chan\"     ion=\"na\"           condDensity=\"0.12   S_per_cm2\" erev=\"+50.0 mV\" />\n",
    "        <channelDensity id=\"k_all\"  ionChannel=\"k_chan\"      ion=\"k\"            condDensity=\"0.036  S_per_cm2\" erev=\"-77.0 mV\" />\n",
    "        <channelDensity id=\"leak\"   ionChannel=\"passiveChan\" ion=\"non_specific\" condDensity=\"0.0003 S_per_cm2\" erev=\"-54.3 mV\" />\n",
    "        <spikeThresh value=\"0 mV\"/>\n",
    "        <specificCapacitance value=\"1.0 uF_per_cm2\"/>\n",
    "        <initMembPotential value=\"-65mV\" />\n",
    "    </membraneProperties>\n",
    "    <intracellularProperties>\n",
    "        <resistivity value=\"1 kohm_cm\"/>   \n",
    "    </intracellularProperties>\n",
    "</biophysicalProperties>\n",
    "\n",
    "<!-- And compose into a cell type -->\n",
    "<cell id=\"Subdivided_Cable\" morphology=\"Subdivided_Morph\" biophysicalProperties=\"bioPhys_Passive\"/>\n",
    "</neuroml>"
   ]
  },
  {
   "cell_type": "markdown",
   "metadata": {},
   "source": [
    "### Modelling the experimental rig\n",
    "\n",
    "We'll put a current clamp on some $3/10$ along the cable, to see how the induced spike will propagate along the cable towards both directions."
   ]
  },
  {
   "cell_type": "code",
   "execution_count": null,
   "metadata": {},
   "outputs": [],
   "source": [
    "cable_pop_name='SingleAxon'\n",
    "model_file = f'''<neuroml>\n",
    "    <include href=\"Subdivided_Cable.cell.nml\"/>\n",
    "    \n",
    "    <pulseGenerator id=\"pulseGen1\" delay=\"5ms\" duration=\"200ms\" amplitude=\"0.1nA\"/>\n",
    "    <network id=\"Net\">\n",
    "\n",
    "        <population id=\"{cable_pop_name}\" component=\"Subdivided_Cable\" size=\"1\" />\n",
    "        <inputList id=\"stimInput_Subdivided_1\" component=\"pulseGen1\" population=\"{cable_pop_name}\">\n",
    "            <input id=\"0\" target=\"../{cable_pop_name}[0]\" segmentId=\"0\" fractionAlong=\"0.3\" destination=\"synapses\"/>\n",
    "        </inputList>\n",
    "        \n",
    "    </network>\n",
    "</neuroml>'''\n",
    "# print(model_file)\n",
    "with open('Model_LonelyAxon.nml', 'wt') as f: f.write(model_file)"
   ]
  },
  {
   "cell_type": "markdown",
   "metadata": {},
   "source": [
    "### Recording over the cell's full extent\n",
    "\n",
    "We want to record the state of the cable throughout, over time.  We'll use EDEN's `explain_cell` and `GetLemsLocatorsForCell` [helper routines]( python_api.rst#module-eden_simulator.experimental ) to tell us which *spots on the neuron* to record, so that all *compartments* are covered.\n",
    "\n",
    "<div class=\"alert alert-info\">\n",
    "Note\n",
    "\n",
    "Because official NeuroML allows recording on `<segment>`s but only on the middle of each `<segment>` (when there's only one in our stylised morphology), we'll have to use [extended LEMS path]( extension_paths.rst#lems-paths-for-cell-locations ) syntax,  which is supported by EDEN but not official NeuroML.\n",
    "</div>"
   ]
  },
  {
   "cell_type": "code",
   "execution_count": null,
   "metadata": {},
   "outputs": [],
   "source": [
    "import eden_simulator\n",
    "cells_info = eden_simulator.experimental.explain_cell('Model_LonelyAxon.nml')\n",
    "cell_info = cells_info['Subdivided_Cable']"
   ]
  },
  {
   "cell_type": "code",
   "execution_count": null,
   "metadata": {},
   "outputs": [],
   "source": [
    "comp_locators = eden_simulator.experimental.GetLemsLocatorsForCell(cell_info)\n",
    "cell_voltage_paths = [ f'{cable_pop_name}[0]/{loc}/v' for loc in comp_locators ]\n",
    "tabline = '\\n        '\n",
    "sim_file = f'''<Lems>\n",
    "<Include href=\"Model_LonelyAxon.nml\"/>\n",
    "<Simulation id=\"MySim\" length=\"100 ms\" step=\"50 us\" target=\"Net\">\n",
    "    <OutputFile id=\"MyOutFile\" fileName=\"results.gen.txt\">\n",
    "        {tabline.join([ f'<OutputColumn id=\"v_0_{loc}\"  quantity= \"{path}\"/>' for loc, path in zip(comp_locators, cell_voltage_paths)])}\n",
    "    </OutputFile>\n",
    "</Simulation>\n",
    "<Target component=\"MySim\"/></Lems>'''\n",
    "# print(sim_file)\n",
    "with open('Sim_LonelyAxon.xml', 'wt') as f: f.write(sim_file)"
   ]
  },
  {
   "cell_type": "markdown",
   "metadata": {},
   "source": [
    "### Running the simulation and displaying results"
   ]
  },
  {
   "cell_type": "code",
   "execution_count": null,
   "metadata": {},
   "outputs": [],
   "source": [
    "results = eden_simulator.runEden('Sim_LonelyAxon.xml')"
   ]
  },
  {
   "cell_type": "code",
   "execution_count": null,
   "metadata": {},
   "outputs": [],
   "source": [
    "import numpy as np\n",
    "rec_time_axis_sec = results['t']\n",
    "neuron_waveforms = np.array([results[path] for path in cell_voltage_paths])\n",
    "neuron_waveforms.shape"
   ]
  },
  {
   "cell_type": "markdown",
   "metadata": {},
   "source": [
    "Since it's a straight unbranched cable, we can intuitively assume a single spatial axis `x` along it, and plot a 2-D function over `x` and `time`.  \n",
    "\n",
    "When a neuron is more like a sprawling *tree* (or bush), we can still record along a certain linear section, but otherwise we may have to use a more *skeuomorphic* display."
   ]
  },
  {
   "cell_type": "code",
   "execution_count": null,
   "metadata": {},
   "outputs": [],
   "source": [
    "from matplotlib import pyplot as plt\n",
    "# help(plt.imshow)\n",
    "im = plt.imshow(neuron_waveforms,\n",
    "    extent=[ *rec_time_axis_sec[[0,-1]], cable_length_microns, 0 ],\n",
    "           aspect='auto',interpolation='None')\n",
    "cbar = plt.colorbar(im); cbar.set_label('Voltage (V)')\n",
    "plt.xlabel('Time (sec)');plt.ylabel('Position (μm)')\n",
    "plt.xlim((0, 0.02));"
   ]
  },
  {
   "cell_type": "markdown",
   "metadata": {},
   "source": [
    "Finally, let's visualise the \"real\" thing *in space*, painted with (of course) false colour that represents membrane voltage.  \n",
    "(And as a first step to that, reduce the amount of displayed data to a practical frame rate.)"
   ]
  },
  {
   "cell_type": "code",
   "execution_count": null,
   "metadata": {},
   "outputs": [],
   "source": [
    "from eden_simulator.display.animation import subsample_trajectories\n",
    "_, anim_axis, sampled_time_axis_sec, (sampled_voltage,) = subsample_trajectories(rec_time_axis_sec, [neuron_waveforms.T])\n",
    "print(\"Animation duration: %d frames, %.3f sec\" % (len(anim_axis), anim_axis[-1]))\n",
    "anim_axis"
   ]
  },
  {
   "cell_type": "markdown",
   "metadata": {},
   "source": [
    "Let's see the painted neuron that you might have already visualised in your mind, while modelling it. We'll use [K3D]( http://k3d-jupyter.org ) for an animated 3-D display."
   ]
  },
  {
   "cell_type": "code",
   "execution_count": null,
   "metadata": {},
   "outputs": [],
   "source": [
    "import k3d; from eden_simulator.display.spatial.k3d import Plot, plot_neuron\n",
    "plot = Cable_plot = Plot()\n",
    "plot += plot_neuron(cell_info, sampled_voltage, time_axis_sec=anim_axis, color_map='jet',);\n",
    "# Add a nice text box to inform us about the time elapsed in the simulation.\n",
    "k3d_label_dict = { str(real_time): f't = {sim_time*1000:.1f} ~ ms' for (real_time, sim_time) in zip(anim_axis, sampled_time_axis_sec)  }\n",
    "plt_label = k3d.text2d(k3d_label_dict, (0.,0.)); plot += plt_label\n",
    "# And display as a HTML inset.\n",
    "from IPython.display import HTML, display\n",
    "plot.snapshot_type = 'inline'; display(HTML(plot.get_snapshot()))"
   ]
  },
  {
   "cell_type": "raw",
   "metadata": {
    "raw_mimetype": "text/latex"
   },
   "source": [
    "\\begin{center}\\sphinxincludegraphics[width=1.0\\textwidth]{{_static/intro_spatial_cable}.png}\\end{center}"
   ]
  },
  {
   "cell_type": "markdown",
   "metadata": {},
   "source": [
    "*Exercise:* When the cable is 200 μm long, we observe that the action potential propagates slower near its statring point, than away of it.  (Enlarge the time axis or focus on a small part of it to see this clearly.)\n",
    "\n",
    "* Grow the cable to 1~2 mm (increase the `numberInternalDivisions` if necessary for an accurate result) and look again at membrane voltage over time and space.  How does the picture change?  Plot the subset, show it beside the original shorter cable so that the clamped points are aligned.\n",
    "* Why is AP propagation so sped up near the ends of the cable?  Consider the system's dynamics.\n",
    "* If an endless cable is to be modelled (to study small-scale propagation dynmaics and such), how would you alter the model, to minimise the effect of the cable's finite length?  Look up how this is handled with other types of cables.\n",
    "\n",
    "*Exercise:* Explore how the discretisation's fineness affects the result.  What happens when there are too few (or too many) compartments?  What happens as the spatial resolution *starts getting* too low or too high?  Compare and contrast with inappropriate values for the simulation's *time* step.\n",
    "\n",
    "* **Tip**: Wrap the model-to-2D-plot procedure in a routine instead of running all the cells separately."
   ]
  },
  {
   "cell_type": "markdown",
   "metadata": {},
   "source": [
    "---"
   ]
  },
  {
   "cell_type": "markdown",
   "metadata": {},
   "source": [
    "<!-- ## Example: Simulating and displaying a spatially detailed cell stylised neuron LATER -->\n",
    "\n",
    "## More resources on spatially-detailed modelling\n",
    "\n",
    "<!-- LATER resources for spatially-detailed (and in general) modelling in part \"Aux\" -->\n",
    "\n",
    "### Multi-compartment modelling in other simulators\n",
    "\n",
    "The concept of spatially-detailed neurons that are modelled as coupled compartments is also supported by other neuro-simulators, and their platform-specific modelling formats.  Readers who have learned (or are learning) to use another simulator, or want to compare and contrast the implementations of concepts and see more usage examples, may refer to: \n",
    "\n",
    "* Chapter 5 of the NEURON book (and the whole book and [user's guide]( https://nrn.readthedocs.io/ ) for more details);\n",
    "* Arbor's implementation of the concept, much in line with NEURON and NeuroML, as [\"cable\" cells]( https://docs.arbor-sim.org/en/latest/concepts/cable_cell.html );\n",
    "* Chapters 2 and 5 of the [Book of Genesis]( http://www.genesis-sim.org/GENESIS/iBoG/iBoGpdf/index.html );\n",
    "* BRIAN's multi-compartment [capability]( https://brian2.readthedocs.io/en/stable/user/multicompartmental.html ) — note that the compartment's dynamics equations are all written *explicitly* (i.e. same as with point neurons), rather than being composed of the various distributed mechansisms.\n",
    " \n",
    "## Next steps\n",
    "\n",
    "After learning how to model spatially-detailed neurons and their geometry-based biophysics, it's time to model more neurons, with more mechanisms on them and more effects that control phenomena.  Since each model and experiment typically introduces highly-specific effects, mechansims that capture them can be written by the model authors, as [LEMS extensions]( intro_lems.ipynb ).\n",
    "\n",
    "Following this tutorial, you may also try out the \"[Building a network\" tutorial]( tut_net.ipynb ), which shows how to use and display a full-featured spatially-detailed cell. As mentioned previously, if a quantity needs to vary among neurons or across their extent for a desired model, EDEN permits full control over variability through [\\<𝙴𝚍𝚎𝚗𝙲𝚞𝚜𝚝𝚘𝚖𝚂𝚎𝚝𝚞𝚙\\>]( example_spatial_customsetup.ipynb )."
   ]
  },
  {
   "cell_type": "markdown",
   "metadata": {
    "nbsphinx": "hidden"
   },
   "source": [
    "---\n",
    "Now as the last thing, we'll fetch screenshots to use in the documentation's [example gallery]( https://eden-simulator.org/gallery.html ) and hard-copy version."
   ]
  },
  {
   "cell_type": "code",
   "execution_count": null,
   "metadata": {
    "nbsphinx": "hidden"
   },
   "outputs": [],
   "source": [
    "import time\n",
    "frames = []\n",
    "\n",
    "pose_fig = [91.42233784281547, -291.6831444862936, 312.9638669630085, -43.9172126796845, -12.599190233845937, -1.7738648752623416, -0.3932368401324642, 0.5513726121942014, 0.7357669672421955]\n",
    "pose_thumb = [27.09151563354616, 129.89862595320642, 402.25000917260826, 0, 0, 0, -0.15938698375011048, 0.9575567015298092, -0.24016859238127963]\n",
    "def do_general(headless,plot):\n",
    "    plot.screenshot_scale = 2\n",
    "    plot.axes_helper = 0\n",
    "    plot.camera_auto_fit = False\n",
    "def do_with_comps(headless, plot): # print(str(plot.camera))\n",
    "    do_general(headless,plot)\n",
    "    plot.camera = pose_fig\n",
    "    yield\n",
    "    plot.camera = pose_thumb\n",
    "    yield\n",
    "def do_with_areas(headless, plot):\n",
    "    do_general(headless,plot)\n",
    "    plot.camera = pose_fig\n",
    "    yield\n",
    "def do_with_cable(headless, plot):\n",
    "    do_general(headless,plot)\n",
    "    # plot.camera = [181.51309695201138, -163.67224376383203, 6.345826426421812, 104.13533773442697, 4.430158375514144, -3.919769345107395, 0.00041194490144521884, 0.00019277940888124957, 0.9999998965687298]\n",
    "    plot.camera = [186.35457123283837, -118.25820798268165, 24.40276458403509, 124.90416385339701, 18.706548239619714, -14.852623788672135, -0.14848571098238691, 0.15075510181122362, 0.9773560727349607]\n",
    "    headless.sync(hold_until_refreshed=True)\n",
    "    plt_label.visible=False; plot -= plt_label\n",
    "    plt_mesh = plot.objects[0]\n",
    "    # until efficient cell values are in upstream, unpack; LATER add a helper to re-set value on the mesh, rather than make a new one\n",
    "    eden_simulator.display.spatial.k3d.decompress_cells(plot.objects[0])\n",
    "    # until this is fixed, set non dict values https://github.com/K3D-tools/K3D-jupyter/issues/451\n",
    "    frameis = [ np.abs(anim_axis - 6.1649).argmin() ] \n",
    "    for frame,i in enumerate(frameis):\n",
    "        attt = list(plt_mesh.attribute.items())[i][1]\n",
    "        for x in plt_mesh,: x.attribute = {k:[] for k,v in x.attribute.items()}\n",
    "        plt_mesh.attribute = attt\n",
    "    yield\n",
    "\n",
    "plots_funs = [(Cable_plot, do_with_cable, {'width': 1000, 'height':400,}),(Groups_plot, do_with_areas),(Comps_plot, do_with_comps),]\n",
    "default_opts = {\n",
    "    'width': 1000, 'height':600,\n",
    "}\n",
    "# pplot, doit = plots_funs[0][:2]\n",
    "\n",
    "for xs in plots_funs:\n",
    "    pplot, doit = xs[:2]\n",
    "    render_opts = default_opts\n",
    "    if len(xs) >= 3: render_opts = default_opts | xs[2]\n",
    "    try:\n",
    "        # print(render_opts)\n",
    "        from k3d.headless import k3d_remote, get_headless_driver\n",
    "        headless = k3d_remote(pplot, get_headless_driver(), **render_opts)\n",
    "        print(244275)\n",
    "        headless.sync(hold_until_refreshed=True)\n",
    "        for _ in doit(headless, pplot):\n",
    "            headless.sync(hold_until_refreshed=True)\n",
    "            time_start = time.time()\n",
    "            screenhot = headless.get_screenshot()\n",
    "            time_end = time.time()\n",
    "            print(f\"{time_end - time_start} sec\")\n",
    "            \n",
    "            frames.append(screenhot)\n",
    "    finally:\n",
    "        headless.close()\n",
    "\n",
    "import IPython\n",
    "IPython.display.Image(data=frames[-1])"
   ]
  },
  {
   "cell_type": "code",
   "execution_count": null,
   "metadata": {
    "nbsphinx": "hidden"
   },
   "outputs": [],
   "source": [
    "import PIL; from PIL import Image\n",
    "import io\n",
    "frames = [frames[i] for i in [0,1,2,3,3]]\n",
    "frame_data = [Image.open(io.BytesIO(x)) for x in frames]\n",
    "import IPython; from IPython.display import display_png\n",
    "# Stage 1: Crop\n",
    "crop_factors = [(0.02,0.02,0.19,0.02), (0,0,0.082,0), (0,0,0.082,0), (0.04,0,0.28,0), (0.3,0.2,0.3,0.25) ]\n",
    "l,t,r,b = (0.2,0.2,0.28,0.2)\n",
    "def crop(x, ltrb):\n",
    "    l,t,r,b = ltrb\n",
    "    return x.crop((int(l*x.size[0]), int(t*x.size[1]), int((1-r)*x.size[0]), int((1-b)*x.size[1])))\n",
    "frame_data = [crop(x,z) for x,z in zip(frame_data, crop_factors)]\n",
    "display_png(frame_data[-1]);"
   ]
  },
  {
   "cell_type": "code",
   "execution_count": null,
   "metadata": {
    "nbsphinx": "hidden"
   },
   "outputs": [],
   "source": [
    "frame_data[0].save('_static/intro_spatial_cable.png')\n",
    "frame_data[1].save('_static/intro_spatial_areas.png')\n",
    "frame_data[2].save('_static/intro_spatial_comps.png')\n",
    "frame_data[3].save('_static/thumb_intro_spatial_big.png')"
   ]
  },
  {
   "cell_type": "code",
   "execution_count": null,
   "metadata": {
    "nbsphinx": "hidden"
   },
   "outputs": [],
   "source": [
    "thumb = frame_data[4].copy()\n",
    "thumb.thumbnail((240,200))\n",
    "display_png(thumb)\n",
    "thumb.save('_static/thumb_intro_spatial.png')"
   ]
  },
  {
   "cell_type": "markdown",
   "metadata": {
    "nbsphinx": "hidden"
   },
   "source": [
    "And minimize plots for publishing."
   ]
  },
  {
   "cell_type": "code",
   "execution_count": null,
   "metadata": {
    "nbsphinx": "hidden"
   },
   "outputs": [],
   "source": [
    "from eden_simulator.display.spatial.k3d import MinimizePlot\n",
    "for x in [Comps_plot, Groups_plot, Cable_plot]: MinimizePlot(x)"
   ]
  }
 ],
 "metadata": {
  "kernelspec": {
   "display_name": "Python 3 (ipykernel)",
   "language": "python",
   "name": "python3"
  },
  "language_info": {
   "codemirror_mode": {
    "name": "ipython",
    "version": 3
   },
   "file_extension": ".py",
   "mimetype": "text/x-python",
   "name": "python",
   "nbconvert_exporter": "python",
   "pygments_lexer": "ipython3",
   "version": "3.11.4"
  }
 },
 "nbformat": 4,
 "nbformat_minor": 4
}
